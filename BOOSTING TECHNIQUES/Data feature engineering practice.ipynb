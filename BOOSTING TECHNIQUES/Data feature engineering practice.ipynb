{
 "cells": [
  {
   "cell_type": "markdown",
   "id": "cf0f0baf",
   "metadata": {},
   "source": [
    "## IMPORT PACKAGES"
   ]
  },
  {
   "cell_type": "code",
   "execution_count": 1,
   "id": "58531536",
   "metadata": {},
   "outputs": [],
   "source": [
    "import numpy as np\n",
    "import pandas as pd\n",
    "import matplotlib.pyplot as plt\n",
    "import seaborn as sns\n",
    "import sklearn"
   ]
  },
  {
   "cell_type": "code",
   "execution_count": 2,
   "id": "8662dd19",
   "metadata": {},
   "outputs": [],
   "source": [
    "import warnings\n",
    "warnings.filterwarnings('ignore')"
   ]
  },
  {
   "cell_type": "code",
   "execution_count": 3,
   "id": "a2299e97",
   "metadata": {},
   "outputs": [],
   "source": [
    "df=pd.read_csv('./creditcard (1).csv')"
   ]
  },
  {
   "cell_type": "code",
   "execution_count": 4,
   "id": "67512b02",
   "metadata": {},
   "outputs": [
    {
     "data": {
      "text/html": [
       "<div>\n",
       "<style scoped>\n",
       "    .dataframe tbody tr th:only-of-type {\n",
       "        vertical-align: middle;\n",
       "    }\n",
       "\n",
       "    .dataframe tbody tr th {\n",
       "        vertical-align: top;\n",
       "    }\n",
       "\n",
       "    .dataframe thead th {\n",
       "        text-align: right;\n",
       "    }\n",
       "</style>\n",
       "<table border=\"1\" class=\"dataframe\">\n",
       "  <thead>\n",
       "    <tr style=\"text-align: right;\">\n",
       "      <th></th>\n",
       "      <th>NPA Status</th>\n",
       "      <th>RevolvingUtilizationOfUnsecuredLines</th>\n",
       "      <th>age</th>\n",
       "      <th>Gender</th>\n",
       "      <th>Region</th>\n",
       "      <th>MonthlyIncome</th>\n",
       "      <th>Rented_OwnHouse</th>\n",
       "      <th>Occupation</th>\n",
       "      <th>Education</th>\n",
       "      <th>NumberOfTime30-59DaysPastDueNotWorse</th>\n",
       "      <th>DebtRatio</th>\n",
       "      <th>MonthlyIncome.1</th>\n",
       "      <th>NumberOfOpenCreditLinesAndLoans</th>\n",
       "      <th>NumberOfTimes90DaysLate</th>\n",
       "      <th>NumberRealEstateLoansOrLines</th>\n",
       "      <th>NumberOfTime60-89DaysPastDueNotWorse</th>\n",
       "      <th>NumberOfDependents</th>\n",
       "      <th>Good_Bad</th>\n",
       "    </tr>\n",
       "  </thead>\n",
       "  <tbody>\n",
       "    <tr>\n",
       "      <th>0</th>\n",
       "      <td>1.0</td>\n",
       "      <td>0.766127</td>\n",
       "      <td>45.0</td>\n",
       "      <td>Male</td>\n",
       "      <td>South</td>\n",
       "      <td>9120.0</td>\n",
       "      <td>Ownhouse</td>\n",
       "      <td>Self_Emp</td>\n",
       "      <td>Matric</td>\n",
       "      <td>2.0</td>\n",
       "      <td>0.802982</td>\n",
       "      <td>9120.0</td>\n",
       "      <td>13.0</td>\n",
       "      <td>0.0</td>\n",
       "      <td>6.0</td>\n",
       "      <td>0.0</td>\n",
       "      <td>2.0</td>\n",
       "      <td>Bad</td>\n",
       "    </tr>\n",
       "    <tr>\n",
       "      <th>1</th>\n",
       "      <td>0.0</td>\n",
       "      <td>0.957151</td>\n",
       "      <td>40.0</td>\n",
       "      <td>Female</td>\n",
       "      <td>South</td>\n",
       "      <td>2600.0</td>\n",
       "      <td>Ownhouse</td>\n",
       "      <td>Self_Emp</td>\n",
       "      <td>Graduate</td>\n",
       "      <td>0.0</td>\n",
       "      <td>0.121876</td>\n",
       "      <td>2600.0</td>\n",
       "      <td>4.0</td>\n",
       "      <td>0.0</td>\n",
       "      <td>0.0</td>\n",
       "      <td>0.0</td>\n",
       "      <td>1.0</td>\n",
       "      <td>Good</td>\n",
       "    </tr>\n",
       "    <tr>\n",
       "      <th>2</th>\n",
       "      <td>0.0</td>\n",
       "      <td>0.658180</td>\n",
       "      <td>38.0</td>\n",
       "      <td>Female</td>\n",
       "      <td>South</td>\n",
       "      <td>3042.0</td>\n",
       "      <td>Ownhouse</td>\n",
       "      <td>Self_Emp</td>\n",
       "      <td>PhD</td>\n",
       "      <td>1.0</td>\n",
       "      <td>0.085113</td>\n",
       "      <td>3042.0</td>\n",
       "      <td>2.0</td>\n",
       "      <td>1.0</td>\n",
       "      <td>0.0</td>\n",
       "      <td>0.0</td>\n",
       "      <td>0.0</td>\n",
       "      <td>Good</td>\n",
       "    </tr>\n",
       "    <tr>\n",
       "      <th>3</th>\n",
       "      <td>0.0</td>\n",
       "      <td>0.233810</td>\n",
       "      <td>30.0</td>\n",
       "      <td>Female</td>\n",
       "      <td>South</td>\n",
       "      <td>3300.0</td>\n",
       "      <td>Ownhouse</td>\n",
       "      <td>Self_Emp</td>\n",
       "      <td>Professional</td>\n",
       "      <td>0.0</td>\n",
       "      <td>0.036050</td>\n",
       "      <td>3300.0</td>\n",
       "      <td>5.0</td>\n",
       "      <td>0.0</td>\n",
       "      <td>0.0</td>\n",
       "      <td>0.0</td>\n",
       "      <td>0.0</td>\n",
       "      <td>Good</td>\n",
       "    </tr>\n",
       "    <tr>\n",
       "      <th>4</th>\n",
       "      <td>0.0</td>\n",
       "      <td>0.907239</td>\n",
       "      <td>49.0</td>\n",
       "      <td>Male</td>\n",
       "      <td>South</td>\n",
       "      <td>63588.0</td>\n",
       "      <td>Ownhouse</td>\n",
       "      <td>Self_Emp</td>\n",
       "      <td>Post-Grad</td>\n",
       "      <td>1.0</td>\n",
       "      <td>0.024926</td>\n",
       "      <td>63588.0</td>\n",
       "      <td>7.0</td>\n",
       "      <td>0.0</td>\n",
       "      <td>1.0</td>\n",
       "      <td>0.0</td>\n",
       "      <td>0.0</td>\n",
       "      <td>Good</td>\n",
       "    </tr>\n",
       "    <tr>\n",
       "      <th>...</th>\n",
       "      <td>...</td>\n",
       "      <td>...</td>\n",
       "      <td>...</td>\n",
       "      <td>...</td>\n",
       "      <td>...</td>\n",
       "      <td>...</td>\n",
       "      <td>...</td>\n",
       "      <td>...</td>\n",
       "      <td>...</td>\n",
       "      <td>...</td>\n",
       "      <td>...</td>\n",
       "      <td>...</td>\n",
       "      <td>...</td>\n",
       "      <td>...</td>\n",
       "      <td>...</td>\n",
       "      <td>...</td>\n",
       "      <td>...</td>\n",
       "      <td>...</td>\n",
       "    </tr>\n",
       "    <tr>\n",
       "      <th>149997</th>\n",
       "      <td>0.0</td>\n",
       "      <td>0.246044</td>\n",
       "      <td>58.0</td>\n",
       "      <td>Male</td>\n",
       "      <td>North</td>\n",
       "      <td>NaN</td>\n",
       "      <td>Rented</td>\n",
       "      <td>Officer2</td>\n",
       "      <td>Professional</td>\n",
       "      <td>0.0</td>\n",
       "      <td>3870.000000</td>\n",
       "      <td>NaN</td>\n",
       "      <td>18.0</td>\n",
       "      <td>0.0</td>\n",
       "      <td>1.0</td>\n",
       "      <td>0.0</td>\n",
       "      <td>0</td>\n",
       "      <td>Good</td>\n",
       "    </tr>\n",
       "    <tr>\n",
       "      <th>149998</th>\n",
       "      <td>0.0</td>\n",
       "      <td>0.000000</td>\n",
       "      <td>30.0</td>\n",
       "      <td>Male</td>\n",
       "      <td>North</td>\n",
       "      <td>5716.0</td>\n",
       "      <td>Rented</td>\n",
       "      <td>Non-officer</td>\n",
       "      <td>Professional</td>\n",
       "      <td>0.0</td>\n",
       "      <td>0.000000</td>\n",
       "      <td>5716.0</td>\n",
       "      <td>4.0</td>\n",
       "      <td>0.0</td>\n",
       "      <td>0.0</td>\n",
       "      <td>0.0</td>\n",
       "      <td>0</td>\n",
       "      <td>Good</td>\n",
       "    </tr>\n",
       "    <tr>\n",
       "      <th>149999</th>\n",
       "      <td>0.0</td>\n",
       "      <td>0.850283</td>\n",
       "      <td>64.0</td>\n",
       "      <td>Male</td>\n",
       "      <td>North</td>\n",
       "      <td>8158.0</td>\n",
       "      <td>Ownhouse</td>\n",
       "      <td>Self_Emp</td>\n",
       "      <td>Professional</td>\n",
       "      <td>0.0</td>\n",
       "      <td>0.249908</td>\n",
       "      <td>8158.0</td>\n",
       "      <td>8.0</td>\n",
       "      <td>0.0</td>\n",
       "      <td>2.0</td>\n",
       "      <td>0.0</td>\n",
       "      <td>0</td>\n",
       "      <td>Good</td>\n",
       "    </tr>\n",
       "    <tr>\n",
       "      <th>150000</th>\n",
       "      <td>NaN</td>\n",
       "      <td>NaN</td>\n",
       "      <td>NaN</td>\n",
       "      <td>NaN</td>\n",
       "      <td>NaN</td>\n",
       "      <td>NaN</td>\n",
       "      <td>NaN</td>\n",
       "      <td>NaN</td>\n",
       "      <td>NaN</td>\n",
       "      <td>NaN</td>\n",
       "      <td>NaN</td>\n",
       "      <td>NaN</td>\n",
       "      <td>NaN</td>\n",
       "      <td>NaN</td>\n",
       "      <td>NaN</td>\n",
       "      <td>NaN</td>\n",
       "      <td>Good</td>\n",
       "      <td>NaN</td>\n",
       "    </tr>\n",
       "    <tr>\n",
       "      <th>150001</th>\n",
       "      <td>NaN</td>\n",
       "      <td>NaN</td>\n",
       "      <td>NaN</td>\n",
       "      <td>NaN</td>\n",
       "      <td>NaN</td>\n",
       "      <td>NaN</td>\n",
       "      <td>NaN</td>\n",
       "      <td>NaN</td>\n",
       "      <td>NaN</td>\n",
       "      <td>NaN</td>\n",
       "      <td>NaN</td>\n",
       "      <td>NaN</td>\n",
       "      <td>NaN</td>\n",
       "      <td>NaN</td>\n",
       "      <td>NaN</td>\n",
       "      <td>NaN</td>\n",
       "      <td>Bad</td>\n",
       "      <td>NaN</td>\n",
       "    </tr>\n",
       "  </tbody>\n",
       "</table>\n",
       "<p>150002 rows × 18 columns</p>\n",
       "</div>"
      ],
      "text/plain": [
       "        NPA Status  RevolvingUtilizationOfUnsecuredLines   age  Gender Region  \\\n",
       "0              1.0                              0.766127  45.0    Male  South   \n",
       "1              0.0                              0.957151  40.0  Female  South   \n",
       "2              0.0                              0.658180  38.0  Female  South   \n",
       "3              0.0                              0.233810  30.0  Female  South   \n",
       "4              0.0                              0.907239  49.0    Male  South   \n",
       "...            ...                                   ...   ...     ...    ...   \n",
       "149997         0.0                              0.246044  58.0    Male  North   \n",
       "149998         0.0                              0.000000  30.0    Male  North   \n",
       "149999         0.0                              0.850283  64.0    Male  North   \n",
       "150000         NaN                                   NaN   NaN     NaN    NaN   \n",
       "150001         NaN                                   NaN   NaN     NaN    NaN   \n",
       "\n",
       "        MonthlyIncome Rented_OwnHouse   Occupation     Education  \\\n",
       "0              9120.0        Ownhouse     Self_Emp        Matric   \n",
       "1              2600.0        Ownhouse     Self_Emp      Graduate   \n",
       "2              3042.0        Ownhouse     Self_Emp           PhD   \n",
       "3              3300.0        Ownhouse     Self_Emp  Professional   \n",
       "4             63588.0        Ownhouse     Self_Emp     Post-Grad   \n",
       "...               ...             ...          ...           ...   \n",
       "149997            NaN          Rented     Officer2  Professional   \n",
       "149998         5716.0          Rented  Non-officer  Professional   \n",
       "149999         8158.0        Ownhouse     Self_Emp  Professional   \n",
       "150000            NaN             NaN          NaN           NaN   \n",
       "150001            NaN             NaN          NaN           NaN   \n",
       "\n",
       "        NumberOfTime30-59DaysPastDueNotWorse    DebtRatio  MonthlyIncome.1  \\\n",
       "0                                        2.0     0.802982           9120.0   \n",
       "1                                        0.0     0.121876           2600.0   \n",
       "2                                        1.0     0.085113           3042.0   \n",
       "3                                        0.0     0.036050           3300.0   \n",
       "4                                        1.0     0.024926          63588.0   \n",
       "...                                      ...          ...              ...   \n",
       "149997                                   0.0  3870.000000              NaN   \n",
       "149998                                   0.0     0.000000           5716.0   \n",
       "149999                                   0.0     0.249908           8158.0   \n",
       "150000                                   NaN          NaN              NaN   \n",
       "150001                                   NaN          NaN              NaN   \n",
       "\n",
       "        NumberOfOpenCreditLinesAndLoans  NumberOfTimes90DaysLate  \\\n",
       "0                                  13.0                      0.0   \n",
       "1                                   4.0                      0.0   \n",
       "2                                   2.0                      1.0   \n",
       "3                                   5.0                      0.0   \n",
       "4                                   7.0                      0.0   \n",
       "...                                 ...                      ...   \n",
       "149997                             18.0                      0.0   \n",
       "149998                              4.0                      0.0   \n",
       "149999                              8.0                      0.0   \n",
       "150000                              NaN                      NaN   \n",
       "150001                              NaN                      NaN   \n",
       "\n",
       "        NumberRealEstateLoansOrLines  NumberOfTime60-89DaysPastDueNotWorse  \\\n",
       "0                                6.0                                   0.0   \n",
       "1                                0.0                                   0.0   \n",
       "2                                0.0                                   0.0   \n",
       "3                                0.0                                   0.0   \n",
       "4                                1.0                                   0.0   \n",
       "...                              ...                                   ...   \n",
       "149997                           1.0                                   0.0   \n",
       "149998                           0.0                                   0.0   \n",
       "149999                           2.0                                   0.0   \n",
       "150000                           NaN                                   NaN   \n",
       "150001                           NaN                                   NaN   \n",
       "\n",
       "       NumberOfDependents Good_Bad  \n",
       "0                     2.0      Bad  \n",
       "1                     1.0     Good  \n",
       "2                     0.0     Good  \n",
       "3                     0.0     Good  \n",
       "4                     0.0     Good  \n",
       "...                   ...      ...  \n",
       "149997                  0     Good  \n",
       "149998                  0     Good  \n",
       "149999                  0     Good  \n",
       "150000               Good      NaN  \n",
       "150001                Bad      NaN  \n",
       "\n",
       "[150002 rows x 18 columns]"
      ]
     },
     "execution_count": 4,
     "metadata": {},
     "output_type": "execute_result"
    }
   ],
   "source": [
    "df"
   ]
  },
  {
   "cell_type": "code",
   "execution_count": 5,
   "id": "87a0a792",
   "metadata": {},
   "outputs": [
    {
     "data": {
      "text/plain": [
       "(150002, 18)"
      ]
     },
     "execution_count": 5,
     "metadata": {},
     "output_type": "execute_result"
    }
   ],
   "source": [
    "df.shape"
   ]
  },
  {
   "cell_type": "markdown",
   "id": "e79fd345",
   "metadata": {},
   "source": [
    "## Data preprocessing"
   ]
  },
  {
   "cell_type": "code",
   "execution_count": 6,
   "id": "35c8b405",
   "metadata": {},
   "outputs": [],
   "source": [
    "## Splitting the data into train and test data"
   ]
  },
  {
   "cell_type": "code",
   "execution_count": 7,
   "id": "1401e523",
   "metadata": {},
   "outputs": [],
   "source": [
    "from sklearn.model_selection import train_test_split"
   ]
  },
  {
   "cell_type": "code",
   "execution_count": 8,
   "id": "c551f275",
   "metadata": {},
   "outputs": [],
   "source": [
    "x=df.drop(['Good_Bad'], axis=1)\n",
    "y=df['Good_Bad']"
   ]
  },
  {
   "cell_type": "code",
   "execution_count": 9,
   "id": "66885b55",
   "metadata": {},
   "outputs": [
    {
     "data": {
      "text/html": [
       "<div>\n",
       "<style scoped>\n",
       "    .dataframe tbody tr th:only-of-type {\n",
       "        vertical-align: middle;\n",
       "    }\n",
       "\n",
       "    .dataframe tbody tr th {\n",
       "        vertical-align: top;\n",
       "    }\n",
       "\n",
       "    .dataframe thead th {\n",
       "        text-align: right;\n",
       "    }\n",
       "</style>\n",
       "<table border=\"1\" class=\"dataframe\">\n",
       "  <thead>\n",
       "    <tr style=\"text-align: right;\">\n",
       "      <th></th>\n",
       "      <th>NPA Status</th>\n",
       "      <th>RevolvingUtilizationOfUnsecuredLines</th>\n",
       "      <th>age</th>\n",
       "      <th>Gender</th>\n",
       "      <th>Region</th>\n",
       "      <th>MonthlyIncome</th>\n",
       "      <th>Rented_OwnHouse</th>\n",
       "      <th>Occupation</th>\n",
       "      <th>Education</th>\n",
       "      <th>NumberOfTime30-59DaysPastDueNotWorse</th>\n",
       "      <th>DebtRatio</th>\n",
       "      <th>MonthlyIncome.1</th>\n",
       "      <th>NumberOfOpenCreditLinesAndLoans</th>\n",
       "      <th>NumberOfTimes90DaysLate</th>\n",
       "      <th>NumberRealEstateLoansOrLines</th>\n",
       "      <th>NumberOfTime60-89DaysPastDueNotWorse</th>\n",
       "      <th>NumberOfDependents</th>\n",
       "    </tr>\n",
       "  </thead>\n",
       "  <tbody>\n",
       "    <tr>\n",
       "      <th>0</th>\n",
       "      <td>1.0</td>\n",
       "      <td>0.766127</td>\n",
       "      <td>45.0</td>\n",
       "      <td>Male</td>\n",
       "      <td>South</td>\n",
       "      <td>9120.0</td>\n",
       "      <td>Ownhouse</td>\n",
       "      <td>Self_Emp</td>\n",
       "      <td>Matric</td>\n",
       "      <td>2.0</td>\n",
       "      <td>0.802982</td>\n",
       "      <td>9120.0</td>\n",
       "      <td>13.0</td>\n",
       "      <td>0.0</td>\n",
       "      <td>6.0</td>\n",
       "      <td>0.0</td>\n",
       "      <td>2.0</td>\n",
       "    </tr>\n",
       "    <tr>\n",
       "      <th>1</th>\n",
       "      <td>0.0</td>\n",
       "      <td>0.957151</td>\n",
       "      <td>40.0</td>\n",
       "      <td>Female</td>\n",
       "      <td>South</td>\n",
       "      <td>2600.0</td>\n",
       "      <td>Ownhouse</td>\n",
       "      <td>Self_Emp</td>\n",
       "      <td>Graduate</td>\n",
       "      <td>0.0</td>\n",
       "      <td>0.121876</td>\n",
       "      <td>2600.0</td>\n",
       "      <td>4.0</td>\n",
       "      <td>0.0</td>\n",
       "      <td>0.0</td>\n",
       "      <td>0.0</td>\n",
       "      <td>1.0</td>\n",
       "    </tr>\n",
       "    <tr>\n",
       "      <th>2</th>\n",
       "      <td>0.0</td>\n",
       "      <td>0.658180</td>\n",
       "      <td>38.0</td>\n",
       "      <td>Female</td>\n",
       "      <td>South</td>\n",
       "      <td>3042.0</td>\n",
       "      <td>Ownhouse</td>\n",
       "      <td>Self_Emp</td>\n",
       "      <td>PhD</td>\n",
       "      <td>1.0</td>\n",
       "      <td>0.085113</td>\n",
       "      <td>3042.0</td>\n",
       "      <td>2.0</td>\n",
       "      <td>1.0</td>\n",
       "      <td>0.0</td>\n",
       "      <td>0.0</td>\n",
       "      <td>0.0</td>\n",
       "    </tr>\n",
       "    <tr>\n",
       "      <th>3</th>\n",
       "      <td>0.0</td>\n",
       "      <td>0.233810</td>\n",
       "      <td>30.0</td>\n",
       "      <td>Female</td>\n",
       "      <td>South</td>\n",
       "      <td>3300.0</td>\n",
       "      <td>Ownhouse</td>\n",
       "      <td>Self_Emp</td>\n",
       "      <td>Professional</td>\n",
       "      <td>0.0</td>\n",
       "      <td>0.036050</td>\n",
       "      <td>3300.0</td>\n",
       "      <td>5.0</td>\n",
       "      <td>0.0</td>\n",
       "      <td>0.0</td>\n",
       "      <td>0.0</td>\n",
       "      <td>0.0</td>\n",
       "    </tr>\n",
       "    <tr>\n",
       "      <th>4</th>\n",
       "      <td>0.0</td>\n",
       "      <td>0.907239</td>\n",
       "      <td>49.0</td>\n",
       "      <td>Male</td>\n",
       "      <td>South</td>\n",
       "      <td>63588.0</td>\n",
       "      <td>Ownhouse</td>\n",
       "      <td>Self_Emp</td>\n",
       "      <td>Post-Grad</td>\n",
       "      <td>1.0</td>\n",
       "      <td>0.024926</td>\n",
       "      <td>63588.0</td>\n",
       "      <td>7.0</td>\n",
       "      <td>0.0</td>\n",
       "      <td>1.0</td>\n",
       "      <td>0.0</td>\n",
       "      <td>0.0</td>\n",
       "    </tr>\n",
       "    <tr>\n",
       "      <th>...</th>\n",
       "      <td>...</td>\n",
       "      <td>...</td>\n",
       "      <td>...</td>\n",
       "      <td>...</td>\n",
       "      <td>...</td>\n",
       "      <td>...</td>\n",
       "      <td>...</td>\n",
       "      <td>...</td>\n",
       "      <td>...</td>\n",
       "      <td>...</td>\n",
       "      <td>...</td>\n",
       "      <td>...</td>\n",
       "      <td>...</td>\n",
       "      <td>...</td>\n",
       "      <td>...</td>\n",
       "      <td>...</td>\n",
       "      <td>...</td>\n",
       "    </tr>\n",
       "    <tr>\n",
       "      <th>149997</th>\n",
       "      <td>0.0</td>\n",
       "      <td>0.246044</td>\n",
       "      <td>58.0</td>\n",
       "      <td>Male</td>\n",
       "      <td>North</td>\n",
       "      <td>NaN</td>\n",
       "      <td>Rented</td>\n",
       "      <td>Officer2</td>\n",
       "      <td>Professional</td>\n",
       "      <td>0.0</td>\n",
       "      <td>3870.000000</td>\n",
       "      <td>NaN</td>\n",
       "      <td>18.0</td>\n",
       "      <td>0.0</td>\n",
       "      <td>1.0</td>\n",
       "      <td>0.0</td>\n",
       "      <td>0</td>\n",
       "    </tr>\n",
       "    <tr>\n",
       "      <th>149998</th>\n",
       "      <td>0.0</td>\n",
       "      <td>0.000000</td>\n",
       "      <td>30.0</td>\n",
       "      <td>Male</td>\n",
       "      <td>North</td>\n",
       "      <td>5716.0</td>\n",
       "      <td>Rented</td>\n",
       "      <td>Non-officer</td>\n",
       "      <td>Professional</td>\n",
       "      <td>0.0</td>\n",
       "      <td>0.000000</td>\n",
       "      <td>5716.0</td>\n",
       "      <td>4.0</td>\n",
       "      <td>0.0</td>\n",
       "      <td>0.0</td>\n",
       "      <td>0.0</td>\n",
       "      <td>0</td>\n",
       "    </tr>\n",
       "    <tr>\n",
       "      <th>149999</th>\n",
       "      <td>0.0</td>\n",
       "      <td>0.850283</td>\n",
       "      <td>64.0</td>\n",
       "      <td>Male</td>\n",
       "      <td>North</td>\n",
       "      <td>8158.0</td>\n",
       "      <td>Ownhouse</td>\n",
       "      <td>Self_Emp</td>\n",
       "      <td>Professional</td>\n",
       "      <td>0.0</td>\n",
       "      <td>0.249908</td>\n",
       "      <td>8158.0</td>\n",
       "      <td>8.0</td>\n",
       "      <td>0.0</td>\n",
       "      <td>2.0</td>\n",
       "      <td>0.0</td>\n",
       "      <td>0</td>\n",
       "    </tr>\n",
       "    <tr>\n",
       "      <th>150000</th>\n",
       "      <td>NaN</td>\n",
       "      <td>NaN</td>\n",
       "      <td>NaN</td>\n",
       "      <td>NaN</td>\n",
       "      <td>NaN</td>\n",
       "      <td>NaN</td>\n",
       "      <td>NaN</td>\n",
       "      <td>NaN</td>\n",
       "      <td>NaN</td>\n",
       "      <td>NaN</td>\n",
       "      <td>NaN</td>\n",
       "      <td>NaN</td>\n",
       "      <td>NaN</td>\n",
       "      <td>NaN</td>\n",
       "      <td>NaN</td>\n",
       "      <td>NaN</td>\n",
       "      <td>Good</td>\n",
       "    </tr>\n",
       "    <tr>\n",
       "      <th>150001</th>\n",
       "      <td>NaN</td>\n",
       "      <td>NaN</td>\n",
       "      <td>NaN</td>\n",
       "      <td>NaN</td>\n",
       "      <td>NaN</td>\n",
       "      <td>NaN</td>\n",
       "      <td>NaN</td>\n",
       "      <td>NaN</td>\n",
       "      <td>NaN</td>\n",
       "      <td>NaN</td>\n",
       "      <td>NaN</td>\n",
       "      <td>NaN</td>\n",
       "      <td>NaN</td>\n",
       "      <td>NaN</td>\n",
       "      <td>NaN</td>\n",
       "      <td>NaN</td>\n",
       "      <td>Bad</td>\n",
       "    </tr>\n",
       "  </tbody>\n",
       "</table>\n",
       "<p>150002 rows × 17 columns</p>\n",
       "</div>"
      ],
      "text/plain": [
       "        NPA Status  RevolvingUtilizationOfUnsecuredLines   age  Gender Region  \\\n",
       "0              1.0                              0.766127  45.0    Male  South   \n",
       "1              0.0                              0.957151  40.0  Female  South   \n",
       "2              0.0                              0.658180  38.0  Female  South   \n",
       "3              0.0                              0.233810  30.0  Female  South   \n",
       "4              0.0                              0.907239  49.0    Male  South   \n",
       "...            ...                                   ...   ...     ...    ...   \n",
       "149997         0.0                              0.246044  58.0    Male  North   \n",
       "149998         0.0                              0.000000  30.0    Male  North   \n",
       "149999         0.0                              0.850283  64.0    Male  North   \n",
       "150000         NaN                                   NaN   NaN     NaN    NaN   \n",
       "150001         NaN                                   NaN   NaN     NaN    NaN   \n",
       "\n",
       "        MonthlyIncome Rented_OwnHouse   Occupation     Education  \\\n",
       "0              9120.0        Ownhouse     Self_Emp        Matric   \n",
       "1              2600.0        Ownhouse     Self_Emp      Graduate   \n",
       "2              3042.0        Ownhouse     Self_Emp           PhD   \n",
       "3              3300.0        Ownhouse     Self_Emp  Professional   \n",
       "4             63588.0        Ownhouse     Self_Emp     Post-Grad   \n",
       "...               ...             ...          ...           ...   \n",
       "149997            NaN          Rented     Officer2  Professional   \n",
       "149998         5716.0          Rented  Non-officer  Professional   \n",
       "149999         8158.0        Ownhouse     Self_Emp  Professional   \n",
       "150000            NaN             NaN          NaN           NaN   \n",
       "150001            NaN             NaN          NaN           NaN   \n",
       "\n",
       "        NumberOfTime30-59DaysPastDueNotWorse    DebtRatio  MonthlyIncome.1  \\\n",
       "0                                        2.0     0.802982           9120.0   \n",
       "1                                        0.0     0.121876           2600.0   \n",
       "2                                        1.0     0.085113           3042.0   \n",
       "3                                        0.0     0.036050           3300.0   \n",
       "4                                        1.0     0.024926          63588.0   \n",
       "...                                      ...          ...              ...   \n",
       "149997                                   0.0  3870.000000              NaN   \n",
       "149998                                   0.0     0.000000           5716.0   \n",
       "149999                                   0.0     0.249908           8158.0   \n",
       "150000                                   NaN          NaN              NaN   \n",
       "150001                                   NaN          NaN              NaN   \n",
       "\n",
       "        NumberOfOpenCreditLinesAndLoans  NumberOfTimes90DaysLate  \\\n",
       "0                                  13.0                      0.0   \n",
       "1                                   4.0                      0.0   \n",
       "2                                   2.0                      1.0   \n",
       "3                                   5.0                      0.0   \n",
       "4                                   7.0                      0.0   \n",
       "...                                 ...                      ...   \n",
       "149997                             18.0                      0.0   \n",
       "149998                              4.0                      0.0   \n",
       "149999                              8.0                      0.0   \n",
       "150000                              NaN                      NaN   \n",
       "150001                              NaN                      NaN   \n",
       "\n",
       "        NumberRealEstateLoansOrLines  NumberOfTime60-89DaysPastDueNotWorse  \\\n",
       "0                                6.0                                   0.0   \n",
       "1                                0.0                                   0.0   \n",
       "2                                0.0                                   0.0   \n",
       "3                                0.0                                   0.0   \n",
       "4                                1.0                                   0.0   \n",
       "...                              ...                                   ...   \n",
       "149997                           1.0                                   0.0   \n",
       "149998                           0.0                                   0.0   \n",
       "149999                           2.0                                   0.0   \n",
       "150000                           NaN                                   NaN   \n",
       "150001                           NaN                                   NaN   \n",
       "\n",
       "       NumberOfDependents  \n",
       "0                     2.0  \n",
       "1                     1.0  \n",
       "2                     0.0  \n",
       "3                     0.0  \n",
       "4                     0.0  \n",
       "...                   ...  \n",
       "149997                  0  \n",
       "149998                  0  \n",
       "149999                  0  \n",
       "150000               Good  \n",
       "150001                Bad  \n",
       "\n",
       "[150002 rows x 17 columns]"
      ]
     },
     "execution_count": 9,
     "metadata": {},
     "output_type": "execute_result"
    }
   ],
   "source": [
    "x"
   ]
  },
  {
   "cell_type": "code",
   "execution_count": 10,
   "id": "7d072543",
   "metadata": {},
   "outputs": [
    {
     "data": {
      "text/plain": [
       "0          Bad\n",
       "1         Good\n",
       "2         Good\n",
       "3         Good\n",
       "4         Good\n",
       "          ... \n",
       "149997    Good\n",
       "149998    Good\n",
       "149999    Good\n",
       "150000     NaN\n",
       "150001     NaN\n",
       "Name: Good_Bad, Length: 150002, dtype: object"
      ]
     },
     "execution_count": 10,
     "metadata": {},
     "output_type": "execute_result"
    }
   ],
   "source": [
    "y"
   ]
  },
  {
   "cell_type": "code",
   "execution_count": 11,
   "id": "a4e266b9",
   "metadata": {},
   "outputs": [],
   "source": [
    "x_train, x_test, y_train, y_test = train_test_split(  x, y, test_size=0.1, random_state=11)"
   ]
  },
  {
   "cell_type": "code",
   "execution_count": 12,
   "id": "844b7afe",
   "metadata": {},
   "outputs": [
    {
     "data": {
      "text/plain": [
       "(150002, 18)"
      ]
     },
     "execution_count": 12,
     "metadata": {},
     "output_type": "execute_result"
    }
   ],
   "source": [
    "df.shape"
   ]
  },
  {
   "cell_type": "code",
   "execution_count": 13,
   "id": "5fdd4d68",
   "metadata": {},
   "outputs": [
    {
     "data": {
      "text/html": [
       "<div>\n",
       "<style scoped>\n",
       "    .dataframe tbody tr th:only-of-type {\n",
       "        vertical-align: middle;\n",
       "    }\n",
       "\n",
       "    .dataframe tbody tr th {\n",
       "        vertical-align: top;\n",
       "    }\n",
       "\n",
       "    .dataframe thead th {\n",
       "        text-align: right;\n",
       "    }\n",
       "</style>\n",
       "<table border=\"1\" class=\"dataframe\">\n",
       "  <thead>\n",
       "    <tr style=\"text-align: right;\">\n",
       "      <th></th>\n",
       "      <th>NPA Status</th>\n",
       "      <th>RevolvingUtilizationOfUnsecuredLines</th>\n",
       "      <th>age</th>\n",
       "      <th>Gender</th>\n",
       "      <th>Region</th>\n",
       "      <th>MonthlyIncome</th>\n",
       "      <th>Rented_OwnHouse</th>\n",
       "      <th>Occupation</th>\n",
       "      <th>Education</th>\n",
       "      <th>NumberOfTime30-59DaysPastDueNotWorse</th>\n",
       "      <th>DebtRatio</th>\n",
       "      <th>MonthlyIncome.1</th>\n",
       "      <th>NumberOfOpenCreditLinesAndLoans</th>\n",
       "      <th>NumberOfTimes90DaysLate</th>\n",
       "      <th>NumberRealEstateLoansOrLines</th>\n",
       "      <th>NumberOfTime60-89DaysPastDueNotWorse</th>\n",
       "      <th>NumberOfDependents</th>\n",
       "    </tr>\n",
       "  </thead>\n",
       "  <tbody>\n",
       "    <tr>\n",
       "      <th>149883</th>\n",
       "      <td>0.0</td>\n",
       "      <td>0.004145</td>\n",
       "      <td>48.0</td>\n",
       "      <td>Male</td>\n",
       "      <td>North</td>\n",
       "      <td>8960.0</td>\n",
       "      <td>Rented</td>\n",
       "      <td>Officer2</td>\n",
       "      <td>Professional</td>\n",
       "      <td>0.0</td>\n",
       "      <td>0.248633</td>\n",
       "      <td>8960.0</td>\n",
       "      <td>5.0</td>\n",
       "      <td>0.0</td>\n",
       "      <td>2.0</td>\n",
       "      <td>0.0</td>\n",
       "      <td>3</td>\n",
       "    </tr>\n",
       "    <tr>\n",
       "      <th>34945</th>\n",
       "      <td>1.0</td>\n",
       "      <td>1.000000</td>\n",
       "      <td>32.0</td>\n",
       "      <td>Male</td>\n",
       "      <td>West</td>\n",
       "      <td>2120.0</td>\n",
       "      <td>Ownhouse</td>\n",
       "      <td>Self_Emp</td>\n",
       "      <td>Matric</td>\n",
       "      <td>3.0</td>\n",
       "      <td>0.813767</td>\n",
       "      <td>2120.0</td>\n",
       "      <td>3.0</td>\n",
       "      <td>0.0</td>\n",
       "      <td>1.0</td>\n",
       "      <td>0.0</td>\n",
       "      <td>4.0</td>\n",
       "    </tr>\n",
       "    <tr>\n",
       "      <th>120143</th>\n",
       "      <td>0.0</td>\n",
       "      <td>0.413995</td>\n",
       "      <td>58.0</td>\n",
       "      <td>Male</td>\n",
       "      <td>West</td>\n",
       "      <td>17500.0</td>\n",
       "      <td>Ownhouse</td>\n",
       "      <td>Self_Emp</td>\n",
       "      <td>Graduate</td>\n",
       "      <td>0.0</td>\n",
       "      <td>0.236386</td>\n",
       "      <td>17500.0</td>\n",
       "      <td>9.0</td>\n",
       "      <td>0.0</td>\n",
       "      <td>2.0</td>\n",
       "      <td>0.0</td>\n",
       "      <td>0.0</td>\n",
       "    </tr>\n",
       "    <tr>\n",
       "      <th>56652</th>\n",
       "      <td>0.0</td>\n",
       "      <td>0.437853</td>\n",
       "      <td>74.0</td>\n",
       "      <td>Male</td>\n",
       "      <td>East</td>\n",
       "      <td>5000.0</td>\n",
       "      <td>Rented</td>\n",
       "      <td>Non-officer</td>\n",
       "      <td>Professional</td>\n",
       "      <td>0.0</td>\n",
       "      <td>0.259748</td>\n",
       "      <td>5000.0</td>\n",
       "      <td>12.0</td>\n",
       "      <td>0.0</td>\n",
       "      <td>0.0</td>\n",
       "      <td>0.0</td>\n",
       "      <td>1.0</td>\n",
       "    </tr>\n",
       "    <tr>\n",
       "      <th>17440</th>\n",
       "      <td>0.0</td>\n",
       "      <td>0.370125</td>\n",
       "      <td>36.0</td>\n",
       "      <td>Male</td>\n",
       "      <td>North</td>\n",
       "      <td>2750.0</td>\n",
       "      <td>Ownhouse</td>\n",
       "      <td>Self_Emp</td>\n",
       "      <td>Post-Grad</td>\n",
       "      <td>0.0</td>\n",
       "      <td>0.497274</td>\n",
       "      <td>2750.0</td>\n",
       "      <td>8.0</td>\n",
       "      <td>0.0</td>\n",
       "      <td>2.0</td>\n",
       "      <td>1.0</td>\n",
       "      <td>3.0</td>\n",
       "    </tr>\n",
       "  </tbody>\n",
       "</table>\n",
       "</div>"
      ],
      "text/plain": [
       "        NPA Status  RevolvingUtilizationOfUnsecuredLines   age Gender Region  \\\n",
       "149883         0.0                              0.004145  48.0   Male  North   \n",
       "34945          1.0                              1.000000  32.0   Male   West   \n",
       "120143         0.0                              0.413995  58.0   Male   West   \n",
       "56652          0.0                              0.437853  74.0   Male   East   \n",
       "17440          0.0                              0.370125  36.0   Male  North   \n",
       "\n",
       "        MonthlyIncome Rented_OwnHouse   Occupation     Education  \\\n",
       "149883         8960.0          Rented     Officer2  Professional   \n",
       "34945          2120.0        Ownhouse     Self_Emp        Matric   \n",
       "120143        17500.0        Ownhouse     Self_Emp      Graduate   \n",
       "56652          5000.0          Rented  Non-officer  Professional   \n",
       "17440          2750.0        Ownhouse     Self_Emp     Post-Grad   \n",
       "\n",
       "        NumberOfTime30-59DaysPastDueNotWorse  DebtRatio  MonthlyIncome.1  \\\n",
       "149883                                   0.0   0.248633           8960.0   \n",
       "34945                                    3.0   0.813767           2120.0   \n",
       "120143                                   0.0   0.236386          17500.0   \n",
       "56652                                    0.0   0.259748           5000.0   \n",
       "17440                                    0.0   0.497274           2750.0   \n",
       "\n",
       "        NumberOfOpenCreditLinesAndLoans  NumberOfTimes90DaysLate  \\\n",
       "149883                              5.0                      0.0   \n",
       "34945                               3.0                      0.0   \n",
       "120143                              9.0                      0.0   \n",
       "56652                              12.0                      0.0   \n",
       "17440                               8.0                      0.0   \n",
       "\n",
       "        NumberRealEstateLoansOrLines  NumberOfTime60-89DaysPastDueNotWorse  \\\n",
       "149883                           2.0                                   0.0   \n",
       "34945                            1.0                                   0.0   \n",
       "120143                           2.0                                   0.0   \n",
       "56652                            0.0                                   0.0   \n",
       "17440                            2.0                                   1.0   \n",
       "\n",
       "       NumberOfDependents  \n",
       "149883                  3  \n",
       "34945                 4.0  \n",
       "120143                0.0  \n",
       "56652                 1.0  \n",
       "17440                 3.0  "
      ]
     },
     "execution_count": 13,
     "metadata": {},
     "output_type": "execute_result"
    }
   ],
   "source": [
    "x_train.head()"
   ]
  },
  {
   "cell_type": "code",
   "execution_count": 14,
   "id": "40e61c07",
   "metadata": {},
   "outputs": [
    {
     "data": {
      "text/plain": [
       "149883    Good\n",
       "34945      Bad\n",
       "120143    Good\n",
       "56652     Good\n",
       "17440     Good\n",
       "          ... \n",
       "102327    Good\n",
       "97617     Good\n",
       "21584     Good\n",
       "36543     Good\n",
       "141209    Good\n",
       "Name: Good_Bad, Length: 135001, dtype: object"
      ]
     },
     "execution_count": 14,
     "metadata": {},
     "output_type": "execute_result"
    }
   ],
   "source": [
    "y_train"
   ]
  },
  {
   "cell_type": "code",
   "execution_count": 15,
   "id": "2cd5517b",
   "metadata": {},
   "outputs": [],
   "source": [
    "## checking len(x_train and y_train)"
   ]
  },
  {
   "cell_type": "code",
   "execution_count": 16,
   "id": "7e109e1b",
   "metadata": {},
   "outputs": [
    {
     "data": {
      "text/plain": [
       "(135001, 135001)"
      ]
     },
     "execution_count": 16,
     "metadata": {},
     "output_type": "execute_result"
    }
   ],
   "source": [
    "len(x_train),len(y_train)"
   ]
  },
  {
   "cell_type": "code",
   "execution_count": 17,
   "id": "ab84f39c",
   "metadata": {},
   "outputs": [
    {
     "data": {
      "text/plain": [
       "15001"
      ]
     },
     "execution_count": 17,
     "metadata": {},
     "output_type": "execute_result"
    }
   ],
   "source": [
    "len(x_test)"
   ]
  },
  {
   "cell_type": "code",
   "execution_count": 18,
   "id": "3205d2c5",
   "metadata": {},
   "outputs": [],
   "source": [
    "## combining independent and dependent data\n",
    "\n",
    "training_data=pd.concat([x_train,y_train],axis=1)"
   ]
  },
  {
   "cell_type": "code",
   "execution_count": 19,
   "id": "4dfbfdb0",
   "metadata": {},
   "outputs": [
    {
     "data": {
      "text/html": [
       "<div>\n",
       "<style scoped>\n",
       "    .dataframe tbody tr th:only-of-type {\n",
       "        vertical-align: middle;\n",
       "    }\n",
       "\n",
       "    .dataframe tbody tr th {\n",
       "        vertical-align: top;\n",
       "    }\n",
       "\n",
       "    .dataframe thead th {\n",
       "        text-align: right;\n",
       "    }\n",
       "</style>\n",
       "<table border=\"1\" class=\"dataframe\">\n",
       "  <thead>\n",
       "    <tr style=\"text-align: right;\">\n",
       "      <th></th>\n",
       "      <th>NPA Status</th>\n",
       "      <th>RevolvingUtilizationOfUnsecuredLines</th>\n",
       "      <th>age</th>\n",
       "      <th>Gender</th>\n",
       "      <th>Region</th>\n",
       "      <th>MonthlyIncome</th>\n",
       "      <th>Rented_OwnHouse</th>\n",
       "      <th>Occupation</th>\n",
       "      <th>Education</th>\n",
       "      <th>NumberOfTime30-59DaysPastDueNotWorse</th>\n",
       "      <th>DebtRatio</th>\n",
       "      <th>MonthlyIncome.1</th>\n",
       "      <th>NumberOfOpenCreditLinesAndLoans</th>\n",
       "      <th>NumberOfTimes90DaysLate</th>\n",
       "      <th>NumberRealEstateLoansOrLines</th>\n",
       "      <th>NumberOfTime60-89DaysPastDueNotWorse</th>\n",
       "      <th>NumberOfDependents</th>\n",
       "      <th>Good_Bad</th>\n",
       "    </tr>\n",
       "  </thead>\n",
       "  <tbody>\n",
       "    <tr>\n",
       "      <th>149883</th>\n",
       "      <td>0.0</td>\n",
       "      <td>0.004145</td>\n",
       "      <td>48.0</td>\n",
       "      <td>Male</td>\n",
       "      <td>North</td>\n",
       "      <td>8960.0</td>\n",
       "      <td>Rented</td>\n",
       "      <td>Officer2</td>\n",
       "      <td>Professional</td>\n",
       "      <td>0.0</td>\n",
       "      <td>0.248633</td>\n",
       "      <td>8960.0</td>\n",
       "      <td>5.0</td>\n",
       "      <td>0.0</td>\n",
       "      <td>2.0</td>\n",
       "      <td>0.0</td>\n",
       "      <td>3</td>\n",
       "      <td>Good</td>\n",
       "    </tr>\n",
       "    <tr>\n",
       "      <th>34945</th>\n",
       "      <td>1.0</td>\n",
       "      <td>1.000000</td>\n",
       "      <td>32.0</td>\n",
       "      <td>Male</td>\n",
       "      <td>West</td>\n",
       "      <td>2120.0</td>\n",
       "      <td>Ownhouse</td>\n",
       "      <td>Self_Emp</td>\n",
       "      <td>Matric</td>\n",
       "      <td>3.0</td>\n",
       "      <td>0.813767</td>\n",
       "      <td>2120.0</td>\n",
       "      <td>3.0</td>\n",
       "      <td>0.0</td>\n",
       "      <td>1.0</td>\n",
       "      <td>0.0</td>\n",
       "      <td>4.0</td>\n",
       "      <td>Bad</td>\n",
       "    </tr>\n",
       "    <tr>\n",
       "      <th>120143</th>\n",
       "      <td>0.0</td>\n",
       "      <td>0.413995</td>\n",
       "      <td>58.0</td>\n",
       "      <td>Male</td>\n",
       "      <td>West</td>\n",
       "      <td>17500.0</td>\n",
       "      <td>Ownhouse</td>\n",
       "      <td>Self_Emp</td>\n",
       "      <td>Graduate</td>\n",
       "      <td>0.0</td>\n",
       "      <td>0.236386</td>\n",
       "      <td>17500.0</td>\n",
       "      <td>9.0</td>\n",
       "      <td>0.0</td>\n",
       "      <td>2.0</td>\n",
       "      <td>0.0</td>\n",
       "      <td>0.0</td>\n",
       "      <td>Good</td>\n",
       "    </tr>\n",
       "    <tr>\n",
       "      <th>56652</th>\n",
       "      <td>0.0</td>\n",
       "      <td>0.437853</td>\n",
       "      <td>74.0</td>\n",
       "      <td>Male</td>\n",
       "      <td>East</td>\n",
       "      <td>5000.0</td>\n",
       "      <td>Rented</td>\n",
       "      <td>Non-officer</td>\n",
       "      <td>Professional</td>\n",
       "      <td>0.0</td>\n",
       "      <td>0.259748</td>\n",
       "      <td>5000.0</td>\n",
       "      <td>12.0</td>\n",
       "      <td>0.0</td>\n",
       "      <td>0.0</td>\n",
       "      <td>0.0</td>\n",
       "      <td>1.0</td>\n",
       "      <td>Good</td>\n",
       "    </tr>\n",
       "    <tr>\n",
       "      <th>17440</th>\n",
       "      <td>0.0</td>\n",
       "      <td>0.370125</td>\n",
       "      <td>36.0</td>\n",
       "      <td>Male</td>\n",
       "      <td>North</td>\n",
       "      <td>2750.0</td>\n",
       "      <td>Ownhouse</td>\n",
       "      <td>Self_Emp</td>\n",
       "      <td>Post-Grad</td>\n",
       "      <td>0.0</td>\n",
       "      <td>0.497274</td>\n",
       "      <td>2750.0</td>\n",
       "      <td>8.0</td>\n",
       "      <td>0.0</td>\n",
       "      <td>2.0</td>\n",
       "      <td>1.0</td>\n",
       "      <td>3.0</td>\n",
       "      <td>Good</td>\n",
       "    </tr>\n",
       "  </tbody>\n",
       "</table>\n",
       "</div>"
      ],
      "text/plain": [
       "        NPA Status  RevolvingUtilizationOfUnsecuredLines   age Gender Region  \\\n",
       "149883         0.0                              0.004145  48.0   Male  North   \n",
       "34945          1.0                              1.000000  32.0   Male   West   \n",
       "120143         0.0                              0.413995  58.0   Male   West   \n",
       "56652          0.0                              0.437853  74.0   Male   East   \n",
       "17440          0.0                              0.370125  36.0   Male  North   \n",
       "\n",
       "        MonthlyIncome Rented_OwnHouse   Occupation     Education  \\\n",
       "149883         8960.0          Rented     Officer2  Professional   \n",
       "34945          2120.0        Ownhouse     Self_Emp        Matric   \n",
       "120143        17500.0        Ownhouse     Self_Emp      Graduate   \n",
       "56652          5000.0          Rented  Non-officer  Professional   \n",
       "17440          2750.0        Ownhouse     Self_Emp     Post-Grad   \n",
       "\n",
       "        NumberOfTime30-59DaysPastDueNotWorse  DebtRatio  MonthlyIncome.1  \\\n",
       "149883                                   0.0   0.248633           8960.0   \n",
       "34945                                    3.0   0.813767           2120.0   \n",
       "120143                                   0.0   0.236386          17500.0   \n",
       "56652                                    0.0   0.259748           5000.0   \n",
       "17440                                    0.0   0.497274           2750.0   \n",
       "\n",
       "        NumberOfOpenCreditLinesAndLoans  NumberOfTimes90DaysLate  \\\n",
       "149883                              5.0                      0.0   \n",
       "34945                               3.0                      0.0   \n",
       "120143                              9.0                      0.0   \n",
       "56652                              12.0                      0.0   \n",
       "17440                               8.0                      0.0   \n",
       "\n",
       "        NumberRealEstateLoansOrLines  NumberOfTime60-89DaysPastDueNotWorse  \\\n",
       "149883                           2.0                                   0.0   \n",
       "34945                            1.0                                   0.0   \n",
       "120143                           2.0                                   0.0   \n",
       "56652                            0.0                                   0.0   \n",
       "17440                            2.0                                   1.0   \n",
       "\n",
       "       NumberOfDependents Good_Bad  \n",
       "149883                  3     Good  \n",
       "34945                 4.0      Bad  \n",
       "120143                0.0     Good  \n",
       "56652                 1.0     Good  \n",
       "17440                 3.0     Good  "
      ]
     },
     "execution_count": 19,
     "metadata": {},
     "output_type": "execute_result"
    }
   ],
   "source": [
    "training_data.head()"
   ]
  },
  {
   "cell_type": "raw",
   "id": "14e4fa88",
   "metadata": {},
   "source": [
    "## Finding info"
   ]
  },
  {
   "cell_type": "code",
   "execution_count": 20,
   "id": "3a493fda",
   "metadata": {},
   "outputs": [
    {
     "name": "stdout",
     "output_type": "stream",
     "text": [
      "<class 'pandas.core.frame.DataFrame'>\n",
      "Int64Index: 135001 entries, 149883 to 141209\n",
      "Data columns (total 18 columns):\n",
      " #   Column                                Non-Null Count   Dtype  \n",
      "---  ------                                --------------   -----  \n",
      " 0   NPA Status                            134999 non-null  float64\n",
      " 1   RevolvingUtilizationOfUnsecuredLines  134999 non-null  float64\n",
      " 2   age                                   134999 non-null  float64\n",
      " 3   Gender                                134999 non-null  object \n",
      " 4   Region                                134999 non-null  object \n",
      " 5   MonthlyIncome                         108210 non-null  float64\n",
      " 6   Rented_OwnHouse                       134999 non-null  object \n",
      " 7   Occupation                            134999 non-null  object \n",
      " 8   Education                             134999 non-null  object \n",
      " 9   NumberOfTime30-59DaysPastDueNotWorse  134999 non-null  float64\n",
      " 10  DebtRatio                             134999 non-null  float64\n",
      " 11  MonthlyIncome.1                       108210 non-null  float64\n",
      " 12  NumberOfOpenCreditLinesAndLoans       134999 non-null  float64\n",
      " 13  NumberOfTimes90DaysLate               134999 non-null  float64\n",
      " 14  NumberRealEstateLoansOrLines          134999 non-null  float64\n",
      " 15  NumberOfTime60-89DaysPastDueNotWorse  134999 non-null  float64\n",
      " 16  NumberOfDependents                    131428 non-null  object \n",
      " 17  Good_Bad                              134999 non-null  object \n",
      "dtypes: float64(11), object(7)\n",
      "memory usage: 19.6+ MB\n"
     ]
    }
   ],
   "source": [
    "training_data.info()"
   ]
  },
  {
   "cell_type": "code",
   "execution_count": 21,
   "id": "7986d3f5",
   "metadata": {},
   "outputs": [
    {
     "data": {
      "text/plain": [
       "NPA Status                                  2\n",
       "RevolvingUtilizationOfUnsecuredLines        2\n",
       "age                                         2\n",
       "Gender                                      2\n",
       "Region                                      2\n",
       "MonthlyIncome                           26791\n",
       "Rented_OwnHouse                             2\n",
       "Occupation                                  2\n",
       "Education                                   2\n",
       "NumberOfTime30-59DaysPastDueNotWorse        2\n",
       "DebtRatio                                   2\n",
       "MonthlyIncome.1                         26791\n",
       "NumberOfOpenCreditLinesAndLoans             2\n",
       "NumberOfTimes90DaysLate                     2\n",
       "NumberRealEstateLoansOrLines                2\n",
       "NumberOfTime60-89DaysPastDueNotWorse        2\n",
       "NumberOfDependents                       3573\n",
       "Good_Bad                                    2\n",
       "dtype: int64"
      ]
     },
     "execution_count": 21,
     "metadata": {},
     "output_type": "execute_result"
    }
   ],
   "source": [
    "training_data.isnull().sum()"
   ]
  },
  {
   "cell_type": "code",
   "execution_count": 22,
   "id": "ec2ab7d1",
   "metadata": {},
   "outputs": [],
   "source": [
    "## deleting null values"
   ]
  },
  {
   "cell_type": "code",
   "execution_count": 23,
   "id": "be523c54",
   "metadata": {},
   "outputs": [
    {
     "data": {
      "text/plain": [
       "Int64Index([150000, 150001], dtype='int64')"
      ]
     },
     "execution_count": 23,
     "metadata": {},
     "output_type": "execute_result"
    }
   ],
   "source": [
    "training_data[training_data['Gender'].isnull()].index"
   ]
  },
  {
   "cell_type": "code",
   "execution_count": 24,
   "id": "9cfbe7f2",
   "metadata": {},
   "outputs": [
    {
     "data": {
      "text/plain": [
       "Int64Index([150000, 150001], dtype='int64')"
      ]
     },
     "execution_count": 24,
     "metadata": {},
     "output_type": "execute_result"
    }
   ],
   "source": [
    "training_data[training_data['NPA Status'].isnull()].index"
   ]
  },
  {
   "cell_type": "code",
   "execution_count": 25,
   "id": "a1ca501b",
   "metadata": {},
   "outputs": [],
   "source": [
    "## removing two rows\n",
    "\n",
    "training_data=training_data.drop([150000, 150001],axis=0)"
   ]
  },
  {
   "cell_type": "code",
   "execution_count": 26,
   "id": "395a89cb",
   "metadata": {},
   "outputs": [
    {
     "data": {
      "text/plain": [
       "NPA Status                                  0\n",
       "RevolvingUtilizationOfUnsecuredLines        0\n",
       "age                                         0\n",
       "Gender                                      0\n",
       "Region                                      0\n",
       "MonthlyIncome                           26789\n",
       "Rented_OwnHouse                             0\n",
       "Occupation                                  0\n",
       "Education                                   0\n",
       "NumberOfTime30-59DaysPastDueNotWorse        0\n",
       "DebtRatio                                   0\n",
       "MonthlyIncome.1                         26789\n",
       "NumberOfOpenCreditLinesAndLoans             0\n",
       "NumberOfTimes90DaysLate                     0\n",
       "NumberRealEstateLoansOrLines                0\n",
       "NumberOfTime60-89DaysPastDueNotWorse        0\n",
       "NumberOfDependents                       3573\n",
       "Good_Bad                                    0\n",
       "dtype: int64"
      ]
     },
     "execution_count": 26,
     "metadata": {},
     "output_type": "execute_result"
    }
   ],
   "source": [
    "training_data.isnull().sum()"
   ]
  },
  {
   "cell_type": "code",
   "execution_count": 27,
   "id": "236a5a74",
   "metadata": {},
   "outputs": [
    {
     "data": {
      "text/plain": [
       "13870.003606951876"
      ]
     },
     "execution_count": 27,
     "metadata": {},
     "output_type": "execute_result"
    }
   ],
   "source": [
    "training_data['MonthlyIncome'].std()\n"
   ]
  },
  {
   "cell_type": "code",
   "execution_count": 28,
   "id": "8544648e",
   "metadata": {},
   "outputs": [
    {
     "data": {
      "text/plain": [
       "13870.003606951876"
      ]
     },
     "execution_count": 28,
     "metadata": {},
     "output_type": "execute_result"
    }
   ],
   "source": [
    "training_data['MonthlyIncome.1'].std()"
   ]
  },
  {
   "cell_type": "code",
   "execution_count": 29,
   "id": "9dc3cb12",
   "metadata": {},
   "outputs": [],
   "source": [
    "## Both Monthlyincome and Monthlyincome.1 has same data so we can drop one variable "
   ]
  },
  {
   "cell_type": "code",
   "execution_count": 30,
   "id": "5b19c369",
   "metadata": {},
   "outputs": [],
   "source": [
    "training_data=training_data.drop(['MonthlyIncome.1'],axis=1)"
   ]
  },
  {
   "cell_type": "code",
   "execution_count": 31,
   "id": "a506dcc6",
   "metadata": {},
   "outputs": [
    {
     "data": {
      "text/plain": [
       "NPA Status                                  0\n",
       "RevolvingUtilizationOfUnsecuredLines        0\n",
       "age                                         0\n",
       "Gender                                      0\n",
       "Region                                      0\n",
       "MonthlyIncome                           26789\n",
       "Rented_OwnHouse                             0\n",
       "Occupation                                  0\n",
       "Education                                   0\n",
       "NumberOfTime30-59DaysPastDueNotWorse        0\n",
       "DebtRatio                                   0\n",
       "NumberOfOpenCreditLinesAndLoans             0\n",
       "NumberOfTimes90DaysLate                     0\n",
       "NumberRealEstateLoansOrLines                0\n",
       "NumberOfTime60-89DaysPastDueNotWorse        0\n",
       "NumberOfDependents                       3573\n",
       "Good_Bad                                    0\n",
       "dtype: int64"
      ]
     },
     "execution_count": 31,
     "metadata": {},
     "output_type": "execute_result"
    }
   ],
   "source": [
    "training_data.isnull().sum()"
   ]
  },
  {
   "cell_type": "markdown",
   "id": "50355469",
   "metadata": {},
   "source": [
    "### Handling the null values"
   ]
  },
  {
   "cell_type": "code",
   "execution_count": 32,
   "id": "19f76139",
   "metadata": {},
   "outputs": [],
   "source": [
    "import re"
   ]
  },
  {
   "cell_type": "code",
   "execution_count": 33,
   "id": "0c4cfebe",
   "metadata": {},
   "outputs": [
    {
     "data": {
      "text/plain": [
       "3573"
      ]
     },
     "execution_count": 33,
     "metadata": {},
     "output_type": "execute_result"
    }
   ],
   "source": [
    "training_data['NumberOfDependents'].isnull().sum()"
   ]
  },
  {
   "cell_type": "code",
   "execution_count": 34,
   "id": "1b698698",
   "metadata": {},
   "outputs": [
    {
     "data": {
      "text/plain": [
       "dtype('O')"
      ]
     },
     "execution_count": 34,
     "metadata": {},
     "output_type": "execute_result"
    }
   ],
   "source": [
    "training_data['NumberOfDependents'].dtype"
   ]
  },
  {
   "cell_type": "code",
   "execution_count": 35,
   "id": "da4974cf",
   "metadata": {},
   "outputs": [],
   "source": [
    "## changing values to numerical cause data have object datatypes in it"
   ]
  },
  {
   "cell_type": "code",
   "execution_count": 36,
   "id": "1a94f3f7",
   "metadata": {},
   "outputs": [],
   "source": [
    "training_data['NumberOfDependents']=pd.to_numeric(training_data['NumberOfDependents'])"
   ]
  },
  {
   "cell_type": "code",
   "execution_count": 37,
   "id": "658bec10",
   "metadata": {},
   "outputs": [
    {
     "data": {
      "text/plain": [
       "dtype('float64')"
      ]
     },
     "execution_count": 37,
     "metadata": {},
     "output_type": "execute_result"
    }
   ],
   "source": [
    "training_data['NumberOfDependents'].dtype"
   ]
  },
  {
   "cell_type": "raw",
   "id": "d7ed2454",
   "metadata": {},
   "source": [
    "## Mean,Median,Mode"
   ]
  },
  {
   "cell_type": "code",
   "execution_count": 38,
   "id": "48a79a02",
   "metadata": {},
   "outputs": [],
   "source": [
    "mean=training_data['NumberOfDependents'].mean()\n",
    "median=training_data['NumberOfDependents'].median()\n",
    "mode=training_data['NumberOfDependents'].mode()[0]"
   ]
  },
  {
   "cell_type": "code",
   "execution_count": 39,
   "id": "8e74c810",
   "metadata": {},
   "outputs": [
    {
     "name": "stdout",
     "output_type": "stream",
     "text": [
      "mean of NumberOfDependents =0.7576354754766941\n",
      "mean of NumberOfDependents=0.0\n",
      "mean of NumberOfDependents=0.0\n"
     ]
    }
   ],
   "source": [
    "print(f'mean of NumberOfDependents ={mean}')\n",
    "print(f'mean of NumberOfDependents={median}')\n",
    "print(f'mean of NumberOfDependents={mode}')"
   ]
  },
  {
   "cell_type": "code",
   "execution_count": 40,
   "id": "eb710fb0",
   "metadata": {},
   "outputs": [],
   "source": [
    "def null_logic(training_data , var , value):\n",
    "    training_data[var+'_mean_replaced']=training_data[var].fillna(value)\n",
    "null_logic(training_data,'NumberOfDependents',mean)"
   ]
  },
  {
   "cell_type": "code",
   "execution_count": 41,
   "id": "994e7a8a",
   "metadata": {},
   "outputs": [],
   "source": [
    "def null_logic(training_data , var , value):\n",
    "    training_data[var+'_median_replaced']=training_data[var].fillna(value)\n",
    "null_logic(training_data,'NumberOfDependents',median)"
   ]
  },
  {
   "cell_type": "code",
   "execution_count": 42,
   "id": "6b878aea",
   "metadata": {},
   "outputs": [],
   "source": [
    "def null_logic(training_data , var , value):\n",
    "    training_data[var+'_mode_replaced']=training_data[var].fillna(value)\n",
    "null_logic(training_data,'NumberOfDependents',mode)"
   ]
  },
  {
   "cell_type": "code",
   "execution_count": 43,
   "id": "442d5305",
   "metadata": {
    "scrolled": true
   },
   "outputs": [
    {
     "data": {
      "text/plain": [
       "Index(['NPA Status', 'RevolvingUtilizationOfUnsecuredLines', 'age', 'Gender',\n",
       "       'Region', 'MonthlyIncome', 'Rented_OwnHouse', 'Occupation', 'Education',\n",
       "       'NumberOfTime30-59DaysPastDueNotWorse', 'DebtRatio',\n",
       "       'NumberOfOpenCreditLinesAndLoans', 'NumberOfTimes90DaysLate',\n",
       "       'NumberRealEstateLoansOrLines', 'NumberOfTime60-89DaysPastDueNotWorse',\n",
       "       'NumberOfDependents', 'Good_Bad', 'NumberOfDependents_mean_replaced',\n",
       "       'NumberOfDependents_median_replaced',\n",
       "       'NumberOfDependents_mode_replaced'],\n",
       "      dtype='object')"
      ]
     },
     "execution_count": 43,
     "metadata": {},
     "output_type": "execute_result"
    }
   ],
   "source": [
    "training_data.columns"
   ]
  },
  {
   "cell_type": "code",
   "execution_count": 44,
   "id": "4bc508ae",
   "metadata": {},
   "outputs": [
    {
     "data": {
      "image/png": "[encoded data removed]",
      "text/plain": [
       "<Figure size 432x288 with 1 Axes>"
      ]
     },
     "metadata": {
      "needs_background": "light"
     },
     "output_type": "display_data"
    }
   ],
   "source": [
    "fig=plt.figure()\n",
    "ax = fig.add_subplot(1,1,1)\n",
    "training_data['NumberOfDependents'].plot(kind='kde',color='g',ax = ax,label='NumberOfDependents')\n",
    "training_data['NumberOfDependents_mean_replaced'].plot(kind='kde',color='r', ax = ax,label='NumberOfDependents_mean')\n",
    "training_data['NumberOfDependents_median_replaced'].plot(kind='kde',color='b',ax=ax,label='NumberOfDependents_median')\n",
    "training_data['NumberOfDependents_mode_replaced'].plot(kind='kde',color='y',ax=ax,label='NumberOfDependents_mode')\n",
    "plt.legend(loc = 0)\n",
    "plt.show()"
   ]
  },
  {
   "cell_type": "code",
   "execution_count": 45,
   "id": "922492fa",
   "metadata": {},
   "outputs": [
    {
     "name": "stdout",
     "output_type": "stream",
     "text": [
      "std with original variable: 1.1153006209039351\n",
      "std with replaced mean variable: 1.100442283969006\n",
      "std with replaced median varaible: 1.1071420512947108\n",
      "std with replaced mode variable: 1.1071420512947108\n"
     ]
    }
   ],
   "source": [
    "print('std with original variable:',training_data['NumberOfDependents'].std())\n",
    "print('std with replaced mean variable:',training_data['NumberOfDependents_mean_replaced'].std())\n",
    "print('std with replaced median varaible:',training_data['NumberOfDependents_median_replaced'].std())\n",
    "print('std with replaced mode variable:',training_data['NumberOfDependents_mode_replaced'].std())\n"
   ]
  },
  {
   "cell_type": "code",
   "execution_count": 46,
   "id": "fd676fd4",
   "metadata": {},
   "outputs": [
    {
     "data": {
      "text/plain": [
       "NPA Status                                  0\n",
       "RevolvingUtilizationOfUnsecuredLines        0\n",
       "age                                         0\n",
       "Gender                                      0\n",
       "Region                                      0\n",
       "MonthlyIncome                           26789\n",
       "Rented_OwnHouse                             0\n",
       "Occupation                                  0\n",
       "Education                                   0\n",
       "NumberOfTime30-59DaysPastDueNotWorse        0\n",
       "DebtRatio                                   0\n",
       "NumberOfOpenCreditLinesAndLoans             0\n",
       "NumberOfTimes90DaysLate                     0\n",
       "NumberRealEstateLoansOrLines                0\n",
       "NumberOfTime60-89DaysPastDueNotWorse        0\n",
       "NumberOfDependents                       3573\n",
       "Good_Bad                                    0\n",
       "NumberOfDependents_mean_replaced            0\n",
       "NumberOfDependents_median_replaced          0\n",
       "NumberOfDependents_mode_replaced            0\n",
       "dtype: int64"
      ]
     },
     "execution_count": 46,
     "metadata": {},
     "output_type": "execute_result"
    }
   ],
   "source": [
    "training_data.isnull().sum()"
   ]
  },
  {
   "cell_type": "code",
   "execution_count": 47,
   "id": "1ed3361d",
   "metadata": {},
   "outputs": [
    {
     "data": {
      "text/plain": [
       "0.008158569609224342"
      ]
     },
     "execution_count": 47,
     "metadata": {},
     "output_type": "execute_result"
    }
   ],
   "source": [
    "#1.1153006209039351-1.1071420512947108\n",
    "#1.1153006209039351-1.100442283969006\n",
    "1.1153006209039351-1.1071420512947108\n"
   ]
  },
  {
   "cell_type": "code",
   "execution_count": 48,
   "id": "52835847",
   "metadata": {},
   "outputs": [],
   "source": [
    "training_data=training_data.drop(['NumberOfDependents','NumberOfDependents_median_replaced','NumberOfDependents_mode_replaced'],axis=1)"
   ]
  },
  {
   "cell_type": "code",
   "execution_count": 49,
   "id": "eaec56ab",
   "metadata": {},
   "outputs": [
    {
     "data": {
      "text/plain": [
       "NPA Status                                  0\n",
       "RevolvingUtilizationOfUnsecuredLines        0\n",
       "age                                         0\n",
       "Gender                                      0\n",
       "Region                                      0\n",
       "MonthlyIncome                           26789\n",
       "Rented_OwnHouse                             0\n",
       "Occupation                                  0\n",
       "Education                                   0\n",
       "NumberOfTime30-59DaysPastDueNotWorse        0\n",
       "DebtRatio                                   0\n",
       "NumberOfOpenCreditLinesAndLoans             0\n",
       "NumberOfTimes90DaysLate                     0\n",
       "NumberRealEstateLoansOrLines                0\n",
       "NumberOfTime60-89DaysPastDueNotWorse        0\n",
       "Good_Bad                                    0\n",
       "NumberOfDependents_mean_replaced            0\n",
       "dtype: int64"
      ]
     },
     "execution_count": 49,
     "metadata": {},
     "output_type": "execute_result"
    }
   ],
   "source": [
    "training_data.isnull().sum()"
   ]
  },
  {
   "cell_type": "code",
   "execution_count": 50,
   "id": "d795e319",
   "metadata": {},
   "outputs": [],
   "source": [
    "## we are taking mean in numberofdependents as std is close "
   ]
  },
  {
   "cell_type": "code",
   "execution_count": 51,
   "id": "d4770f41",
   "metadata": {},
   "outputs": [],
   "source": [
    "## handling nullvalues for another variable"
   ]
  },
  {
   "cell_type": "code",
   "execution_count": 52,
   "id": "77a6c9b5",
   "metadata": {},
   "outputs": [
    {
     "data": {
      "text/plain": [
       "dtype('float64')"
      ]
     },
     "execution_count": 52,
     "metadata": {},
     "output_type": "execute_result"
    }
   ],
   "source": [
    "training_data['MonthlyIncome'].dtype"
   ]
  },
  {
   "cell_type": "raw",
   "id": "c6e99355",
   "metadata": {},
   "source": [
    "## removing nullvalues in monthlyincome varaiable"
   ]
  },
  {
   "cell_type": "code",
   "execution_count": 53,
   "id": "393ebd0f",
   "metadata": {},
   "outputs": [],
   "source": [
    "mean1=training_data['MonthlyIncome'].mean()\n",
    "median1=training_data['MonthlyIncome'].median()\n",
    "mode1=training_data['MonthlyIncome'].mode()[0]"
   ]
  },
  {
   "cell_type": "code",
   "execution_count": 54,
   "id": "03d983f4",
   "metadata": {},
   "outputs": [
    {
     "name": "stdout",
     "output_type": "stream",
     "text": [
      "mean of MonthlyIncome=6662.60994362813\n",
      "median of MonthlyIncome=5400.0\n",
      "mode of MonthlyIncome=5000.0\n"
     ]
    }
   ],
   "source": [
    "print(f'mean of MonthlyIncome={mean1}')\n",
    "print(f'median of MonthlyIncome={median1}')\n",
    "print(f'mode of MonthlyIncome={mode1}')"
   ]
  },
  {
   "cell_type": "code",
   "execution_count": 55,
   "id": "2140df8e",
   "metadata": {},
   "outputs": [],
   "source": [
    "def null_logic1(training_data,var,value):\n",
    "    training_data[var+'_mean_replaced']=training_data[var].fillna(value)\n",
    "null_logic1(training_data,'MonthlyIncome',mean1) "
   ]
  },
  {
   "cell_type": "code",
   "execution_count": 56,
   "id": "38a9a72d",
   "metadata": {},
   "outputs": [],
   "source": [
    "def null_logic2(training_data,var,value):\n",
    "    training_data[var+'_median_replaced']=training_data[var].fillna(value)\n",
    "null_logic2(training_data,'MonthlyIncome',median1)    "
   ]
  },
  {
   "cell_type": "code",
   "execution_count": 57,
   "id": "ba46323a",
   "metadata": {},
   "outputs": [],
   "source": [
    "def null_logic3(training_data,var,value):\n",
    "    training_data[var+'_mode_replaced']=training_data[var].fillna(value)\n",
    "null_logic3(training_data,'MonthlyIncome',mode1)    "
   ]
  },
  {
   "cell_type": "code",
   "execution_count": 58,
   "id": "17b344c1",
   "metadata": {},
   "outputs": [
    {
     "data": {
      "text/plain": [
       "Index(['NPA Status', 'RevolvingUtilizationOfUnsecuredLines', 'age', 'Gender',\n",
       "       'Region', 'MonthlyIncome', 'Rented_OwnHouse', 'Occupation', 'Education',\n",
       "       'NumberOfTime30-59DaysPastDueNotWorse', 'DebtRatio',\n",
       "       'NumberOfOpenCreditLinesAndLoans', 'NumberOfTimes90DaysLate',\n",
       "       'NumberRealEstateLoansOrLines', 'NumberOfTime60-89DaysPastDueNotWorse',\n",
       "       'Good_Bad', 'NumberOfDependents_mean_replaced',\n",
       "       'MonthlyIncome_mean_replaced', 'MonthlyIncome_median_replaced',\n",
       "       'MonthlyIncome_mode_replaced'],\n",
       "      dtype='object')"
      ]
     },
     "execution_count": 58,
     "metadata": {},
     "output_type": "execute_result"
    }
   ],
   "source": [
    "training_data.columns"
   ]
  },
  {
   "cell_type": "code",
   "execution_count": 59,
   "id": "61037b78",
   "metadata": {},
   "outputs": [
    {
     "data": {
      "image/png": "[encoded data removed]",
      "text/plain": [
       "<Figure size 432x288 with 1 Axes>"
      ]
     },
     "metadata": {
      "needs_background": "light"
     },
     "output_type": "display_data"
    }
   ],
   "source": [
    "fig=plt.figure()\n",
    "ax=fig.add_subplot(1,1,1)\n",
    "training_data['MonthlyIncome'].plot(kind='kde',color='r',ax=ax,label='MonthlyIncome')\n",
    "training_data['MonthlyIncome_mean_replaced'].plot(kind='kde',color='g',ax=ax,label='MonthlyIncome_mean')\n",
    "training_data['MonthlyIncome_median_replaced'].plot(kind='kde',color='b',ax=ax,label='MonthlyIncome_median')\n",
    "training_data['MonthlyIncome_mode_replaced'].plot(kind='kde',color='y',ax=ax,label='MonthlyIncome_mode')\n",
    "plt.legend(loc=0)\n",
    "plt.show()"
   ]
  },
  {
   "cell_type": "code",
   "execution_count": 60,
   "id": "3195dddc",
   "metadata": {},
   "outputs": [
    {
     "name": "stdout",
     "output_type": "stream",
     "text": [
      "std with original variable: 13870.003606951876\n",
      "std with replaced mean variable: 12417.798219156535\n",
      "std with replaced median varaible: 12428.004121250257\n",
      "std with replaced mode variable: 12435.489648012473\n"
     ]
    }
   ],
   "source": [
    "print('std with original variable:',training_data['MonthlyIncome'].std())\n",
    "print('std with replaced mean variable:',training_data['MonthlyIncome_mean_replaced'].std())\n",
    "print('std with replaced median varaible:',training_data['MonthlyIncome_median_replaced'].std())\n",
    "print('std with replaced mode variable:',training_data['MonthlyIncome_mode_replaced'].std())\n"
   ]
  },
  {
   "cell_type": "raw",
   "id": "bf7a225d",
   "metadata": {},
   "source": [
    "## mode works better for Monthlyincome variable than mean and median"
   ]
  },
  {
   "cell_type": "code",
   "execution_count": 61,
   "id": "b7c502fd",
   "metadata": {},
   "outputs": [
    {
     "data": {
      "text/plain": [
       "NPA Status                                  0\n",
       "RevolvingUtilizationOfUnsecuredLines        0\n",
       "age                                         0\n",
       "Gender                                      0\n",
       "Region                                      0\n",
       "MonthlyIncome                           26789\n",
       "Rented_OwnHouse                             0\n",
       "Occupation                                  0\n",
       "Education                                   0\n",
       "NumberOfTime30-59DaysPastDueNotWorse        0\n",
       "DebtRatio                                   0\n",
       "NumberOfOpenCreditLinesAndLoans             0\n",
       "NumberOfTimes90DaysLate                     0\n",
       "NumberRealEstateLoansOrLines                0\n",
       "NumberOfTime60-89DaysPastDueNotWorse        0\n",
       "Good_Bad                                    0\n",
       "NumberOfDependents_mean_replaced            0\n",
       "MonthlyIncome_mean_replaced                 0\n",
       "MonthlyIncome_median_replaced               0\n",
       "MonthlyIncome_mode_replaced                 0\n",
       "dtype: int64"
      ]
     },
     "execution_count": 61,
     "metadata": {},
     "output_type": "execute_result"
    }
   ],
   "source": [
    "training_data.isnull().sum()"
   ]
  },
  {
   "cell_type": "raw",
   "id": "77677f72",
   "metadata": {},
   "source": [
    "## dropping columns which are created"
   ]
  },
  {
   "cell_type": "code",
   "execution_count": 62,
   "id": "04885ef2",
   "metadata": {},
   "outputs": [
    {
     "data": {
      "text/plain": [
       "Index(['NPA Status', 'RevolvingUtilizationOfUnsecuredLines', 'age', 'Gender',\n",
       "       'Region', 'MonthlyIncome', 'Rented_OwnHouse', 'Occupation', 'Education',\n",
       "       'NumberOfTime30-59DaysPastDueNotWorse', 'DebtRatio',\n",
       "       'NumberOfOpenCreditLinesAndLoans', 'NumberOfTimes90DaysLate',\n",
       "       'NumberRealEstateLoansOrLines', 'NumberOfTime60-89DaysPastDueNotWorse',\n",
       "       'Good_Bad', 'NumberOfDependents_mean_replaced',\n",
       "       'MonthlyIncome_mean_replaced', 'MonthlyIncome_median_replaced',\n",
       "       'MonthlyIncome_mode_replaced'],\n",
       "      dtype='object')"
      ]
     },
     "execution_count": 62,
     "metadata": {},
     "output_type": "execute_result"
    }
   ],
   "source": [
    "training_data.columns"
   ]
  },
  {
   "cell_type": "code",
   "execution_count": 63,
   "id": "f245b4bd",
   "metadata": {},
   "outputs": [],
   "source": [
    "training_data=training_data.drop(['MonthlyIncome','MonthlyIncome_mean_replaced','MonthlyIncome_median_replaced'],axis=1)"
   ]
  },
  {
   "cell_type": "code",
   "execution_count": 64,
   "id": "e247086b",
   "metadata": {},
   "outputs": [
    {
     "data": {
      "text/plain": [
       "NPA Status                              0\n",
       "RevolvingUtilizationOfUnsecuredLines    0\n",
       "age                                     0\n",
       "Gender                                  0\n",
       "Region                                  0\n",
       "Rented_OwnHouse                         0\n",
       "Occupation                              0\n",
       "Education                               0\n",
       "NumberOfTime30-59DaysPastDueNotWorse    0\n",
       "DebtRatio                               0\n",
       "NumberOfOpenCreditLinesAndLoans         0\n",
       "NumberOfTimes90DaysLate                 0\n",
       "NumberRealEstateLoansOrLines            0\n",
       "NumberOfTime60-89DaysPastDueNotWorse    0\n",
       "Good_Bad                                0\n",
       "NumberOfDependents_mean_replaced        0\n",
       "MonthlyIncome_mode_replaced             0\n",
       "dtype: int64"
      ]
     },
     "execution_count": 64,
     "metadata": {},
     "output_type": "execute_result"
    }
   ],
   "source": [
    "training_data.isnull().sum()"
   ]
  },
  {
   "cell_type": "markdown",
   "id": "070f2d10",
   "metadata": {},
   "source": [
    "## Finding nullvalues in test data"
   ]
  },
  {
   "cell_type": "code",
   "execution_count": 65,
   "id": "86541a3d",
   "metadata": {},
   "outputs": [],
   "source": [
    "## concatinating x_test and y_test"
   ]
  },
  {
   "cell_type": "code",
   "execution_count": 66,
   "id": "6b3a621b",
   "metadata": {},
   "outputs": [],
   "source": [
    "test_data=pd.concat([x_test,y_test],axis=1)"
   ]
  },
  {
   "cell_type": "code",
   "execution_count": 67,
   "id": "0ced3a1d",
   "metadata": {},
   "outputs": [
    {
     "data": {
      "text/html": [
       "<div>\n",
       "<style scoped>\n",
       "    .dataframe tbody tr th:only-of-type {\n",
       "        vertical-align: middle;\n",
       "    }\n",
       "\n",
       "    .dataframe tbody tr th {\n",
       "        vertical-align: top;\n",
       "    }\n",
       "\n",
       "    .dataframe thead th {\n",
       "        text-align: right;\n",
       "    }\n",
       "</style>\n",
       "<table border=\"1\" class=\"dataframe\">\n",
       "  <thead>\n",
       "    <tr style=\"text-align: right;\">\n",
       "      <th></th>\n",
       "      <th>NPA Status</th>\n",
       "      <th>RevolvingUtilizationOfUnsecuredLines</th>\n",
       "      <th>age</th>\n",
       "      <th>Gender</th>\n",
       "      <th>Region</th>\n",
       "      <th>MonthlyIncome</th>\n",
       "      <th>Rented_OwnHouse</th>\n",
       "      <th>Occupation</th>\n",
       "      <th>Education</th>\n",
       "      <th>NumberOfTime30-59DaysPastDueNotWorse</th>\n",
       "      <th>DebtRatio</th>\n",
       "      <th>MonthlyIncome.1</th>\n",
       "      <th>NumberOfOpenCreditLinesAndLoans</th>\n",
       "      <th>NumberOfTimes90DaysLate</th>\n",
       "      <th>NumberRealEstateLoansOrLines</th>\n",
       "      <th>NumberOfTime60-89DaysPastDueNotWorse</th>\n",
       "      <th>NumberOfDependents</th>\n",
       "      <th>Good_Bad</th>\n",
       "    </tr>\n",
       "  </thead>\n",
       "  <tbody>\n",
       "    <tr>\n",
       "      <th>77511</th>\n",
       "      <td>0.0</td>\n",
       "      <td>0.008432</td>\n",
       "      <td>63.0</td>\n",
       "      <td>Female</td>\n",
       "      <td>Central</td>\n",
       "      <td>NaN</td>\n",
       "      <td>Ownhouse</td>\n",
       "      <td>Officer2</td>\n",
       "      <td>Professional</td>\n",
       "      <td>0.0</td>\n",
       "      <td>3847.000000</td>\n",
       "      <td>NaN</td>\n",
       "      <td>11.0</td>\n",
       "      <td>0.0</td>\n",
       "      <td>2.0</td>\n",
       "      <td>0.0</td>\n",
       "      <td>0.0</td>\n",
       "      <td>Good</td>\n",
       "    </tr>\n",
       "    <tr>\n",
       "      <th>17422</th>\n",
       "      <td>0.0</td>\n",
       "      <td>0.000000</td>\n",
       "      <td>51.0</td>\n",
       "      <td>Male</td>\n",
       "      <td>North</td>\n",
       "      <td>11000.0</td>\n",
       "      <td>Ownhouse</td>\n",
       "      <td>Self_Emp</td>\n",
       "      <td>Post-Grad</td>\n",
       "      <td>0.0</td>\n",
       "      <td>0.153895</td>\n",
       "      <td>11000.0</td>\n",
       "      <td>4.0</td>\n",
       "      <td>0.0</td>\n",
       "      <td>1.0</td>\n",
       "      <td>1.0</td>\n",
       "      <td>2.0</td>\n",
       "      <td>Good</td>\n",
       "    </tr>\n",
       "    <tr>\n",
       "      <th>111815</th>\n",
       "      <td>0.0</td>\n",
       "      <td>0.660261</td>\n",
       "      <td>28.0</td>\n",
       "      <td>Female</td>\n",
       "      <td>South</td>\n",
       "      <td>5625.0</td>\n",
       "      <td>Ownhouse</td>\n",
       "      <td>Self_Emp</td>\n",
       "      <td>Matric</td>\n",
       "      <td>0.0</td>\n",
       "      <td>0.157128</td>\n",
       "      <td>5625.0</td>\n",
       "      <td>6.0</td>\n",
       "      <td>0.0</td>\n",
       "      <td>0.0</td>\n",
       "      <td>0.0</td>\n",
       "      <td>0.0</td>\n",
       "      <td>Good</td>\n",
       "    </tr>\n",
       "    <tr>\n",
       "      <th>34211</th>\n",
       "      <td>0.0</td>\n",
       "      <td>1.000000</td>\n",
       "      <td>63.0</td>\n",
       "      <td>Female</td>\n",
       "      <td>North</td>\n",
       "      <td>42800.0</td>\n",
       "      <td>Ownhouse</td>\n",
       "      <td>Self_Emp</td>\n",
       "      <td>PhD</td>\n",
       "      <td>0.0</td>\n",
       "      <td>0.204014</td>\n",
       "      <td>42800.0</td>\n",
       "      <td>9.0</td>\n",
       "      <td>0.0</td>\n",
       "      <td>3.0</td>\n",
       "      <td>0.0</td>\n",
       "      <td>1.0</td>\n",
       "      <td>Good</td>\n",
       "    </tr>\n",
       "    <tr>\n",
       "      <th>36739</th>\n",
       "      <td>0.0</td>\n",
       "      <td>0.586124</td>\n",
       "      <td>42.0</td>\n",
       "      <td>Male</td>\n",
       "      <td>North</td>\n",
       "      <td>5200.0</td>\n",
       "      <td>Ownhouse</td>\n",
       "      <td>Self_Emp</td>\n",
       "      <td>Matric</td>\n",
       "      <td>0.0</td>\n",
       "      <td>0.304365</td>\n",
       "      <td>5200.0</td>\n",
       "      <td>17.0</td>\n",
       "      <td>0.0</td>\n",
       "      <td>0.0</td>\n",
       "      <td>0.0</td>\n",
       "      <td>0.0</td>\n",
       "      <td>Good</td>\n",
       "    </tr>\n",
       "  </tbody>\n",
       "</table>\n",
       "</div>"
      ],
      "text/plain": [
       "        NPA Status  RevolvingUtilizationOfUnsecuredLines   age  Gender  \\\n",
       "77511          0.0                              0.008432  63.0  Female   \n",
       "17422          0.0                              0.000000  51.0    Male   \n",
       "111815         0.0                              0.660261  28.0  Female   \n",
       "34211          0.0                              1.000000  63.0  Female   \n",
       "36739          0.0                              0.586124  42.0    Male   \n",
       "\n",
       "         Region  MonthlyIncome Rented_OwnHouse Occupation     Education  \\\n",
       "77511   Central            NaN        Ownhouse   Officer2  Professional   \n",
       "17422     North        11000.0        Ownhouse   Self_Emp     Post-Grad   \n",
       "111815    South         5625.0        Ownhouse   Self_Emp        Matric   \n",
       "34211     North        42800.0        Ownhouse   Self_Emp           PhD   \n",
       "36739     North         5200.0        Ownhouse   Self_Emp        Matric   \n",
       "\n",
       "        NumberOfTime30-59DaysPastDueNotWorse    DebtRatio  MonthlyIncome.1  \\\n",
       "77511                                    0.0  3847.000000              NaN   \n",
       "17422                                    0.0     0.153895          11000.0   \n",
       "111815                                   0.0     0.157128           5625.0   \n",
       "34211                                    0.0     0.204014          42800.0   \n",
       "36739                                    0.0     0.304365           5200.0   \n",
       "\n",
       "        NumberOfOpenCreditLinesAndLoans  NumberOfTimes90DaysLate  \\\n",
       "77511                              11.0                      0.0   \n",
       "17422                               4.0                      0.0   \n",
       "111815                              6.0                      0.0   \n",
       "34211                               9.0                      0.0   \n",
       "36739                              17.0                      0.0   \n",
       "\n",
       "        NumberRealEstateLoansOrLines  NumberOfTime60-89DaysPastDueNotWorse  \\\n",
       "77511                            2.0                                   0.0   \n",
       "17422                            1.0                                   1.0   \n",
       "111815                           0.0                                   0.0   \n",
       "34211                            3.0                                   0.0   \n",
       "36739                            0.0                                   0.0   \n",
       "\n",
       "       NumberOfDependents Good_Bad  \n",
       "77511                 0.0     Good  \n",
       "17422                 2.0     Good  \n",
       "111815                0.0     Good  \n",
       "34211                 1.0     Good  \n",
       "36739                 0.0     Good  "
      ]
     },
     "execution_count": 67,
     "metadata": {},
     "output_type": "execute_result"
    }
   ],
   "source": [
    "test_data.head()"
   ]
  },
  {
   "cell_type": "code",
   "execution_count": 68,
   "id": "58da6364",
   "metadata": {},
   "outputs": [
    {
     "name": "stdout",
     "output_type": "stream",
     "text": [
      "<class 'pandas.core.frame.DataFrame'>\n",
      "Int64Index: 15001 entries, 77511 to 38279\n",
      "Data columns (total 18 columns):\n",
      " #   Column                                Non-Null Count  Dtype  \n",
      "---  ------                                --------------  -----  \n",
      " 0   NPA Status                            15001 non-null  float64\n",
      " 1   RevolvingUtilizationOfUnsecuredLines  15001 non-null  float64\n",
      " 2   age                                   15001 non-null  float64\n",
      " 3   Gender                                15001 non-null  object \n",
      " 4   Region                                15001 non-null  object \n",
      " 5   MonthlyIncome                         12059 non-null  float64\n",
      " 6   Rented_OwnHouse                       15001 non-null  object \n",
      " 7   Occupation                            15001 non-null  object \n",
      " 8   Education                             15001 non-null  object \n",
      " 9   NumberOfTime30-59DaysPastDueNotWorse  15001 non-null  float64\n",
      " 10  DebtRatio                             15001 non-null  float64\n",
      " 11  MonthlyIncome.1                       12059 non-null  float64\n",
      " 12  NumberOfOpenCreditLinesAndLoans       15001 non-null  float64\n",
      " 13  NumberOfTimes90DaysLate               15001 non-null  float64\n",
      " 14  NumberRealEstateLoansOrLines          15001 non-null  float64\n",
      " 15  NumberOfTime60-89DaysPastDueNotWorse  15001 non-null  float64\n",
      " 16  NumberOfDependents                    14650 non-null  object \n",
      " 17  Good_Bad                              15001 non-null  object \n",
      "dtypes: float64(11), object(7)\n",
      "memory usage: 2.2+ MB\n"
     ]
    }
   ],
   "source": [
    "## checking information\n",
    "\n",
    "test_data.info()"
   ]
  },
  {
   "cell_type": "code",
   "execution_count": 69,
   "id": "3e6778d7",
   "metadata": {},
   "outputs": [],
   "source": [
    "test_data=test_data.drop(['MonthlyIncome.1'],axis=1)"
   ]
  },
  {
   "cell_type": "code",
   "execution_count": 70,
   "id": "35491062",
   "metadata": {},
   "outputs": [
    {
     "data": {
      "text/plain": [
       "Index(['NPA Status', 'RevolvingUtilizationOfUnsecuredLines', 'age', 'Gender',\n",
       "       'Region', 'MonthlyIncome', 'Rented_OwnHouse', 'Occupation', 'Education',\n",
       "       'NumberOfTime30-59DaysPastDueNotWorse', 'DebtRatio',\n",
       "       'NumberOfOpenCreditLinesAndLoans', 'NumberOfTimes90DaysLate',\n",
       "       'NumberRealEstateLoansOrLines', 'NumberOfTime60-89DaysPastDueNotWorse',\n",
       "       'NumberOfDependents', 'Good_Bad'],\n",
       "      dtype='object')"
      ]
     },
     "execution_count": 70,
     "metadata": {},
     "output_type": "execute_result"
    }
   ],
   "source": [
    "test_data.columns"
   ]
  },
  {
   "cell_type": "code",
   "execution_count": 71,
   "id": "e55e4178",
   "metadata": {},
   "outputs": [],
   "source": [
    "## converting dtpe object to numerical in numberofdependents column"
   ]
  },
  {
   "cell_type": "code",
   "execution_count": 72,
   "id": "77d0f79f",
   "metadata": {},
   "outputs": [],
   "source": [
    "test_data['NumberOfDependents']=pd.to_numeric(test_data['NumberOfDependents'])"
   ]
  },
  {
   "cell_type": "code",
   "execution_count": 73,
   "id": "b289174a",
   "metadata": {},
   "outputs": [],
   "source": [
    "## filling nullvalues "
   ]
  },
  {
   "cell_type": "code",
   "execution_count": 74,
   "id": "ae741f3f",
   "metadata": {},
   "outputs": [],
   "source": [
    "test_data['NumberOfDependents']=test_data['NumberOfDependents'].fillna(mean)\n",
    "test_data['MonthlyIncome']=test_data['MonthlyIncome'].fillna(mode1)"
   ]
  },
  {
   "cell_type": "code",
   "execution_count": 75,
   "id": "4aca5b20",
   "metadata": {},
   "outputs": [
    {
     "data": {
      "text/plain": [
       "NPA Status                              0\n",
       "RevolvingUtilizationOfUnsecuredLines    0\n",
       "age                                     0\n",
       "Gender                                  0\n",
       "Region                                  0\n",
       "MonthlyIncome                           0\n",
       "Rented_OwnHouse                         0\n",
       "Occupation                              0\n",
       "Education                               0\n",
       "NumberOfTime30-59DaysPastDueNotWorse    0\n",
       "DebtRatio                               0\n",
       "NumberOfOpenCreditLinesAndLoans         0\n",
       "NumberOfTimes90DaysLate                 0\n",
       "NumberRealEstateLoansOrLines            0\n",
       "NumberOfTime60-89DaysPastDueNotWorse    0\n",
       "NumberOfDependents                      0\n",
       "Good_Bad                                0\n",
       "dtype: int64"
      ]
     },
     "execution_count": 75,
     "metadata": {},
     "output_type": "execute_result"
    }
   ],
   "source": [
    "test_data.isnull().sum()"
   ]
  },
  {
   "cell_type": "markdown",
   "id": "c4f7d2c2",
   "metadata": {},
   "source": [
    "## All nullvalues are cleared on both training data and test data"
   ]
  },
  {
   "cell_type": "markdown",
   "id": "191263de",
   "metadata": {},
   "source": [
    "### Checking KDE for numerical features in training data"
   ]
  },
  {
   "cell_type": "code",
   "execution_count": 76,
   "id": "55fc7e34",
   "metadata": {},
   "outputs": [
    {
     "data": {
      "text/plain": [
       "(134999, 11)"
      ]
     },
     "execution_count": 76,
     "metadata": {},
     "output_type": "execute_result"
    }
   ],
   "source": [
    "training_data_num=training_data.select_dtypes(exclude='object')\n",
    "training_data_num.shape\n"
   ]
  },
  {
   "cell_type": "code",
   "execution_count": 77,
   "id": "87a81a2d",
   "metadata": {},
   "outputs": [
    {
     "data": {
      "text/plain": [
       "Index(['NPA Status', 'RevolvingUtilizationOfUnsecuredLines', 'age',\n",
       "       'NumberOfTime30-59DaysPastDueNotWorse', 'DebtRatio',\n",
       "       'NumberOfOpenCreditLinesAndLoans', 'NumberOfTimes90DaysLate',\n",
       "       'NumberRealEstateLoansOrLines', 'NumberOfTime60-89DaysPastDueNotWorse',\n",
       "       'NumberOfDependents_mean_replaced', 'MonthlyIncome_mode_replaced'],\n",
       "      dtype='object')"
      ]
     },
     "execution_count": 77,
     "metadata": {},
     "output_type": "execute_result"
    }
   ],
   "source": [
    "training_data_num.columns"
   ]
  },
  {
   "cell_type": "code",
   "execution_count": 78,
   "id": "6c4cab23",
   "metadata": {},
   "outputs": [],
   "source": [
    "## checking normal distribution for numerical columns in training data"
   ]
  },
  {
   "cell_type": "code",
   "execution_count": 79,
   "id": "97ffa6e4",
   "metadata": {},
   "outputs": [
    {
     "data": {
      "image/png": "[encoded data removed]",
      "text/plain": [
       "<Figure size 1440x1080 with 12 Axes>"
      ]
     },
     "metadata": {
      "needs_background": "light"
     },
     "output_type": "display_data"
    }
   ],
   "source": [
    "c=training_data_num.columns\n",
    "fig,ax=plt.subplots(6,2,figsize=(20,15))\n",
    "for i,subplot in zip(c,ax.flatten()):\n",
    "    sns.distplot(training_data_num[i],ax=subplot,color='g')"
   ]
  },
  {
   "cell_type": "markdown",
   "id": "aeb59c12",
   "metadata": {},
   "source": [
    "## checking outliers in training data"
   ]
  },
  {
   "cell_type": "code",
   "execution_count": 80,
   "id": "aa30ee80",
   "metadata": {},
   "outputs": [
    {
     "data": {
      "image/png": "[encoded data removed]",
      "text/plain": [
       "<Figure size 1440x1080 with 12 Axes>"
      ]
     },
     "metadata": {
      "needs_background": "light"
     },
     "output_type": "display_data"
    }
   ],
   "source": [
    "c=training_data_num.columns\n",
    "fig,ax=plt.subplots(6,2,figsize=(20,15))\n",
    "for i,subplot in zip(c,ax.flatten()):\n",
    "    sns.boxplot(training_data_num[i],ax=subplot,color='r')"
   ]
  },
  {
   "cell_type": "markdown",
   "id": "bef6324c",
   "metadata": {},
   "source": [
    "## Checking with variable transformation concepts whether it will change or not"
   ]
  },
  {
   "cell_type": "code",
   "execution_count": 81,
   "id": "d00e35ba",
   "metadata": {},
   "outputs": [
    {
     "data": {
      "text/plain": [
       "<AxesSubplot:xlabel='RevolvingUtilizationOfUnsecuredLines'>"
      ]
     },
     "execution_count": 81,
     "metadata": {},
     "output_type": "execute_result"
    },
    {
     "data": {
      "image/png": "[encoded data removed]",
      "text/plain": [
       "<Figure size 432x288 with 1 Axes>"
      ]
     },
     "metadata": {
      "needs_background": "light"
     },
     "output_type": "display_data"
    }
   ],
   "source": [
    "sns.boxplot(training_data_num['RevolvingUtilizationOfUnsecuredLines'])"
   ]
  },
  {
   "cell_type": "code",
   "execution_count": 82,
   "id": "716473cb",
   "metadata": {},
   "outputs": [],
   "source": [
    "import scipy.stats as stats"
   ]
  },
  {
   "cell_type": "code",
   "execution_count": 83,
   "id": "81fe43c2",
   "metadata": {},
   "outputs": [],
   "source": [
    "def fun(training_data_num,var):\n",
    "    plt.figure(figsize=(15,5))\n",
    "    plt.subplot(1,3,1)\n",
    "    plt.title('boxplot')\n",
    "    sns.boxplot(training_data_num[var])\n",
    "    plt.subplot(1,3,2)\n",
    "    plt.title('hist')\n",
    "    plt.hist(training_data_num[var])\n",
    "    plt.subplot(1,3,3)\n",
    "    plt.title('Probplot')\n",
    "    stats.probplot(training_data_num[var],dist='norm',plot=plt)\n",
    "    plt.show()"
   ]
  },
  {
   "cell_type": "code",
   "execution_count": 84,
   "id": "204a79d0",
   "metadata": {},
   "outputs": [
    {
     "data": {
      "image/png": "[encoded data removed]",
      "text/plain": [
       "<Figure size 1080x360 with 3 Axes>"
      ]
     },
     "metadata": {
      "needs_background": "light"
     },
     "output_type": "display_data"
    }
   ],
   "source": [
    "fun(training_data_num,'RevolvingUtilizationOfUnsecuredLines')"
   ]
  },
  {
   "cell_type": "code",
   "execution_count": 85,
   "id": "5b94dcd7",
   "metadata": {},
   "outputs": [],
   "source": [
    "training_data_num['RevolvingUtilizationOfUnsecuredLines_chec'],alpha=stats.yeojohnson(training_data_num['RevolvingUtilizationOfUnsecuredLines'])"
   ]
  },
  {
   "cell_type": "code",
   "execution_count": 86,
   "id": "4e998e91",
   "metadata": {},
   "outputs": [
    {
     "data": {
      "image/png": "[encoded data removed]",
      "text/plain": [
       "<Figure size 1080x360 with 3 Axes>"
      ]
     },
     "metadata": {
      "needs_background": "light"
     },
     "output_type": "display_data"
    }
   ],
   "source": [
    "fun(training_data_num,'RevolvingUtilizationOfUnsecuredLines_chec')"
   ]
  },
  {
   "cell_type": "code",
   "execution_count": 87,
   "id": "54f74f7e",
   "metadata": {},
   "outputs": [
    {
     "data": {
      "text/plain": [
       "Index(['NPA Status', 'RevolvingUtilizationOfUnsecuredLines', 'age',\n",
       "       'NumberOfTime30-59DaysPastDueNotWorse', 'DebtRatio',\n",
       "       'NumberOfOpenCreditLinesAndLoans', 'NumberOfTimes90DaysLate',\n",
       "       'NumberRealEstateLoansOrLines', 'NumberOfTime60-89DaysPastDueNotWorse',\n",
       "       'NumberOfDependents_mean_replaced', 'MonthlyIncome_mode_replaced',\n",
       "       'RevolvingUtilizationOfUnsecuredLines_chec'],\n",
       "      dtype='object')"
      ]
     },
     "execution_count": 87,
     "metadata": {},
     "output_type": "execute_result"
    }
   ],
   "source": [
    "training_data_num.columns"
   ]
  },
  {
   "cell_type": "code",
   "execution_count": 88,
   "id": "1202e947",
   "metadata": {},
   "outputs": [],
   "source": [
    "training_data_num=training_data_num.drop(['RevolvingUtilizationOfUnsecuredLines_chec'],axis=1)"
   ]
  },
  {
   "cell_type": "code",
   "execution_count": 89,
   "id": "da8d0ee8",
   "metadata": {},
   "outputs": [
    {
     "data": {
      "text/plain": [
       "Index(['NPA Status', 'RevolvingUtilizationOfUnsecuredLines', 'age',\n",
       "       'NumberOfTime30-59DaysPastDueNotWorse', 'DebtRatio',\n",
       "       'NumberOfOpenCreditLinesAndLoans', 'NumberOfTimes90DaysLate',\n",
       "       'NumberRealEstateLoansOrLines', 'NumberOfTime60-89DaysPastDueNotWorse',\n",
       "       'NumberOfDependents_mean_replaced', 'MonthlyIncome_mode_replaced'],\n",
       "      dtype='object')"
      ]
     },
     "execution_count": 89,
     "metadata": {},
     "output_type": "execute_result"
    }
   ],
   "source": [
    "training_data_num.columns"
   ]
  },
  {
   "cell_type": "code",
   "execution_count": 90,
   "id": "2fb9802a",
   "metadata": {},
   "outputs": [],
   "source": [
    "## Using yeojohnson tecnique changing each variable in training data"
   ]
  },
  {
   "cell_type": "code",
   "execution_count": 91,
   "id": "26a05405",
   "metadata": {},
   "outputs": [],
   "source": [
    "def fun(training_data_num , var):\n",
    "    plt.figure(figsize=(15,5))\n",
    "    plt.subplot(1,3,1)\n",
    "    plt.title('boxplot')\n",
    "    sns.boxplot(training_data_num[var+'_yoe'])\n",
    "    plt.subplot(1,3,2)\n",
    "    plt.title('hist')\n",
    "    plt.hist(training_data_num[var+'_yoe'])\n",
    "    plt.subplot(1,3,3)\n",
    "    plt.title('Probplot')\n",
    "    stats.probplot(training_data_num[var+'_yoe'],dist='norm',plot=plt)\n",
    "    plt.show()"
   ]
  },
  {
   "cell_type": "code",
   "execution_count": 92,
   "id": "b550a7b2",
   "metadata": {},
   "outputs": [
    {
     "data": {
      "image/png": "[encoded data removed]",
      "text/plain": [
       "<Figure size 1080x360 with 3 Axes>"
      ]
     },
     "metadata": {
      "needs_background": "light"
     },
     "output_type": "display_data"
    },
    {
     "data": {
      "image/png": "[encoded data removed]",
      "text/plain": [
       "<Figure size 1080x360 with 3 Axes>"
      ]
     },
     "metadata": {
      "needs_background": "light"
     },
     "output_type": "display_data"
    },
    {
     "data": {
      "image/png": "[encoded data removed]",
      "text/plain": [
       "<Figure size 1080x360 with 3 Axes>"
      ]
     },
     "metadata": {
      "needs_background": "light"
     },
     "output_type": "display_data"
    },
    {
     "data": {
      "image/png": "[encoded data removed]",
      "text/plain": [
       "<Figure size 1080x360 with 3 Axes>"
      ]
     },
     "metadata": {
      "needs_background": "light"
     },
     "output_type": "display_data"
    },
    {
     "data": {
      "image/png": "[encoded data removed]",
      "text/plain": [
       "<Figure size 1080x360 with 3 Axes>"
      ]
     },
     "metadata": {
      "needs_background": "light"
     },
     "output_type": "display_data"
    },
    {
     "data": {
      "image/png": "[encoded data removed]",
      "text/plain": [
       "<Figure size 1080x360 with 3 Axes>"
      ]
     },
     "metadata": {
      "needs_background": "light"
     },
     "output_type": "display_data"
    },
    {
     "data": {
      "image/png": "[encoded data removed]",
      "text/plain": [
       "<Figure size 1080x360 with 3 Axes>"
      ]
     },
     "metadata": {
      "needs_background": "light"
     },
     "output_type": "display_data"
    },
    {
     "data": {
      "image/png": "[encoded data removed]",
      "text/plain": [
       "<Figure size 1080x360 with 3 Axes>"
      ]
     },
     "metadata": {
      "needs_background": "light"
     },
     "output_type": "display_data"
    },
    {
     "data": {
      "image/png": "[encoded data removed]",
      "text/plain": [
       "<Figure size 1080x360 with 3 Axes>"
      ]
     },
     "metadata": {
      "needs_background": "light"
     },
     "output_type": "display_data"
    },
    {
     "data": {
      "image/png": "[encoded data removed]",
      "text/plain": [
       "<Figure size 1080x360 with 3 Axes>"
      ]
     },
     "metadata": {
      "needs_background": "light"
     },
     "output_type": "display_data"
    },
    {
     "data": {
      "image/png": "[encoded data removed]",
      "text/plain": [
       "<Figure size 1080x360 with 3 Axes>"
      ]
     },
     "metadata": {
      "needs_background": "light"
     },
     "output_type": "display_data"
    }
   ],
   "source": [
    "for i in training_data_num.columns:\n",
    "    training_data_num[i+'_yoe'], alpha=stats.yeojohnson(training_data_num[i])\n",
    "    fun(training_data_num,i)"
   ]
  },
  {
   "cell_type": "code",
   "execution_count": 93,
   "id": "20e2d124",
   "metadata": {},
   "outputs": [
    {
     "data": {
      "text/plain": [
       "Index(['NPA Status', 'RevolvingUtilizationOfUnsecuredLines', 'age',\n",
       "       'NumberOfTime30-59DaysPastDueNotWorse', 'DebtRatio',\n",
       "       'NumberOfOpenCreditLinesAndLoans', 'NumberOfTimes90DaysLate',\n",
       "       'NumberRealEstateLoansOrLines', 'NumberOfTime60-89DaysPastDueNotWorse',\n",
       "       'NumberOfDependents_mean_replaced', 'MonthlyIncome_mode_replaced',\n",
       "       'NPA Status_yoe', 'RevolvingUtilizationOfUnsecuredLines_yoe', 'age_yoe',\n",
       "       'NumberOfTime30-59DaysPastDueNotWorse_yoe', 'DebtRatio_yoe',\n",
       "       'NumberOfOpenCreditLinesAndLoans_yoe', 'NumberOfTimes90DaysLate_yoe',\n",
       "       'NumberRealEstateLoansOrLines_yoe',\n",
       "       'NumberOfTime60-89DaysPastDueNotWorse_yoe',\n",
       "       'NumberOfDependents_mean_replaced_yoe',\n",
       "       'MonthlyIncome_mode_replaced_yoe'],\n",
       "      dtype='object')"
      ]
     },
     "execution_count": 93,
     "metadata": {},
     "output_type": "execute_result"
    }
   ],
   "source": [
    "training_data_num.columns"
   ]
  },
  {
   "cell_type": "code",
   "execution_count": 94,
   "id": "c37a076f",
   "metadata": {},
   "outputs": [
    {
     "data": {
      "text/plain": [
       "22"
      ]
     },
     "execution_count": 94,
     "metadata": {},
     "output_type": "execute_result"
    }
   ],
   "source": [
    "len(training_data_num.columns)"
   ]
  },
  {
   "cell_type": "markdown",
   "id": "a30748c6",
   "metadata": {},
   "source": [
    "## Plotting boxplot for original features"
   ]
  },
  {
   "cell_type": "code",
   "execution_count": 95,
   "id": "e1ac2b04",
   "metadata": {},
   "outputs": [
    {
     "data": {
      "image/png": "[encoded data removed]",
      "text/plain": [
       "<Figure size 1800x1080 with 12 Axes>"
      ]
     },
     "metadata": {
      "needs_background": "light"
     },
     "output_type": "display_data"
    }
   ],
   "source": [
    "k=['NPA Status', 'RevolvingUtilizationOfUnsecuredLines', 'age',\n",
    "       'NumberOfTime30-59DaysPastDueNotWorse', 'DebtRatio',\n",
    "       'NumberOfOpenCreditLinesAndLoans', 'NumberOfTimes90DaysLate',\n",
    "       'NumberRealEstateLoansOrLines', 'NumberOfTime60-89DaysPastDueNotWorse',\n",
    "       'NumberOfDependents_mean_replaced', 'MonthlyIncome_mode_replaced']\n",
    "fig , ax=plt.subplots(6,2,figsize=(25,15))\n",
    "for i,subplot in zip(c,ax.flatten()):\n",
    "    sns.boxplot(training_data_num[i],ax=subplot,color='y')\n",
    "    "
   ]
  },
  {
   "cell_type": "markdown",
   "id": "d0821c74",
   "metadata": {},
   "source": [
    "## Plotting data after yeojohnson features technique in training data"
   ]
  },
  {
   "cell_type": "code",
   "execution_count": 96,
   "id": "99e6901c",
   "metadata": {},
   "outputs": [
    {
     "data": {
      "image/png": "[encoded data removed]",
      "text/plain": [
       "<Figure size 1800x1080 with 12 Axes>"
      ]
     },
     "metadata": {
      "needs_background": "light"
     },
     "output_type": "display_data"
    }
   ],
   "source": [
    "c=['NPA Status_yoe', 'RevolvingUtilizationOfUnsecuredLines_yoe', 'age_yoe',\n",
    "       'NumberOfTime30-59DaysPastDueNotWorse_yoe', 'DebtRatio_yoe',\n",
    "       'NumberOfOpenCreditLinesAndLoans_yoe', 'NumberOfTimes90DaysLate_yoe',\n",
    "       'NumberRealEstateLoansOrLines_yoe',\n",
    "       'NumberOfTime60-89DaysPastDueNotWorse_yoe',\n",
    "       'NumberOfDependents_mean_replaced_yoe',\n",
    "       'MonthlyIncome_mode_replaced_yoe']\n",
    "fig , ax=plt.subplots(6,2 , figsize=(25,15))\n",
    "for i, subplot in zip(c,ax.flatten()):\n",
    "    sns.boxplot(training_data_num[i],ax=subplot,color='g')"
   ]
  },
  {
   "cell_type": "raw",
   "id": "66dc1765",
   "metadata": {},
   "source": [
    "## deleting the features which doesnt have proper data"
   ]
  },
  {
   "cell_type": "code",
   "execution_count": 97,
   "id": "94f30eb4",
   "metadata": {},
   "outputs": [
    {
     "data": {
      "text/plain": [
       "('NPA Status_yoe',\n",
       " 'NumberOfTime30-59DaysPastDueNotWorse_yoe',\n",
       " 'NumberOfTimes90DaysLate_yoe',\n",
       " 'NumberOfTime60-89DaysPastDueNotWorse_yoe')"
      ]
     },
     "execution_count": 97,
     "metadata": {},
     "output_type": "execute_result"
    }
   ],
   "source": [
    "c[0],c[3],c[6],c[8] ## doent have proper data"
   ]
  },
  {
   "cell_type": "code",
   "execution_count": 98,
   "id": "4bf3ed30",
   "metadata": {},
   "outputs": [
    {
     "name": "stdout",
     "output_type": "stream",
     "text": [
      "The unique values in NPA Status_yoe = [-0.          0.04631305]\n",
      "\n",
      "The unique values in NumberOfTime30-59DaysPastDueNotWorse_yoe = [-0.          0.15301203  0.15137923  0.15302569  0.15302857  0.15291317\n",
      "  0.15302983  0.15302964  0.15302974  0.15302937  0.15302983  0.15302979\n",
      "  0.15302982  0.15302983  0.15302981  0.15302982]\n",
      "\n",
      "The unique values in NumberOfTimes90DaysLate_yoe = [-0.          0.05734618  0.05734586  0.05734618  0.05734618  0.05734618\n",
      "  0.05734618  0.05734618  0.05734618]\n",
      "\n",
      "The unique values in NumberOfTime60-89DaysPastDueNotWorse_yoe = [-0.          0.04785768  0.0478577   0.0478577   0.0478577   0.0478577 ]\n",
      "\n"
     ]
    }
   ],
   "source": [
    "hr=['NPA Status_yoe',\n",
    " 'NumberOfTime30-59DaysPastDueNotWorse_yoe',\n",
    " 'NumberOfTimes90DaysLate_yoe',\n",
    " 'NumberOfTime60-89DaysPastDueNotWorse_yoe']\n",
    "\n",
    "for i in hr:\n",
    "    print('The unique values in'+' '+i+' = '+str(training_data_num[i].unique()))\n",
    "    print()      \n",
    "          "
   ]
  },
  {
   "cell_type": "code",
   "execution_count": 99,
   "id": "24937fc5",
   "metadata": {},
   "outputs": [
    {
     "data": {
      "text/plain": [
       "Index(['NPA Status', 'RevolvingUtilizationOfUnsecuredLines', 'age',\n",
       "       'NumberOfTime30-59DaysPastDueNotWorse', 'DebtRatio',\n",
       "       'NumberOfOpenCreditLinesAndLoans', 'NumberOfTimes90DaysLate',\n",
       "       'NumberRealEstateLoansOrLines', 'NumberOfTime60-89DaysPastDueNotWorse',\n",
       "       'NumberOfDependents_mean_replaced', 'MonthlyIncome_mode_replaced',\n",
       "       'NPA Status_yoe', 'RevolvingUtilizationOfUnsecuredLines_yoe', 'age_yoe',\n",
       "       'NumberOfTime30-59DaysPastDueNotWorse_yoe', 'DebtRatio_yoe',\n",
       "       'NumberOfOpenCreditLinesAndLoans_yoe', 'NumberOfTimes90DaysLate_yoe',\n",
       "       'NumberRealEstateLoansOrLines_yoe',\n",
       "       'NumberOfTime60-89DaysPastDueNotWorse_yoe',\n",
       "       'NumberOfDependents_mean_replaced_yoe',\n",
       "       'MonthlyIncome_mode_replaced_yoe'],\n",
       "      dtype='object')"
      ]
     },
     "execution_count": 99,
     "metadata": {},
     "output_type": "execute_result"
    }
   ],
   "source": [
    "training_data_num.columns"
   ]
  },
  {
   "cell_type": "code",
   "execution_count": 100,
   "id": "27674ff0",
   "metadata": {},
   "outputs": [],
   "source": [
    "training_data_num_1=training_data_num[['RevolvingUtilizationOfUnsecuredLines_yoe', 'age_yoe',\n",
    "       'NumberOfTime30-59DaysPastDueNotWorse_yoe', 'DebtRatio_yoe',\n",
    "       'NumberOfOpenCreditLinesAndLoans_yoe',\n",
    "       'NumberRealEstateLoansOrLines_yoe',\n",
    "       'NumberOfDependents_mean_replaced_yoe',\n",
    "       'MonthlyIncome_mode_replaced_yoe']]"
   ]
  },
  {
   "cell_type": "code",
   "execution_count": 101,
   "id": "11fae5bb",
   "metadata": {},
   "outputs": [
    {
     "data": {
      "text/html": [
       "<div>\n",
       "<style scoped>\n",
       "    .dataframe tbody tr th:only-of-type {\n",
       "        vertical-align: middle;\n",
       "    }\n",
       "\n",
       "    .dataframe tbody tr th {\n",
       "        vertical-align: top;\n",
       "    }\n",
       "\n",
       "    .dataframe thead th {\n",
       "        text-align: right;\n",
       "    }\n",
       "</style>\n",
       "<table border=\"1\" class=\"dataframe\">\n",
       "  <thead>\n",
       "    <tr style=\"text-align: right;\">\n",
       "      <th></th>\n",
       "      <th>RevolvingUtilizationOfUnsecuredLines_yoe</th>\n",
       "      <th>age_yoe</th>\n",
       "      <th>NumberOfTime30-59DaysPastDueNotWorse_yoe</th>\n",
       "      <th>DebtRatio_yoe</th>\n",
       "      <th>NumberOfOpenCreditLinesAndLoans_yoe</th>\n",
       "      <th>NumberRealEstateLoansOrLines_yoe</th>\n",
       "      <th>NumberOfDependents_mean_replaced_yoe</th>\n",
       "      <th>MonthlyIncome_mode_replaced_yoe</th>\n",
       "    </tr>\n",
       "  </thead>\n",
       "  <tbody>\n",
       "    <tr>\n",
       "      <th>149883</th>\n",
       "      <td>0.004118</td>\n",
       "      <td>17.102734</td>\n",
       "      <td>-0.000000</td>\n",
       "      <td>0.206564</td>\n",
       "      <td>2.529692</td>\n",
       "      <td>0.961001</td>\n",
       "      <td>0.624393</td>\n",
       "      <td>65.830385</td>\n",
       "    </tr>\n",
       "    <tr>\n",
       "      <th>34945</th>\n",
       "      <td>0.364350</td>\n",
       "      <td>12.952401</td>\n",
       "      <td>0.153012</td>\n",
       "      <td>0.492462</td>\n",
       "      <td>1.804689</td>\n",
       "      <td>0.636561</td>\n",
       "      <td>0.653705</td>\n",
       "      <td>38.671933</td>\n",
       "    </tr>\n",
       "    <tr>\n",
       "      <th>120143</th>\n",
       "      <td>0.245834</td>\n",
       "      <td>19.443287</td>\n",
       "      <td>-0.000000</td>\n",
       "      <td>0.198022</td>\n",
       "      <td>3.609993</td>\n",
       "      <td>0.961001</td>\n",
       "      <td>-0.000000</td>\n",
       "      <td>83.915736</td>\n",
       "    </tr>\n",
       "    <tr>\n",
       "      <th>56652</th>\n",
       "      <td>0.253755</td>\n",
       "      <td>22.906850</td>\n",
       "      <td>-0.000000</td>\n",
       "      <td>0.214197</td>\n",
       "      <td>4.248286</td>\n",
       "      <td>-0.000000</td>\n",
       "      <td>0.449138</td>\n",
       "      <td>53.174213</td>\n",
       "    </tr>\n",
       "    <tr>\n",
       "      <th>17440</th>\n",
       "      <td>0.230134</td>\n",
       "      <td>14.048325</td>\n",
       "      <td>-0.000000</td>\n",
       "      <td>0.354409</td>\n",
       "      <td>3.370387</td>\n",
       "      <td>0.961001</td>\n",
       "      <td>0.624393</td>\n",
       "      <td>42.620070</td>\n",
       "    </tr>\n",
       "  </tbody>\n",
       "</table>\n",
       "</div>"
      ],
      "text/plain": [
       "        RevolvingUtilizationOfUnsecuredLines_yoe    age_yoe  \\\n",
       "149883                                  0.004118  17.102734   \n",
       "34945                                   0.364350  12.952401   \n",
       "120143                                  0.245834  19.443287   \n",
       "56652                                   0.253755  22.906850   \n",
       "17440                                   0.230134  14.048325   \n",
       "\n",
       "        NumberOfTime30-59DaysPastDueNotWorse_yoe  DebtRatio_yoe  \\\n",
       "149883                                 -0.000000       0.206564   \n",
       "34945                                   0.153012       0.492462   \n",
       "120143                                 -0.000000       0.198022   \n",
       "56652                                  -0.000000       0.214197   \n",
       "17440                                  -0.000000       0.354409   \n",
       "\n",
       "        NumberOfOpenCreditLinesAndLoans_yoe  NumberRealEstateLoansOrLines_yoe  \\\n",
       "149883                             2.529692                          0.961001   \n",
       "34945                              1.804689                          0.636561   \n",
       "120143                             3.609993                          0.961001   \n",
       "56652                              4.248286                         -0.000000   \n",
       "17440                              3.370387                          0.961001   \n",
       "\n",
       "        NumberOfDependents_mean_replaced_yoe  MonthlyIncome_mode_replaced_yoe  \n",
       "149883                              0.624393                        65.830385  \n",
       "34945                               0.653705                        38.671933  \n",
       "120143                             -0.000000                        83.915736  \n",
       "56652                               0.449138                        53.174213  \n",
       "17440                               0.624393                        42.620070  "
      ]
     },
     "execution_count": 101,
     "metadata": {},
     "output_type": "execute_result"
    }
   ],
   "source": [
    "training_data_num_1.head()"
   ]
  },
  {
   "cell_type": "code",
   "execution_count": 102,
   "id": "f6f83c4d",
   "metadata": {},
   "outputs": [
    {
     "data": {
      "text/plain": [
       "8"
      ]
     },
     "execution_count": 102,
     "metadata": {},
     "output_type": "execute_result"
    }
   ],
   "source": [
    "len(training_data_num_1.columns)"
   ]
  },
  {
   "cell_type": "code",
   "execution_count": 103,
   "id": "067e53fd",
   "metadata": {},
   "outputs": [
    {
     "data": {
      "image/png": "[encoded data removed]",
      "text/plain": [
       "<Figure size 1800x1080 with 8 Axes>"
      ]
     },
     "metadata": {
      "needs_background": "light"
     },
     "output_type": "display_data"
    }
   ],
   "source": [
    "c=training_data_num_1.columns\n",
    "fig, ax=plt.subplots(4 , 2 ,figsize=(25,15))\n",
    "for i,subplot in zip(c,ax.flatten()):\n",
    "    sns.boxplot(training_data_num_1[i],ax=subplot,color='r')"
   ]
  },
  {
   "cell_type": "markdown",
   "id": "cd53d112",
   "metadata": {},
   "source": [
    "## Since after using yeojohnson its giving good result but we need them in better way so iam using with iqr concepts with 5th and 95th std"
   ]
  },
  {
   "cell_type": "code",
   "execution_count": 104,
   "id": "a9b46da6",
   "metadata": {},
   "outputs": [],
   "source": [
    "## Checking for one column if it works will do it for all the columns"
   ]
  },
  {
   "cell_type": "code",
   "execution_count": 105,
   "id": "9e07ceb2",
   "metadata": {},
   "outputs": [],
   "source": [
    "def iqr(training_data_num_1,var):\n",
    "    iqr=training_data_num_1[var].quantile(0.75)-training_data_num_1[var].quantile(0.25)\n",
    "    upper_range=training_data_num_1[var].quantile(0.75)+(1.5*iqr)\n",
    "    lower_range=training_data_num_1[var].quantile(0.25)-(1.5*iqr)\n",
    "    return upper_range,lower_range\n",
    "\n",
    "\n",
    "upper,lower=iqr(training_data_num_1,'MonthlyIncome_mode_replaced_yoe')"
   ]
  },
  {
   "cell_type": "code",
   "execution_count": 106,
   "id": "a168819f",
   "metadata": {},
   "outputs": [
    {
     "data": {
      "text/plain": [
       "(80.62110985805352, 29.34580935482789)"
      ]
     },
     "execution_count": 106,
     "metadata": {},
     "output_type": "execute_result"
    }
   ],
   "source": [
    "upper,lower"
   ]
  },
  {
   "cell_type": "code",
   "execution_count": 107,
   "id": "259769a7",
   "metadata": {},
   "outputs": [],
   "source": [
    "training_data_num_1['MonthlyIncome_mode_replaced_yoe_re']=np.where(training_data_num_1['MonthlyIncome_mode_replaced_yoe']>upper,upper,\n",
    "                                                                np.where(training_data_num_1['MonthlyIncome_mode_replaced_yoe']<lower,lower,training_data_num_1['MonthlyIncome_mode_replaced_yoe']))\n",
    "                                                                \n",
    "                                                            \n",
    "         "
   ]
  },
  {
   "cell_type": "code",
   "execution_count": 108,
   "id": "9f7346ce",
   "metadata": {},
   "outputs": [
    {
     "data": {
      "text/plain": [
       "<AxesSubplot:xlabel='MonthlyIncome_mode_replaced_yoe_re'>"
      ]
     },
     "execution_count": 108,
     "metadata": {},
     "output_type": "execute_result"
    },
    {
     "data": {
      "image/png": "[encoded data removed]",
      "text/plain": [
       "<Figure size 432x288 with 1 Axes>"
      ]
     },
     "metadata": {
      "needs_background": "light"
     },
     "output_type": "display_data"
    }
   ],
   "source": [
    "sns.boxplot(training_data_num_1['MonthlyIncome_mode_replaced_yoe_re'])"
   ]
  },
  {
   "cell_type": "code",
   "execution_count": 109,
   "id": "a5bc26ca",
   "metadata": {},
   "outputs": [
    {
     "data": {
      "text/plain": [
       "Index(['RevolvingUtilizationOfUnsecuredLines_yoe', 'age_yoe',\n",
       "       'NumberOfTime30-59DaysPastDueNotWorse_yoe', 'DebtRatio_yoe',\n",
       "       'NumberOfOpenCreditLinesAndLoans_yoe',\n",
       "       'NumberRealEstateLoansOrLines_yoe',\n",
       "       'NumberOfDependents_mean_replaced_yoe',\n",
       "       'MonthlyIncome_mode_replaced_yoe',\n",
       "       'MonthlyIncome_mode_replaced_yoe_re'],\n",
       "      dtype='object')"
      ]
     },
     "execution_count": 109,
     "metadata": {},
     "output_type": "execute_result"
    }
   ],
   "source": [
    "training_data_num_1.columns"
   ]
  },
  {
   "cell_type": "code",
   "execution_count": 110,
   "id": "40537372",
   "metadata": {},
   "outputs": [
    {
     "data": {
      "text/html": [
       "<div>\n",
       "<style scoped>\n",
       "    .dataframe tbody tr th:only-of-type {\n",
       "        vertical-align: middle;\n",
       "    }\n",
       "\n",
       "    .dataframe tbody tr th {\n",
       "        vertical-align: top;\n",
       "    }\n",
       "\n",
       "    .dataframe thead th {\n",
       "        text-align: right;\n",
       "    }\n",
       "</style>\n",
       "<table border=\"1\" class=\"dataframe\">\n",
       "  <thead>\n",
       "    <tr style=\"text-align: right;\">\n",
       "      <th></th>\n",
       "      <th>RevolvingUtilizationOfUnsecuredLines_yoe</th>\n",
       "      <th>age_yoe</th>\n",
       "      <th>NumberOfTime30-59DaysPastDueNotWorse_yoe</th>\n",
       "      <th>DebtRatio_yoe</th>\n",
       "      <th>NumberOfOpenCreditLinesAndLoans_yoe</th>\n",
       "      <th>NumberRealEstateLoansOrLines_yoe</th>\n",
       "      <th>NumberOfDependents_mean_replaced_yoe</th>\n",
       "      <th>MonthlyIncome_mode_replaced_yoe</th>\n",
       "    </tr>\n",
       "  </thead>\n",
       "  <tbody>\n",
       "    <tr>\n",
       "      <th>149883</th>\n",
       "      <td>0.004118</td>\n",
       "      <td>17.102734</td>\n",
       "      <td>-0.000000</td>\n",
       "      <td>0.206564</td>\n",
       "      <td>2.529692</td>\n",
       "      <td>0.961001</td>\n",
       "      <td>0.624393</td>\n",
       "      <td>65.830385</td>\n",
       "    </tr>\n",
       "    <tr>\n",
       "      <th>34945</th>\n",
       "      <td>0.364350</td>\n",
       "      <td>12.952401</td>\n",
       "      <td>0.153012</td>\n",
       "      <td>0.492462</td>\n",
       "      <td>1.804689</td>\n",
       "      <td>0.636561</td>\n",
       "      <td>0.653705</td>\n",
       "      <td>38.671933</td>\n",
       "    </tr>\n",
       "    <tr>\n",
       "      <th>120143</th>\n",
       "      <td>0.245834</td>\n",
       "      <td>19.443287</td>\n",
       "      <td>-0.000000</td>\n",
       "      <td>0.198022</td>\n",
       "      <td>3.609993</td>\n",
       "      <td>0.961001</td>\n",
       "      <td>-0.000000</td>\n",
       "      <td>83.915736</td>\n",
       "    </tr>\n",
       "    <tr>\n",
       "      <th>56652</th>\n",
       "      <td>0.253755</td>\n",
       "      <td>22.906850</td>\n",
       "      <td>-0.000000</td>\n",
       "      <td>0.214197</td>\n",
       "      <td>4.248286</td>\n",
       "      <td>-0.000000</td>\n",
       "      <td>0.449138</td>\n",
       "      <td>53.174213</td>\n",
       "    </tr>\n",
       "    <tr>\n",
       "      <th>17440</th>\n",
       "      <td>0.230134</td>\n",
       "      <td>14.048325</td>\n",
       "      <td>-0.000000</td>\n",
       "      <td>0.354409</td>\n",
       "      <td>3.370387</td>\n",
       "      <td>0.961001</td>\n",
       "      <td>0.624393</td>\n",
       "      <td>42.620070</td>\n",
       "    </tr>\n",
       "    <tr>\n",
       "      <th>...</th>\n",
       "      <td>...</td>\n",
       "      <td>...</td>\n",
       "      <td>...</td>\n",
       "      <td>...</td>\n",
       "      <td>...</td>\n",
       "      <td>...</td>\n",
       "      <td>...</td>\n",
       "      <td>...</td>\n",
       "    </tr>\n",
       "    <tr>\n",
       "      <th>102327</th>\n",
       "      <td>0.014843</td>\n",
       "      <td>20.558779</td>\n",
       "      <td>-0.000000</td>\n",
       "      <td>1.506680</td>\n",
       "      <td>4.798625</td>\n",
       "      <td>0.636561</td>\n",
       "      <td>-0.000000</td>\n",
       "      <td>0.000000</td>\n",
       "    </tr>\n",
       "    <tr>\n",
       "      <th>97617</th>\n",
       "      <td>-0.000000</td>\n",
       "      <td>17.344156</td>\n",
       "      <td>-0.000000</td>\n",
       "      <td>0.150640</td>\n",
       "      <td>3.834828</td>\n",
       "      <td>0.636561</td>\n",
       "      <td>0.624393</td>\n",
       "      <td>62.818235</td>\n",
       "    </tr>\n",
       "    <tr>\n",
       "      <th>21584</th>\n",
       "      <td>0.235504</td>\n",
       "      <td>16.859511</td>\n",
       "      <td>0.151379</td>\n",
       "      <td>1.511715</td>\n",
       "      <td>3.609993</td>\n",
       "      <td>0.961001</td>\n",
       "      <td>0.570806</td>\n",
       "      <td>53.174213</td>\n",
       "    </tr>\n",
       "    <tr>\n",
       "      <th>36543</th>\n",
       "      <td>0.042493</td>\n",
       "      <td>20.778011</td>\n",
       "      <td>-0.000000</td>\n",
       "      <td>0.191656</td>\n",
       "      <td>2.529692</td>\n",
       "      <td>0.961001</td>\n",
       "      <td>-0.000000</td>\n",
       "      <td>60.324536</td>\n",
       "    </tr>\n",
       "    <tr>\n",
       "      <th>141209</th>\n",
       "      <td>-0.000000</td>\n",
       "      <td>15.614480</td>\n",
       "      <td>-0.000000</td>\n",
       "      <td>0.213900</td>\n",
       "      <td>2.190379</td>\n",
       "      <td>0.636561</td>\n",
       "      <td>0.624393</td>\n",
       "      <td>57.544165</td>\n",
       "    </tr>\n",
       "  </tbody>\n",
       "</table>\n",
       "<p>134999 rows × 8 columns</p>\n",
       "</div>"
      ],
      "text/plain": [
       "        RevolvingUtilizationOfUnsecuredLines_yoe    age_yoe  \\\n",
       "149883                                  0.004118  17.102734   \n",
       "34945                                   0.364350  12.952401   \n",
       "120143                                  0.245834  19.443287   \n",
       "56652                                   0.253755  22.906850   \n",
       "17440                                   0.230134  14.048325   \n",
       "...                                          ...        ...   \n",
       "102327                                  0.014843  20.558779   \n",
       "97617                                  -0.000000  17.344156   \n",
       "21584                                   0.235504  16.859511   \n",
       "36543                                   0.042493  20.778011   \n",
       "141209                                 -0.000000  15.614480   \n",
       "\n",
       "        NumberOfTime30-59DaysPastDueNotWorse_yoe  DebtRatio_yoe  \\\n",
       "149883                                 -0.000000       0.206564   \n",
       "34945                                   0.153012       0.492462   \n",
       "120143                                 -0.000000       0.198022   \n",
       "56652                                  -0.000000       0.214197   \n",
       "17440                                  -0.000000       0.354409   \n",
       "...                                          ...            ...   \n",
       "102327                                 -0.000000       1.506680   \n",
       "97617                                  -0.000000       0.150640   \n",
       "21584                                   0.151379       1.511715   \n",
       "36543                                  -0.000000       0.191656   \n",
       "141209                                 -0.000000       0.213900   \n",
       "\n",
       "        NumberOfOpenCreditLinesAndLoans_yoe  NumberRealEstateLoansOrLines_yoe  \\\n",
       "149883                             2.529692                          0.961001   \n",
       "34945                              1.804689                          0.636561   \n",
       "120143                             3.609993                          0.961001   \n",
       "56652                              4.248286                         -0.000000   \n",
       "17440                              3.370387                          0.961001   \n",
       "...                                     ...                               ...   \n",
       "102327                             4.798625                          0.636561   \n",
       "97617                              3.834828                          0.636561   \n",
       "21584                              3.609993                          0.961001   \n",
       "36543                              2.529692                          0.961001   \n",
       "141209                             2.190379                          0.636561   \n",
       "\n",
       "        NumberOfDependents_mean_replaced_yoe  MonthlyIncome_mode_replaced_yoe  \n",
       "149883                              0.624393                        65.830385  \n",
       "34945                               0.653705                        38.671933  \n",
       "120143                             -0.000000                        83.915736  \n",
       "56652                               0.449138                        53.174213  \n",
       "17440                               0.624393                        42.620070  \n",
       "...                                      ...                              ...  \n",
       "102327                             -0.000000                         0.000000  \n",
       "97617                               0.624393                        62.818235  \n",
       "21584                               0.570806                        53.174213  \n",
       "36543                              -0.000000                        60.324536  \n",
       "141209                              0.624393                        57.544165  \n",
       "\n",
       "[134999 rows x 8 columns]"
      ]
     },
     "execution_count": 110,
     "metadata": {},
     "output_type": "execute_result"
    }
   ],
   "source": [
    "training_data_num_1=training_data_num_1.drop(['MonthlyIncome_mode_replaced_yoe_re'],axis=1)\n",
    "training_data_num_1"
   ]
  },
  {
   "cell_type": "markdown",
   "id": "74654164",
   "metadata": {},
   "source": [
    "## Since its working we can apply this technique to all the variables"
   ]
  },
  {
   "cell_type": "raw",
   "id": "d3ec9661",
   "metadata": {},
   "source": [
    "## since we have taken reference between 25 and 75 so we consider same"
   ]
  },
  {
   "cell_type": "code",
   "execution_count": 111,
   "id": "40953dec",
   "metadata": {},
   "outputs": [],
   "source": [
    "def iqr(training_data_num_1 , var):\n",
    "    iqr = training_data_num_1[var].quantile(0.75) - training_data_num_1[var].quantile(0.25)\n",
    "    upper_range = training_data_num_1[var].quantile(0.75) + (1.5 * iqr)\n",
    "    lower_range = training_data_num_1[var].quantile(0.25) - (1.5 * iqr)\n",
    "    return upper_range , lower_range\n",
    "    \n",
    "    \n",
    "    \n",
    "upper , lower = iqr(training_data_num_1 , 'MonthlyIncome_mode_replaced_yoe')"
   ]
  },
  {
   "cell_type": "code",
   "execution_count": 112,
   "id": "04c08413",
   "metadata": {},
   "outputs": [],
   "source": [
    "for i in training_data_num_1.columns:\n",
    "    upper , lower = iqr(training_data_num_1 , i)\n",
    "    training_data_num_1[i+'_h'] = np.where(training_data_num_1[i] > upper , upper,\n",
    "                                            np.where(training_data_num_1[i] < lower , lower , training_data_num_1[i]))\n",
    "    \n"
   ]
  },
  {
   "cell_type": "code",
   "execution_count": 113,
   "id": "6d9a315f",
   "metadata": {},
   "outputs": [
    {
     "data": {
      "text/plain": [
       "Index(['RevolvingUtilizationOfUnsecuredLines_yoe', 'age_yoe',\n",
       "       'NumberOfTime30-59DaysPastDueNotWorse_yoe', 'DebtRatio_yoe',\n",
       "       'NumberOfOpenCreditLinesAndLoans_yoe',\n",
       "       'NumberRealEstateLoansOrLines_yoe',\n",
       "       'NumberOfDependents_mean_replaced_yoe',\n",
       "       'MonthlyIncome_mode_replaced_yoe',\n",
       "       'RevolvingUtilizationOfUnsecuredLines_yoe_h', 'age_yoe_h',\n",
       "       'NumberOfTime30-59DaysPastDueNotWorse_yoe_h', 'DebtRatio_yoe_h',\n",
       "       'NumberOfOpenCreditLinesAndLoans_yoe_h',\n",
       "       'NumberRealEstateLoansOrLines_yoe_h',\n",
       "       'NumberOfDependents_mean_replaced_yoe_h',\n",
       "       'MonthlyIncome_mode_replaced_yoe_h'],\n",
       "      dtype='object')"
      ]
     },
     "execution_count": 113,
     "metadata": {},
     "output_type": "execute_result"
    }
   ],
   "source": [
    "training_data_num_1.columns"
   ]
  },
  {
   "cell_type": "code",
   "execution_count": 114,
   "id": "1c184c5b",
   "metadata": {},
   "outputs": [],
   "source": [
    "## checking plots again"
   ]
  },
  {
   "cell_type": "code",
   "execution_count": 115,
   "id": "e8b5c00f",
   "metadata": {},
   "outputs": [
    {
     "data": {
      "image/png": "[encoded data removed]",
      "text/plain": [
       "<Figure size 1800x1080 with 8 Axes>"
      ]
     },
     "metadata": {
      "needs_background": "light"
     },
     "output_type": "display_data"
    }
   ],
   "source": [
    "r = ['RevolvingUtilizationOfUnsecuredLines_yoe_h', 'age_yoe_h',\n",
    "       'NumberOfTime30-59DaysPastDueNotWorse_yoe_h', 'DebtRatio_yoe_h',\n",
    "       'NumberOfOpenCreditLinesAndLoans_yoe_h',\n",
    "       'NumberRealEstateLoansOrLines_yoe_h',\n",
    "       'NumberOfDependents_mean_replaced_yoe_h',\n",
    "       'MonthlyIncome_mode_replaced_yoe_h']\n",
    "\n",
    "fig , ax = plt.subplots(4 , 2 , figsize=(25,15))\n",
    "for i,subplot in zip(r,ax.flatten()):\n",
    "    sns.boxplot(training_data_num_1[i],ax=subplot,color = 'g')"
   ]
  },
  {
   "cell_type": "code",
   "execution_count": 116,
   "id": "34bebb94",
   "metadata": {},
   "outputs": [],
   "source": [
    "final_num_train_data = training_data_num_1[['RevolvingUtilizationOfUnsecuredLines_yoe_h', 'age_yoe_h',\n",
    "       'NumberOfTime30-59DaysPastDueNotWorse_yoe_h', 'DebtRatio_yoe_h',\n",
    "       'NumberOfOpenCreditLinesAndLoans_yoe_h',\n",
    "       'NumberRealEstateLoansOrLines_yoe_h',\n",
    "       'NumberOfDependents_mean_replaced_yoe_h',\n",
    "       'MonthlyIncome_mode_replaced_yoe_h']]"
   ]
  },
  {
   "cell_type": "code",
   "execution_count": 117,
   "id": "c2e77b9e",
   "metadata": {},
   "outputs": [
    {
     "data": {
      "text/html": [
       "<div>\n",
       "<style scoped>\n",
       "    .dataframe tbody tr th:only-of-type {\n",
       "        vertical-align: middle;\n",
       "    }\n",
       "\n",
       "    .dataframe tbody tr th {\n",
       "        vertical-align: top;\n",
       "    }\n",
       "\n",
       "    .dataframe thead th {\n",
       "        text-align: right;\n",
       "    }\n",
       "</style>\n",
       "<table border=\"1\" class=\"dataframe\">\n",
       "  <thead>\n",
       "    <tr style=\"text-align: right;\">\n",
       "      <th></th>\n",
       "      <th>RevolvingUtilizationOfUnsecuredLines_yoe_h</th>\n",
       "      <th>age_yoe_h</th>\n",
       "      <th>NumberOfTime30-59DaysPastDueNotWorse_yoe_h</th>\n",
       "      <th>DebtRatio_yoe_h</th>\n",
       "      <th>NumberOfOpenCreditLinesAndLoans_yoe_h</th>\n",
       "      <th>NumberRealEstateLoansOrLines_yoe_h</th>\n",
       "      <th>NumberOfDependents_mean_replaced_yoe_h</th>\n",
       "      <th>MonthlyIncome_mode_replaced_yoe_h</th>\n",
       "    </tr>\n",
       "  </thead>\n",
       "  <tbody>\n",
       "    <tr>\n",
       "      <th>149883</th>\n",
       "      <td>0.004118</td>\n",
       "      <td>17.102734</td>\n",
       "      <td>-0.0</td>\n",
       "      <td>0.206564</td>\n",
       "      <td>2.529692</td>\n",
       "      <td>0.961001</td>\n",
       "      <td>0.624393</td>\n",
       "      <td>65.830385</td>\n",
       "    </tr>\n",
       "    <tr>\n",
       "      <th>34945</th>\n",
       "      <td>0.364350</td>\n",
       "      <td>12.952401</td>\n",
       "      <td>0.0</td>\n",
       "      <td>0.492462</td>\n",
       "      <td>1.804689</td>\n",
       "      <td>0.636561</td>\n",
       "      <td>0.653705</td>\n",
       "      <td>38.671933</td>\n",
       "    </tr>\n",
       "    <tr>\n",
       "      <th>120143</th>\n",
       "      <td>0.245834</td>\n",
       "      <td>19.443287</td>\n",
       "      <td>-0.0</td>\n",
       "      <td>0.198022</td>\n",
       "      <td>3.609993</td>\n",
       "      <td>0.961001</td>\n",
       "      <td>-0.000000</td>\n",
       "      <td>80.621110</td>\n",
       "    </tr>\n",
       "    <tr>\n",
       "      <th>56652</th>\n",
       "      <td>0.253755</td>\n",
       "      <td>22.906850</td>\n",
       "      <td>-0.0</td>\n",
       "      <td>0.214197</td>\n",
       "      <td>4.248286</td>\n",
       "      <td>-0.000000</td>\n",
       "      <td>0.449138</td>\n",
       "      <td>53.174213</td>\n",
       "    </tr>\n",
       "    <tr>\n",
       "      <th>17440</th>\n",
       "      <td>0.230134</td>\n",
       "      <td>14.048325</td>\n",
       "      <td>-0.0</td>\n",
       "      <td>0.354409</td>\n",
       "      <td>3.370387</td>\n",
       "      <td>0.961001</td>\n",
       "      <td>0.624393</td>\n",
       "      <td>42.620070</td>\n",
       "    </tr>\n",
       "  </tbody>\n",
       "</table>\n",
       "</div>"
      ],
      "text/plain": [
       "        RevolvingUtilizationOfUnsecuredLines_yoe_h  age_yoe_h  \\\n",
       "149883                                    0.004118  17.102734   \n",
       "34945                                     0.364350  12.952401   \n",
       "120143                                    0.245834  19.443287   \n",
       "56652                                     0.253755  22.906850   \n",
       "17440                                     0.230134  14.048325   \n",
       "\n",
       "        NumberOfTime30-59DaysPastDueNotWorse_yoe_h  DebtRatio_yoe_h  \\\n",
       "149883                                        -0.0         0.206564   \n",
       "34945                                          0.0         0.492462   \n",
       "120143                                        -0.0         0.198022   \n",
       "56652                                         -0.0         0.214197   \n",
       "17440                                         -0.0         0.354409   \n",
       "\n",
       "        NumberOfOpenCreditLinesAndLoans_yoe_h  \\\n",
       "149883                               2.529692   \n",
       "34945                                1.804689   \n",
       "120143                               3.609993   \n",
       "56652                                4.248286   \n",
       "17440                                3.370387   \n",
       "\n",
       "        NumberRealEstateLoansOrLines_yoe_h  \\\n",
       "149883                            0.961001   \n",
       "34945                             0.636561   \n",
       "120143                            0.961001   \n",
       "56652                            -0.000000   \n",
       "17440                             0.961001   \n",
       "\n",
       "        NumberOfDependents_mean_replaced_yoe_h  \\\n",
       "149883                                0.624393   \n",
       "34945                                 0.653705   \n",
       "120143                               -0.000000   \n",
       "56652                                 0.449138   \n",
       "17440                                 0.624393   \n",
       "\n",
       "        MonthlyIncome_mode_replaced_yoe_h  \n",
       "149883                          65.830385  \n",
       "34945                           38.671933  \n",
       "120143                          80.621110  \n",
       "56652                           53.174213  \n",
       "17440                           42.620070  "
      ]
     },
     "execution_count": 117,
     "metadata": {},
     "output_type": "execute_result"
    }
   ],
   "source": [
    "final_num_train_data.head()"
   ]
  },
  {
   "cell_type": "raw",
   "id": "fd8825dd",
   "metadata": {},
   "source": [
    "## And same thing applying with test data"
   ]
  },
  {
   "cell_type": "code",
   "execution_count": 118,
   "id": "f9d7c09c",
   "metadata": {},
   "outputs": [
    {
     "data": {
      "text/plain": [
       "['RevolvingUtilizationOfUnsecuredLines_yoe_h',\n",
       " 'age_yoe_h',\n",
       " 'NumberOfTime30-59DaysPastDueNotWorse_yoe_h',\n",
       " 'DebtRatio_yoe_h',\n",
       " 'NumberOfOpenCreditLinesAndLoans_yoe_h',\n",
       " 'NumberRealEstateLoansOrLines_yoe_h',\n",
       " 'NumberOfDependents_mean_replaced_yoe_h',\n",
       " 'MonthlyIncome_mode_replaced_yoe_h']"
      ]
     },
     "execution_count": 118,
     "metadata": {},
     "output_type": "execute_result"
    }
   ],
   "source": [
    "r"
   ]
  },
  {
   "cell_type": "code",
   "execution_count": 119,
   "id": "82d75cae",
   "metadata": {},
   "outputs": [],
   "source": [
    "test_data = test_data[['RevolvingUtilizationOfUnsecuredLines' , 'age' , 'NumberOfTime30-59DaysPastDueNotWorse',\n",
    "                            'DebtRatio','NumberOfOpenCreditLinesAndLoans' , 'NumberRealEstateLoansOrLines',\n",
    "                            'NumberOfDependents' ,'MonthlyIncome']]"
   ]
  },
  {
   "cell_type": "code",
   "execution_count": 120,
   "id": "2f694bb2",
   "metadata": {},
   "outputs": [
    {
     "data": {
      "text/plain": [
       "Index(['RevolvingUtilizationOfUnsecuredLines', 'age',\n",
       "       'NumberOfTime30-59DaysPastDueNotWorse', 'DebtRatio',\n",
       "       'NumberOfOpenCreditLinesAndLoans', 'NumberRealEstateLoansOrLines',\n",
       "       'NumberOfDependents', 'MonthlyIncome'],\n",
       "      dtype='object')"
      ]
     },
     "execution_count": 120,
     "metadata": {},
     "output_type": "execute_result"
    }
   ],
   "source": [
    "test_data.columns"
   ]
  },
  {
   "cell_type": "markdown",
   "id": "5d8b4257",
   "metadata": {},
   "source": [
    "## Now replacing outliers concept with test data "
   ]
  },
  {
   "cell_type": "code",
   "execution_count": 121,
   "id": "c8f24e86",
   "metadata": {},
   "outputs": [],
   "source": [
    "for i in test_data.columns:\n",
    "    test_data[i],alpha=stats.yeojohnson(test_data[i])"
   ]
  },
  {
   "cell_type": "code",
   "execution_count": 122,
   "id": "7ad17471",
   "metadata": {},
   "outputs": [
    {
     "data": {
      "text/plain": [
       "8"
      ]
     },
     "execution_count": 122,
     "metadata": {},
     "output_type": "execute_result"
    }
   ],
   "source": [
    "len(test_data.columns)"
   ]
  },
  {
   "cell_type": "code",
   "execution_count": 123,
   "id": "d7ddb91d",
   "metadata": {},
   "outputs": [
    {
     "data": {
      "image/png": "[encoded data removed]",
      "text/plain": [
       "<Figure size 1800x1080 with 8 Axes>"
      ]
     },
     "metadata": {
      "needs_background": "light"
     },
     "output_type": "display_data"
    }
   ],
   "source": [
    "k=test_data.columns\n",
    "\n",
    "fig,ax=plt.subplots(4,2 , figsize=(25,15))\n",
    "for i,subplot in zip(k,ax.flatten()):\n",
    "    sns.boxplot(test_data[i],ax=subplot,color='y')"
   ]
  },
  {
   "cell_type": "code",
   "execution_count": 124,
   "id": "d5d98dca",
   "metadata": {},
   "outputs": [
    {
     "data": {
      "text/plain": [
       "8"
      ]
     },
     "execution_count": 124,
     "metadata": {},
     "output_type": "execute_result"
    }
   ],
   "source": [
    "len(test_data.columns)"
   ]
  },
  {
   "cell_type": "code",
   "execution_count": 125,
   "id": "ad7c1c6d",
   "metadata": {},
   "outputs": [],
   "source": [
    "## Since we have taken reference for one feature  as 25 and 75 which is good so we use same for remaining all the features"
   ]
  },
  {
   "cell_type": "code",
   "execution_count": 126,
   "id": "1f85d627",
   "metadata": {},
   "outputs": [],
   "source": [
    "def iqr(training_data_num_1 , var):\n",
    "    iqr = test_data[var].quantile(0.75) - test_data[var].quantile(0.25)\n",
    "    upper_range = test_data[var].quantile(0.75) + (1.5 * iqr)\n",
    "    lower_range = test_data[var].quantile(0.25) - (1.5 * iqr)\n",
    "    return upper_range , lower_range"
   ]
  },
  {
   "cell_type": "code",
   "execution_count": 127,
   "id": "ff556be7",
   "metadata": {},
   "outputs": [],
   "source": [
    "for i in test_data.columns:\n",
    "    upper,lower=iqr(test_data,i)\n",
    "    test_data[i]=np.where(test_data[i]>upper,upper,\n",
    "                          np.where(test_data[i]<lower,lower,test_data[i]))"
   ]
  },
  {
   "cell_type": "code",
   "execution_count": 128,
   "id": "0693bcd7",
   "metadata": {},
   "outputs": [],
   "source": [
    "## checking plots after using 75 and 25 concept as used in trainig data"
   ]
  },
  {
   "cell_type": "code",
   "execution_count": 129,
   "id": "ee0dac80",
   "metadata": {},
   "outputs": [
    {
     "data": {
      "image/png": "[encoded data removed]",
      "text/plain": [
       "<Figure size 1800x1080 with 8 Axes>"
      ]
     },
     "metadata": {
      "needs_background": "light"
     },
     "output_type": "display_data"
    }
   ],
   "source": [
    "r = test_data.columns\n",
    "\n",
    "fig , ax = plt.subplots(4 , 2 , figsize=(25,15))\n",
    "for i,subplot in zip(r,ax.flatten()):\n",
    "    sns.boxplot(test_data[i],ax=subplot,color = 'g')"
   ]
  },
  {
   "cell_type": "markdown",
   "id": "87a5edc2",
   "metadata": {},
   "source": [
    "### since outliers has cleared in both train and test numerical data"
   ]
  },
  {
   "cell_type": "markdown",
   "id": "2904bc42",
   "metadata": {},
   "source": [
    "### Now working with categorical data with both train and test data"
   ]
  },
  {
   "cell_type": "code",
   "execution_count": 130,
   "id": "778b6b69",
   "metadata": {},
   "outputs": [
    {
     "data": {
      "text/html": [
       "<div>\n",
       "<style scoped>\n",
       "    .dataframe tbody tr th:only-of-type {\n",
       "        vertical-align: middle;\n",
       "    }\n",
       "\n",
       "    .dataframe tbody tr th {\n",
       "        vertical-align: top;\n",
       "    }\n",
       "\n",
       "    .dataframe thead th {\n",
       "        text-align: right;\n",
       "    }\n",
       "</style>\n",
       "<table border=\"1\" class=\"dataframe\">\n",
       "  <thead>\n",
       "    <tr style=\"text-align: right;\">\n",
       "      <th></th>\n",
       "      <th>Gender</th>\n",
       "      <th>Region</th>\n",
       "      <th>Rented_OwnHouse</th>\n",
       "      <th>Occupation</th>\n",
       "      <th>Education</th>\n",
       "      <th>Good_Bad</th>\n",
       "    </tr>\n",
       "  </thead>\n",
       "  <tbody>\n",
       "    <tr>\n",
       "      <th>149883</th>\n",
       "      <td>Male</td>\n",
       "      <td>North</td>\n",
       "      <td>Rented</td>\n",
       "      <td>Officer2</td>\n",
       "      <td>Professional</td>\n",
       "      <td>Good</td>\n",
       "    </tr>\n",
       "    <tr>\n",
       "      <th>34945</th>\n",
       "      <td>Male</td>\n",
       "      <td>West</td>\n",
       "      <td>Ownhouse</td>\n",
       "      <td>Self_Emp</td>\n",
       "      <td>Matric</td>\n",
       "      <td>Bad</td>\n",
       "    </tr>\n",
       "    <tr>\n",
       "      <th>120143</th>\n",
       "      <td>Male</td>\n",
       "      <td>West</td>\n",
       "      <td>Ownhouse</td>\n",
       "      <td>Self_Emp</td>\n",
       "      <td>Graduate</td>\n",
       "      <td>Good</td>\n",
       "    </tr>\n",
       "    <tr>\n",
       "      <th>56652</th>\n",
       "      <td>Male</td>\n",
       "      <td>East</td>\n",
       "      <td>Rented</td>\n",
       "      <td>Non-officer</td>\n",
       "      <td>Professional</td>\n",
       "      <td>Good</td>\n",
       "    </tr>\n",
       "    <tr>\n",
       "      <th>17440</th>\n",
       "      <td>Male</td>\n",
       "      <td>North</td>\n",
       "      <td>Ownhouse</td>\n",
       "      <td>Self_Emp</td>\n",
       "      <td>Post-Grad</td>\n",
       "      <td>Good</td>\n",
       "    </tr>\n",
       "  </tbody>\n",
       "</table>\n",
       "</div>"
      ],
      "text/plain": [
       "       Gender Region Rented_OwnHouse   Occupation     Education Good_Bad\n",
       "149883   Male  North          Rented     Officer2  Professional     Good\n",
       "34945    Male   West        Ownhouse     Self_Emp        Matric      Bad\n",
       "120143   Male   West        Ownhouse     Self_Emp      Graduate     Good\n",
       "56652    Male   East          Rented  Non-officer  Professional     Good\n",
       "17440    Male  North        Ownhouse     Self_Emp     Post-Grad     Good"
      ]
     },
     "execution_count": 130,
     "metadata": {},
     "output_type": "execute_result"
    }
   ],
   "source": [
    "training_data_cat=training_data.select_dtypes(include='object')\n",
    "training_data_cat.head()"
   ]
  },
  {
   "cell_type": "code",
   "execution_count": 131,
   "id": "8b1b97e6",
   "metadata": {},
   "outputs": [
    {
     "name": "stdout",
     "output_type": "stream",
     "text": [
      "Feature Gender = ['Male' 'Female']\n",
      "Feature Region = ['North' 'West' 'East' 'South' 'Central']\n",
      "Feature Rented_OwnHouse = ['Rented' 'Ownhouse']\n",
      "Feature Occupation = ['Officer2' 'Self_Emp' 'Non-officer' 'Officer1' 'Officer3']\n",
      "Feature Education = ['Professional' 'Matric' 'Graduate' 'Post-Grad' 'PhD']\n",
      "Feature Good_Bad = ['Good' 'Bad']\n"
     ]
    }
   ],
   "source": [
    "for i in training_data_cat:\n",
    "    print('Feature',i,'=',training_data_cat[i].unique())"
   ]
  },
  {
   "cell_type": "code",
   "execution_count": 132,
   "id": "00a90c62",
   "metadata": {},
   "outputs": [],
   "source": [
    "## converting categorical to numerical"
   ]
  },
  {
   "cell_type": "code",
   "execution_count": 133,
   "id": "74089bd1",
   "metadata": {},
   "outputs": [],
   "source": [
    "## for gender,region,rented house-one hot encoding\n",
    "## Education and occupations-odinal encoding\n",
    "## Good_bad- label encoding"
   ]
  },
  {
   "cell_type": "code",
   "execution_count": 134,
   "id": "57cdca6d",
   "metadata": {},
   "outputs": [
    {
     "data": {
      "text/html": [
       "<div>\n",
       "<style scoped>\n",
       "    .dataframe tbody tr th:only-of-type {\n",
       "        vertical-align: middle;\n",
       "    }\n",
       "\n",
       "    .dataframe tbody tr th {\n",
       "        vertical-align: top;\n",
       "    }\n",
       "\n",
       "    .dataframe thead th {\n",
       "        text-align: right;\n",
       "    }\n",
       "</style>\n",
       "<table border=\"1\" class=\"dataframe\">\n",
       "  <thead>\n",
       "    <tr style=\"text-align: right;\">\n",
       "      <th></th>\n",
       "      <th>Gender</th>\n",
       "      <th>Region</th>\n",
       "      <th>Rented_OwnHouse</th>\n",
       "      <th>Occupation</th>\n",
       "      <th>Education</th>\n",
       "      <th>Good_Bad</th>\n",
       "    </tr>\n",
       "  </thead>\n",
       "  <tbody>\n",
       "    <tr>\n",
       "      <th>149883</th>\n",
       "      <td>Male</td>\n",
       "      <td>North</td>\n",
       "      <td>Rented</td>\n",
       "      <td>Officer2</td>\n",
       "      <td>Professional</td>\n",
       "      <td>Good</td>\n",
       "    </tr>\n",
       "    <tr>\n",
       "      <th>34945</th>\n",
       "      <td>Male</td>\n",
       "      <td>West</td>\n",
       "      <td>Ownhouse</td>\n",
       "      <td>Self_Emp</td>\n",
       "      <td>Matric</td>\n",
       "      <td>Bad</td>\n",
       "    </tr>\n",
       "    <tr>\n",
       "      <th>120143</th>\n",
       "      <td>Male</td>\n",
       "      <td>West</td>\n",
       "      <td>Ownhouse</td>\n",
       "      <td>Self_Emp</td>\n",
       "      <td>Graduate</td>\n",
       "      <td>Good</td>\n",
       "    </tr>\n",
       "    <tr>\n",
       "      <th>56652</th>\n",
       "      <td>Male</td>\n",
       "      <td>East</td>\n",
       "      <td>Rented</td>\n",
       "      <td>Non-officer</td>\n",
       "      <td>Professional</td>\n",
       "      <td>Good</td>\n",
       "    </tr>\n",
       "    <tr>\n",
       "      <th>17440</th>\n",
       "      <td>Male</td>\n",
       "      <td>North</td>\n",
       "      <td>Ownhouse</td>\n",
       "      <td>Self_Emp</td>\n",
       "      <td>Post-Grad</td>\n",
       "      <td>Good</td>\n",
       "    </tr>\n",
       "  </tbody>\n",
       "</table>\n",
       "</div>"
      ],
      "text/plain": [
       "       Gender Region Rented_OwnHouse   Occupation     Education Good_Bad\n",
       "149883   Male  North          Rented     Officer2  Professional     Good\n",
       "34945    Male   West        Ownhouse     Self_Emp        Matric      Bad\n",
       "120143   Male   West        Ownhouse     Self_Emp      Graduate     Good\n",
       "56652    Male   East          Rented  Non-officer  Professional     Good\n",
       "17440    Male  North        Ownhouse     Self_Emp     Post-Grad     Good"
      ]
     },
     "execution_count": 134,
     "metadata": {},
     "output_type": "execute_result"
    }
   ],
   "source": [
    "training_data_cat.head()"
   ]
  },
  {
   "cell_type": "code",
   "execution_count": 135,
   "id": "147c5dce",
   "metadata": {},
   "outputs": [
    {
     "data": {
      "text/plain": [
       "Gender             0\n",
       "Region             0\n",
       "Rented_OwnHouse    0\n",
       "Occupation         0\n",
       "Education          0\n",
       "Good_Bad           0\n",
       "dtype: int64"
      ]
     },
     "execution_count": 135,
     "metadata": {},
     "output_type": "execute_result"
    }
   ],
   "source": [
    "training_data_cat.isnull().sum()"
   ]
  },
  {
   "cell_type": "code",
   "execution_count": 136,
   "id": "04ecd717",
   "metadata": {},
   "outputs": [],
   "source": [
    "from sklearn.preprocessing import OneHotEncoder\n",
    "s=OneHotEncoder(categories='auto',drop='first')\n",
    "q=s.fit_transform(training_data_cat[['Gender','Region','Rented_OwnHouse']])\n",
    "q=q.toarray()\n",
    "q=pd.DataFrame(q,index=training_data_cat.index)\n",
    "q.columns=s.get_feature_names()\n"
   ]
  },
  {
   "cell_type": "code",
   "execution_count": 137,
   "id": "5db6f93f",
   "metadata": {},
   "outputs": [
    {
     "data": {
      "text/html": [
       "<div>\n",
       "<style scoped>\n",
       "    .dataframe tbody tr th:only-of-type {\n",
       "        vertical-align: middle;\n",
       "    }\n",
       "\n",
       "    .dataframe tbody tr th {\n",
       "        vertical-align: top;\n",
       "    }\n",
       "\n",
       "    .dataframe thead th {\n",
       "        text-align: right;\n",
       "    }\n",
       "</style>\n",
       "<table border=\"1\" class=\"dataframe\">\n",
       "  <thead>\n",
       "    <tr style=\"text-align: right;\">\n",
       "      <th></th>\n",
       "      <th>Occupation</th>\n",
       "      <th>Education</th>\n",
       "      <th>Good_Bad</th>\n",
       "      <th>x0_Male</th>\n",
       "      <th>x1_East</th>\n",
       "      <th>x1_North</th>\n",
       "      <th>x1_South</th>\n",
       "      <th>x1_West</th>\n",
       "      <th>x2_Rented</th>\n",
       "    </tr>\n",
       "  </thead>\n",
       "  <tbody>\n",
       "    <tr>\n",
       "      <th>149883</th>\n",
       "      <td>Officer2</td>\n",
       "      <td>Professional</td>\n",
       "      <td>Good</td>\n",
       "      <td>1.0</td>\n",
       "      <td>0.0</td>\n",
       "      <td>1.0</td>\n",
       "      <td>0.0</td>\n",
       "      <td>0.0</td>\n",
       "      <td>1.0</td>\n",
       "    </tr>\n",
       "    <tr>\n",
       "      <th>34945</th>\n",
       "      <td>Self_Emp</td>\n",
       "      <td>Matric</td>\n",
       "      <td>Bad</td>\n",
       "      <td>1.0</td>\n",
       "      <td>0.0</td>\n",
       "      <td>0.0</td>\n",
       "      <td>0.0</td>\n",
       "      <td>1.0</td>\n",
       "      <td>0.0</td>\n",
       "    </tr>\n",
       "    <tr>\n",
       "      <th>120143</th>\n",
       "      <td>Self_Emp</td>\n",
       "      <td>Graduate</td>\n",
       "      <td>Good</td>\n",
       "      <td>1.0</td>\n",
       "      <td>0.0</td>\n",
       "      <td>0.0</td>\n",
       "      <td>0.0</td>\n",
       "      <td>1.0</td>\n",
       "      <td>0.0</td>\n",
       "    </tr>\n",
       "    <tr>\n",
       "      <th>56652</th>\n",
       "      <td>Non-officer</td>\n",
       "      <td>Professional</td>\n",
       "      <td>Good</td>\n",
       "      <td>1.0</td>\n",
       "      <td>1.0</td>\n",
       "      <td>0.0</td>\n",
       "      <td>0.0</td>\n",
       "      <td>0.0</td>\n",
       "      <td>1.0</td>\n",
       "    </tr>\n",
       "    <tr>\n",
       "      <th>17440</th>\n",
       "      <td>Self_Emp</td>\n",
       "      <td>Post-Grad</td>\n",
       "      <td>Good</td>\n",
       "      <td>1.0</td>\n",
       "      <td>0.0</td>\n",
       "      <td>1.0</td>\n",
       "      <td>0.0</td>\n",
       "      <td>0.0</td>\n",
       "      <td>0.0</td>\n",
       "    </tr>\n",
       "  </tbody>\n",
       "</table>\n",
       "</div>"
      ],
      "text/plain": [
       "         Occupation     Education Good_Bad  x0_Male  x1_East  x1_North  \\\n",
       "149883     Officer2  Professional     Good      1.0      0.0       1.0   \n",
       "34945      Self_Emp        Matric      Bad      1.0      0.0       0.0   \n",
       "120143     Self_Emp      Graduate     Good      1.0      0.0       0.0   \n",
       "56652   Non-officer  Professional     Good      1.0      1.0       0.0   \n",
       "17440      Self_Emp     Post-Grad     Good      1.0      0.0       1.0   \n",
       "\n",
       "        x1_South  x1_West  x2_Rented  \n",
       "149883       0.0      0.0        1.0  \n",
       "34945        0.0      1.0        0.0  \n",
       "120143       0.0      1.0        0.0  \n",
       "56652        0.0      0.0        1.0  \n",
       "17440        0.0      0.0        0.0  "
      ]
     },
     "execution_count": 137,
     "metadata": {},
     "output_type": "execute_result"
    }
   ],
   "source": [
    "training_data_cat=pd.concat([training_data_cat,q],axis=1)\n",
    "training_data_cat=training_data_cat.drop(['Gender','Region','Rented_OwnHouse'],axis=1)\n",
    "training_data_cat.head()"
   ]
  },
  {
   "cell_type": "raw",
   "id": "05680f96",
   "metadata": {},
   "source": [
    "## Applying odinal coding for occupation and education features"
   ]
  },
  {
   "cell_type": "code",
   "execution_count": 138,
   "id": "1f577c43",
   "metadata": {},
   "outputs": [
    {
     "data": {
      "text/plain": [
       "Index(['Occupation', 'Education', 'Good_Bad', 'x0_Male', 'x1_East', 'x1_North',\n",
       "       'x1_South', 'x1_West', 'x2_Rented'],\n",
       "      dtype='object')"
      ]
     },
     "execution_count": 138,
     "metadata": {},
     "output_type": "execute_result"
    }
   ],
   "source": [
    "training_data_cat.columns"
   ]
  },
  {
   "cell_type": "code",
   "execution_count": 139,
   "id": "6c43ba64",
   "metadata": {},
   "outputs": [
    {
     "data": {
      "text/html": [
       "<div>\n",
       "<style scoped>\n",
       "    .dataframe tbody tr th:only-of-type {\n",
       "        vertical-align: middle;\n",
       "    }\n",
       "\n",
       "    .dataframe tbody tr th {\n",
       "        vertical-align: top;\n",
       "    }\n",
       "\n",
       "    .dataframe thead th {\n",
       "        text-align: right;\n",
       "    }\n",
       "</style>\n",
       "<table border=\"1\" class=\"dataframe\">\n",
       "  <thead>\n",
       "    <tr style=\"text-align: right;\">\n",
       "      <th></th>\n",
       "      <th>Occupation</th>\n",
       "      <th>Education</th>\n",
       "      <th>Good_Bad</th>\n",
       "      <th>x0_Male</th>\n",
       "      <th>x1_East</th>\n",
       "      <th>x1_North</th>\n",
       "      <th>x1_South</th>\n",
       "      <th>x1_West</th>\n",
       "      <th>x2_Rented</th>\n",
       "    </tr>\n",
       "  </thead>\n",
       "  <tbody>\n",
       "    <tr>\n",
       "      <th>149883</th>\n",
       "      <td>Officer2</td>\n",
       "      <td>Professional</td>\n",
       "      <td>Good</td>\n",
       "      <td>1.0</td>\n",
       "      <td>0.0</td>\n",
       "      <td>1.0</td>\n",
       "      <td>0.0</td>\n",
       "      <td>0.0</td>\n",
       "      <td>1.0</td>\n",
       "    </tr>\n",
       "    <tr>\n",
       "      <th>34945</th>\n",
       "      <td>Self_Emp</td>\n",
       "      <td>Matric</td>\n",
       "      <td>Bad</td>\n",
       "      <td>1.0</td>\n",
       "      <td>0.0</td>\n",
       "      <td>0.0</td>\n",
       "      <td>0.0</td>\n",
       "      <td>1.0</td>\n",
       "      <td>0.0</td>\n",
       "    </tr>\n",
       "    <tr>\n",
       "      <th>120143</th>\n",
       "      <td>Self_Emp</td>\n",
       "      <td>Graduate</td>\n",
       "      <td>Good</td>\n",
       "      <td>1.0</td>\n",
       "      <td>0.0</td>\n",
       "      <td>0.0</td>\n",
       "      <td>0.0</td>\n",
       "      <td>1.0</td>\n",
       "      <td>0.0</td>\n",
       "    </tr>\n",
       "    <tr>\n",
       "      <th>56652</th>\n",
       "      <td>Non-officer</td>\n",
       "      <td>Professional</td>\n",
       "      <td>Good</td>\n",
       "      <td>1.0</td>\n",
       "      <td>1.0</td>\n",
       "      <td>0.0</td>\n",
       "      <td>0.0</td>\n",
       "      <td>0.0</td>\n",
       "      <td>1.0</td>\n",
       "    </tr>\n",
       "    <tr>\n",
       "      <th>17440</th>\n",
       "      <td>Self_Emp</td>\n",
       "      <td>Post-Grad</td>\n",
       "      <td>Good</td>\n",
       "      <td>1.0</td>\n",
       "      <td>0.0</td>\n",
       "      <td>1.0</td>\n",
       "      <td>0.0</td>\n",
       "      <td>0.0</td>\n",
       "      <td>0.0</td>\n",
       "    </tr>\n",
       "    <tr>\n",
       "      <th>...</th>\n",
       "      <td>...</td>\n",
       "      <td>...</td>\n",
       "      <td>...</td>\n",
       "      <td>...</td>\n",
       "      <td>...</td>\n",
       "      <td>...</td>\n",
       "      <td>...</td>\n",
       "      <td>...</td>\n",
       "      <td>...</td>\n",
       "    </tr>\n",
       "    <tr>\n",
       "      <th>102327</th>\n",
       "      <td>Self_Emp</td>\n",
       "      <td>Graduate</td>\n",
       "      <td>Good</td>\n",
       "      <td>0.0</td>\n",
       "      <td>0.0</td>\n",
       "      <td>0.0</td>\n",
       "      <td>0.0</td>\n",
       "      <td>0.0</td>\n",
       "      <td>0.0</td>\n",
       "    </tr>\n",
       "    <tr>\n",
       "      <th>97617</th>\n",
       "      <td>Non-officer</td>\n",
       "      <td>Graduate</td>\n",
       "      <td>Good</td>\n",
       "      <td>1.0</td>\n",
       "      <td>0.0</td>\n",
       "      <td>0.0</td>\n",
       "      <td>0.0</td>\n",
       "      <td>0.0</td>\n",
       "      <td>0.0</td>\n",
       "    </tr>\n",
       "    <tr>\n",
       "      <th>21584</th>\n",
       "      <td>Officer3</td>\n",
       "      <td>Post-Grad</td>\n",
       "      <td>Good</td>\n",
       "      <td>0.0</td>\n",
       "      <td>0.0</td>\n",
       "      <td>1.0</td>\n",
       "      <td>0.0</td>\n",
       "      <td>0.0</td>\n",
       "      <td>1.0</td>\n",
       "    </tr>\n",
       "    <tr>\n",
       "      <th>36543</th>\n",
       "      <td>Self_Emp</td>\n",
       "      <td>Matric</td>\n",
       "      <td>Good</td>\n",
       "      <td>1.0</td>\n",
       "      <td>0.0</td>\n",
       "      <td>1.0</td>\n",
       "      <td>0.0</td>\n",
       "      <td>0.0</td>\n",
       "      <td>0.0</td>\n",
       "    </tr>\n",
       "    <tr>\n",
       "      <th>141209</th>\n",
       "      <td>Self_Emp</td>\n",
       "      <td>Professional</td>\n",
       "      <td>Good</td>\n",
       "      <td>1.0</td>\n",
       "      <td>0.0</td>\n",
       "      <td>0.0</td>\n",
       "      <td>0.0</td>\n",
       "      <td>1.0</td>\n",
       "      <td>1.0</td>\n",
       "    </tr>\n",
       "  </tbody>\n",
       "</table>\n",
       "<p>134999 rows × 9 columns</p>\n",
       "</div>"
      ],
      "text/plain": [
       "         Occupation     Education Good_Bad  x0_Male  x1_East  x1_North  \\\n",
       "149883     Officer2  Professional     Good      1.0      0.0       1.0   \n",
       "34945      Self_Emp        Matric      Bad      1.0      0.0       0.0   \n",
       "120143     Self_Emp      Graduate     Good      1.0      0.0       0.0   \n",
       "56652   Non-officer  Professional     Good      1.0      1.0       0.0   \n",
       "17440      Self_Emp     Post-Grad     Good      1.0      0.0       1.0   \n",
       "...             ...           ...      ...      ...      ...       ...   \n",
       "102327     Self_Emp      Graduate     Good      0.0      0.0       0.0   \n",
       "97617   Non-officer      Graduate     Good      1.0      0.0       0.0   \n",
       "21584      Officer3     Post-Grad     Good      0.0      0.0       1.0   \n",
       "36543      Self_Emp        Matric     Good      1.0      0.0       1.0   \n",
       "141209     Self_Emp  Professional     Good      1.0      0.0       0.0   \n",
       "\n",
       "        x1_South  x1_West  x2_Rented  \n",
       "149883       0.0      0.0        1.0  \n",
       "34945        0.0      1.0        0.0  \n",
       "120143       0.0      1.0        0.0  \n",
       "56652        0.0      0.0        1.0  \n",
       "17440        0.0      0.0        0.0  \n",
       "...          ...      ...        ...  \n",
       "102327       0.0      0.0        0.0  \n",
       "97617        0.0      0.0        0.0  \n",
       "21584        0.0      0.0        1.0  \n",
       "36543        0.0      0.0        0.0  \n",
       "141209       0.0      1.0        1.0  \n",
       "\n",
       "[134999 rows x 9 columns]"
      ]
     },
     "execution_count": 139,
     "metadata": {},
     "output_type": "execute_result"
    }
   ],
   "source": [
    "training_data_cat"
   ]
  },
  {
   "cell_type": "code",
   "execution_count": 140,
   "id": "2bb49a0b",
   "metadata": {},
   "outputs": [
    {
     "data": {
      "text/html": [
       "<div>\n",
       "<style scoped>\n",
       "    .dataframe tbody tr th:only-of-type {\n",
       "        vertical-align: middle;\n",
       "    }\n",
       "\n",
       "    .dataframe tbody tr th {\n",
       "        vertical-align: top;\n",
       "    }\n",
       "\n",
       "    .dataframe thead th {\n",
       "        text-align: right;\n",
       "    }\n",
       "</style>\n",
       "<table border=\"1\" class=\"dataframe\">\n",
       "  <thead>\n",
       "    <tr style=\"text-align: right;\">\n",
       "      <th></th>\n",
       "      <th>Good_Bad</th>\n",
       "      <th>x0_Male</th>\n",
       "      <th>x1_East</th>\n",
       "      <th>x1_North</th>\n",
       "      <th>x1_South</th>\n",
       "      <th>x1_West</th>\n",
       "      <th>x2_Rented</th>\n",
       "      <th>Occupation_re</th>\n",
       "      <th>Education_re</th>\n",
       "    </tr>\n",
       "  </thead>\n",
       "  <tbody>\n",
       "    <tr>\n",
       "      <th>149883</th>\n",
       "      <td>Good</td>\n",
       "      <td>1.0</td>\n",
       "      <td>0.0</td>\n",
       "      <td>1.0</td>\n",
       "      <td>0.0</td>\n",
       "      <td>0.0</td>\n",
       "      <td>1.0</td>\n",
       "      <td>2.0</td>\n",
       "      <td>4.0</td>\n",
       "    </tr>\n",
       "    <tr>\n",
       "      <th>34945</th>\n",
       "      <td>Bad</td>\n",
       "      <td>1.0</td>\n",
       "      <td>0.0</td>\n",
       "      <td>0.0</td>\n",
       "      <td>0.0</td>\n",
       "      <td>1.0</td>\n",
       "      <td>0.0</td>\n",
       "      <td>4.0</td>\n",
       "      <td>1.0</td>\n",
       "    </tr>\n",
       "    <tr>\n",
       "      <th>120143</th>\n",
       "      <td>Good</td>\n",
       "      <td>1.0</td>\n",
       "      <td>0.0</td>\n",
       "      <td>0.0</td>\n",
       "      <td>0.0</td>\n",
       "      <td>1.0</td>\n",
       "      <td>0.0</td>\n",
       "      <td>4.0</td>\n",
       "      <td>0.0</td>\n",
       "    </tr>\n",
       "    <tr>\n",
       "      <th>56652</th>\n",
       "      <td>Good</td>\n",
       "      <td>1.0</td>\n",
       "      <td>1.0</td>\n",
       "      <td>0.0</td>\n",
       "      <td>0.0</td>\n",
       "      <td>0.0</td>\n",
       "      <td>1.0</td>\n",
       "      <td>0.0</td>\n",
       "      <td>4.0</td>\n",
       "    </tr>\n",
       "    <tr>\n",
       "      <th>17440</th>\n",
       "      <td>Good</td>\n",
       "      <td>1.0</td>\n",
       "      <td>0.0</td>\n",
       "      <td>1.0</td>\n",
       "      <td>0.0</td>\n",
       "      <td>0.0</td>\n",
       "      <td>0.0</td>\n",
       "      <td>4.0</td>\n",
       "      <td>3.0</td>\n",
       "    </tr>\n",
       "  </tbody>\n",
       "</table>\n",
       "</div>"
      ],
      "text/plain": [
       "       Good_Bad  x0_Male  x1_East  x1_North  x1_South  x1_West  x2_Rented  \\\n",
       "149883     Good      1.0      0.0       1.0       0.0      0.0        1.0   \n",
       "34945       Bad      1.0      0.0       0.0       0.0      1.0        0.0   \n",
       "120143     Good      1.0      0.0       0.0       0.0      1.0        0.0   \n",
       "56652      Good      1.0      1.0       0.0       0.0      0.0        1.0   \n",
       "17440      Good      1.0      0.0       1.0       0.0      0.0        0.0   \n",
       "\n",
       "        Occupation_re  Education_re  \n",
       "149883            2.0           4.0  \n",
       "34945             4.0           1.0  \n",
       "120143            4.0           0.0  \n",
       "56652             0.0           4.0  \n",
       "17440             4.0           3.0  "
      ]
     },
     "execution_count": 140,
     "metadata": {},
     "output_type": "execute_result"
    }
   ],
   "source": [
    "from sklearn.preprocessing import OrdinalEncoder\n",
    "p=OrdinalEncoder()\n",
    "q1=p.fit_transform(training_data_cat[['Occupation','Education']])\n",
    "q1=pd.DataFrame(q1,index=training_data_cat.index)\n",
    "q1.columns=['Occupation_re','Education_re']\n",
    "training_data_cat=pd.concat([training_data_cat,q1],axis=1) \n",
    "training_data_cat=training_data_cat.drop(['Occupation','Education'],axis=1)  \n",
    "training_data_cat.head()"
   ]
  },
  {
   "cell_type": "markdown",
   "id": "c59227ee",
   "metadata": {},
   "source": [
    "## Label encoding for Good_bad because it is an dependent variable"
   ]
  },
  {
   "cell_type": "code",
   "execution_count": 141,
   "id": "6903bf39",
   "metadata": {},
   "outputs": [
    {
     "data": {
      "text/html": [
       "<div>\n",
       "<style scoped>\n",
       "    .dataframe tbody tr th:only-of-type {\n",
       "        vertical-align: middle;\n",
       "    }\n",
       "\n",
       "    .dataframe tbody tr th {\n",
       "        vertical-align: top;\n",
       "    }\n",
       "\n",
       "    .dataframe thead th {\n",
       "        text-align: right;\n",
       "    }\n",
       "</style>\n",
       "<table border=\"1\" class=\"dataframe\">\n",
       "  <thead>\n",
       "    <tr style=\"text-align: right;\">\n",
       "      <th></th>\n",
       "      <th>x0_Male</th>\n",
       "      <th>x1_East</th>\n",
       "      <th>x1_North</th>\n",
       "      <th>x1_South</th>\n",
       "      <th>x1_West</th>\n",
       "      <th>x2_Rented</th>\n",
       "      <th>Occupation_re</th>\n",
       "      <th>Education_re</th>\n",
       "      <th>Good_Bad_re</th>\n",
       "    </tr>\n",
       "  </thead>\n",
       "  <tbody>\n",
       "    <tr>\n",
       "      <th>149883</th>\n",
       "      <td>1.0</td>\n",
       "      <td>0.0</td>\n",
       "      <td>1.0</td>\n",
       "      <td>0.0</td>\n",
       "      <td>0.0</td>\n",
       "      <td>1.0</td>\n",
       "      <td>2.0</td>\n",
       "      <td>4.0</td>\n",
       "      <td>1</td>\n",
       "    </tr>\n",
       "    <tr>\n",
       "      <th>34945</th>\n",
       "      <td>1.0</td>\n",
       "      <td>0.0</td>\n",
       "      <td>0.0</td>\n",
       "      <td>0.0</td>\n",
       "      <td>1.0</td>\n",
       "      <td>0.0</td>\n",
       "      <td>4.0</td>\n",
       "      <td>1.0</td>\n",
       "      <td>0</td>\n",
       "    </tr>\n",
       "    <tr>\n",
       "      <th>120143</th>\n",
       "      <td>1.0</td>\n",
       "      <td>0.0</td>\n",
       "      <td>0.0</td>\n",
       "      <td>0.0</td>\n",
       "      <td>1.0</td>\n",
       "      <td>0.0</td>\n",
       "      <td>4.0</td>\n",
       "      <td>0.0</td>\n",
       "      <td>1</td>\n",
       "    </tr>\n",
       "    <tr>\n",
       "      <th>56652</th>\n",
       "      <td>1.0</td>\n",
       "      <td>1.0</td>\n",
       "      <td>0.0</td>\n",
       "      <td>0.0</td>\n",
       "      <td>0.0</td>\n",
       "      <td>1.0</td>\n",
       "      <td>0.0</td>\n",
       "      <td>4.0</td>\n",
       "      <td>1</td>\n",
       "    </tr>\n",
       "    <tr>\n",
       "      <th>17440</th>\n",
       "      <td>1.0</td>\n",
       "      <td>0.0</td>\n",
       "      <td>1.0</td>\n",
       "      <td>0.0</td>\n",
       "      <td>0.0</td>\n",
       "      <td>0.0</td>\n",
       "      <td>4.0</td>\n",
       "      <td>3.0</td>\n",
       "      <td>1</td>\n",
       "    </tr>\n",
       "  </tbody>\n",
       "</table>\n",
       "</div>"
      ],
      "text/plain": [
       "        x0_Male  x1_East  x1_North  x1_South  x1_West  x2_Rented  \\\n",
       "149883      1.0      0.0       1.0       0.0      0.0        1.0   \n",
       "34945       1.0      0.0       0.0       0.0      1.0        0.0   \n",
       "120143      1.0      0.0       0.0       0.0      1.0        0.0   \n",
       "56652       1.0      1.0       0.0       0.0      0.0        1.0   \n",
       "17440       1.0      0.0       1.0       0.0      0.0        0.0   \n",
       "\n",
       "        Occupation_re  Education_re  Good_Bad_re  \n",
       "149883            2.0           4.0            1  \n",
       "34945             4.0           1.0            0  \n",
       "120143            4.0           0.0            1  \n",
       "56652             0.0           4.0            1  \n",
       "17440             4.0           3.0            1  "
      ]
     },
     "execution_count": 141,
     "metadata": {},
     "output_type": "execute_result"
    }
   ],
   "source": [
    "from sklearn.preprocessing import LabelEncoder\n",
    "l=LabelEncoder()\n",
    "l1=l.fit_transform(training_data_cat['Good_Bad'])\n",
    "l1=pd.DataFrame(l1,index=training_data_cat.index)\n",
    "l1.columns=['Good_Bad_re']\n",
    "training_data_cat=pd.concat([training_data_cat,l1],axis=1)\n",
    "training_data_cat=training_data_cat.drop(['Good_Bad'],axis=1)\n",
    "training_data_cat.head()"
   ]
  },
  {
   "cell_type": "code",
   "execution_count": 142,
   "id": "29fbe7b4",
   "metadata": {},
   "outputs": [],
   "source": [
    "## Now same technique for test data"
   ]
  },
  {
   "cell_type": "code",
   "execution_count": 143,
   "id": "9211d9b3",
   "metadata": {},
   "outputs": [
    {
     "data": {
      "text/html": [
       "<div>\n",
       "<style scoped>\n",
       "    .dataframe tbody tr th:only-of-type {\n",
       "        vertical-align: middle;\n",
       "    }\n",
       "\n",
       "    .dataframe tbody tr th {\n",
       "        vertical-align: top;\n",
       "    }\n",
       "\n",
       "    .dataframe thead th {\n",
       "        text-align: right;\n",
       "    }\n",
       "</style>\n",
       "<table border=\"1\" class=\"dataframe\">\n",
       "  <thead>\n",
       "    <tr style=\"text-align: right;\">\n",
       "      <th></th>\n",
       "      <th>RevolvingUtilizationOfUnsecuredLines</th>\n",
       "      <th>age</th>\n",
       "      <th>NumberOfTime30-59DaysPastDueNotWorse</th>\n",
       "      <th>DebtRatio</th>\n",
       "      <th>NumberOfOpenCreditLinesAndLoans</th>\n",
       "      <th>NumberRealEstateLoansOrLines</th>\n",
       "      <th>NumberOfDependents</th>\n",
       "      <th>MonthlyIncome</th>\n",
       "    </tr>\n",
       "  </thead>\n",
       "  <tbody>\n",
       "    <tr>\n",
       "      <th>77511</th>\n",
       "      <td>0.008321</td>\n",
       "      <td>20.088848</td>\n",
       "      <td>-0.0</td>\n",
       "      <td>1.058523</td>\n",
       "      <td>4.038746</td>\n",
       "      <td>0.955476</td>\n",
       "      <td>-0.000000</td>\n",
       "      <td>48.352314</td>\n",
       "    </tr>\n",
       "    <tr>\n",
       "      <th>17422</th>\n",
       "      <td>-0.000000</td>\n",
       "      <td>17.438987</td>\n",
       "      <td>-0.0</td>\n",
       "      <td>0.136594</td>\n",
       "      <td>2.187603</td>\n",
       "      <td>0.634207</td>\n",
       "      <td>0.562209</td>\n",
       "      <td>63.794432</td>\n",
       "    </tr>\n",
       "    <tr>\n",
       "      <th>111815</th>\n",
       "      <td>0.308935</td>\n",
       "      <td>11.597857</td>\n",
       "      <td>-0.0</td>\n",
       "      <td>0.139137</td>\n",
       "      <td>2.830316</td>\n",
       "      <td>-0.000000</td>\n",
       "      <td>-0.000000</td>\n",
       "      <td>50.409170</td>\n",
       "    </tr>\n",
       "    <tr>\n",
       "      <th>34211</th>\n",
       "      <td>0.360614</td>\n",
       "      <td>20.088848</td>\n",
       "      <td>-0.0</td>\n",
       "      <td>0.174744</td>\n",
       "      <td>3.603207</td>\n",
       "      <td>1.163706</td>\n",
       "      <td>0.444374</td>\n",
       "      <td>72.270095</td>\n",
       "    </tr>\n",
       "    <tr>\n",
       "      <th>36739</th>\n",
       "      <td>0.292773</td>\n",
       "      <td>15.298547</td>\n",
       "      <td>-0.0</td>\n",
       "      <td>0.243735</td>\n",
       "      <td>5.117394</td>\n",
       "      <td>-0.000000</td>\n",
       "      <td>-0.000000</td>\n",
       "      <td>49.028272</td>\n",
       "    </tr>\n",
       "  </tbody>\n",
       "</table>\n",
       "</div>"
      ],
      "text/plain": [
       "        RevolvingUtilizationOfUnsecuredLines        age  \\\n",
       "77511                               0.008321  20.088848   \n",
       "17422                              -0.000000  17.438987   \n",
       "111815                              0.308935  11.597857   \n",
       "34211                               0.360614  20.088848   \n",
       "36739                               0.292773  15.298547   \n",
       "\n",
       "        NumberOfTime30-59DaysPastDueNotWorse  DebtRatio  \\\n",
       "77511                                   -0.0   1.058523   \n",
       "17422                                   -0.0   0.136594   \n",
       "111815                                  -0.0   0.139137   \n",
       "34211                                   -0.0   0.174744   \n",
       "36739                                   -0.0   0.243735   \n",
       "\n",
       "        NumberOfOpenCreditLinesAndLoans  NumberRealEstateLoansOrLines  \\\n",
       "77511                          4.038746                      0.955476   \n",
       "17422                          2.187603                      0.634207   \n",
       "111815                         2.830316                     -0.000000   \n",
       "34211                          3.603207                      1.163706   \n",
       "36739                          5.117394                     -0.000000   \n",
       "\n",
       "        NumberOfDependents  MonthlyIncome  \n",
       "77511            -0.000000      48.352314  \n",
       "17422             0.562209      63.794432  \n",
       "111815           -0.000000      50.409170  \n",
       "34211             0.444374      72.270095  \n",
       "36739            -0.000000      49.028272  "
      ]
     },
     "execution_count": 143,
     "metadata": {},
     "output_type": "execute_result"
    }
   ],
   "source": [
    "test_data.head()"
   ]
  },
  {
   "cell_type": "code",
   "execution_count": 144,
   "id": "a8f0e4df",
   "metadata": {},
   "outputs": [
    {
     "data": {
      "text/html": [
       "<div>\n",
       "<style scoped>\n",
       "    .dataframe tbody tr th:only-of-type {\n",
       "        vertical-align: middle;\n",
       "    }\n",
       "\n",
       "    .dataframe tbody tr th {\n",
       "        vertical-align: top;\n",
       "    }\n",
       "\n",
       "    .dataframe thead th {\n",
       "        text-align: right;\n",
       "    }\n",
       "</style>\n",
       "<table border=\"1\" class=\"dataframe\">\n",
       "  <thead>\n",
       "    <tr style=\"text-align: right;\">\n",
       "      <th></th>\n",
       "      <th>Gender</th>\n",
       "      <th>Region</th>\n",
       "      <th>Rented_OwnHouse</th>\n",
       "      <th>Occupation</th>\n",
       "      <th>Education</th>\n",
       "    </tr>\n",
       "  </thead>\n",
       "  <tbody>\n",
       "    <tr>\n",
       "      <th>77511</th>\n",
       "      <td>Female</td>\n",
       "      <td>Central</td>\n",
       "      <td>Ownhouse</td>\n",
       "      <td>Officer2</td>\n",
       "      <td>Professional</td>\n",
       "    </tr>\n",
       "    <tr>\n",
       "      <th>17422</th>\n",
       "      <td>Male</td>\n",
       "      <td>North</td>\n",
       "      <td>Ownhouse</td>\n",
       "      <td>Self_Emp</td>\n",
       "      <td>Post-Grad</td>\n",
       "    </tr>\n",
       "    <tr>\n",
       "      <th>111815</th>\n",
       "      <td>Female</td>\n",
       "      <td>South</td>\n",
       "      <td>Ownhouse</td>\n",
       "      <td>Self_Emp</td>\n",
       "      <td>Matric</td>\n",
       "    </tr>\n",
       "    <tr>\n",
       "      <th>34211</th>\n",
       "      <td>Female</td>\n",
       "      <td>North</td>\n",
       "      <td>Ownhouse</td>\n",
       "      <td>Self_Emp</td>\n",
       "      <td>PhD</td>\n",
       "    </tr>\n",
       "    <tr>\n",
       "      <th>36739</th>\n",
       "      <td>Male</td>\n",
       "      <td>North</td>\n",
       "      <td>Ownhouse</td>\n",
       "      <td>Self_Emp</td>\n",
       "      <td>Matric</td>\n",
       "    </tr>\n",
       "  </tbody>\n",
       "</table>\n",
       "</div>"
      ],
      "text/plain": [
       "        Gender   Region Rented_OwnHouse Occupation     Education\n",
       "77511   Female  Central        Ownhouse   Officer2  Professional\n",
       "17422     Male    North        Ownhouse   Self_Emp     Post-Grad\n",
       "111815  Female    South        Ownhouse   Self_Emp        Matric\n",
       "34211   Female    North        Ownhouse   Self_Emp           PhD\n",
       "36739     Male    North        Ownhouse   Self_Emp        Matric"
      ]
     },
     "execution_count": 144,
     "metadata": {},
     "output_type": "execute_result"
    }
   ],
   "source": [
    "test_data_cat = x_test.select_dtypes(include='object')\n",
    "test_data_cat = test_data_cat.drop(['NumberOfDependents'],axis = 1)\n",
    "test_data_cat.head()  # test categorical data "
   ]
  },
  {
   "cell_type": "code",
   "execution_count": 145,
   "id": "07e773c4",
   "metadata": {},
   "outputs": [
    {
     "data": {
      "text/html": [
       "<div>\n",
       "<style scoped>\n",
       "    .dataframe tbody tr th:only-of-type {\n",
       "        vertical-align: middle;\n",
       "    }\n",
       "\n",
       "    .dataframe tbody tr th {\n",
       "        vertical-align: top;\n",
       "    }\n",
       "\n",
       "    .dataframe thead th {\n",
       "        text-align: right;\n",
       "    }\n",
       "</style>\n",
       "<table border=\"1\" class=\"dataframe\">\n",
       "  <thead>\n",
       "    <tr style=\"text-align: right;\">\n",
       "      <th></th>\n",
       "      <th>Occupation</th>\n",
       "      <th>Education</th>\n",
       "      <th>x0_Male</th>\n",
       "      <th>x1_East</th>\n",
       "      <th>x1_North</th>\n",
       "      <th>x1_South</th>\n",
       "      <th>x1_West</th>\n",
       "      <th>x2_Rented</th>\n",
       "    </tr>\n",
       "  </thead>\n",
       "  <tbody>\n",
       "    <tr>\n",
       "      <th>77511</th>\n",
       "      <td>Officer2</td>\n",
       "      <td>Professional</td>\n",
       "      <td>0.0</td>\n",
       "      <td>0.0</td>\n",
       "      <td>0.0</td>\n",
       "      <td>0.0</td>\n",
       "      <td>0.0</td>\n",
       "      <td>0.0</td>\n",
       "    </tr>\n",
       "    <tr>\n",
       "      <th>17422</th>\n",
       "      <td>Self_Emp</td>\n",
       "      <td>Post-Grad</td>\n",
       "      <td>1.0</td>\n",
       "      <td>0.0</td>\n",
       "      <td>1.0</td>\n",
       "      <td>0.0</td>\n",
       "      <td>0.0</td>\n",
       "      <td>0.0</td>\n",
       "    </tr>\n",
       "    <tr>\n",
       "      <th>111815</th>\n",
       "      <td>Self_Emp</td>\n",
       "      <td>Matric</td>\n",
       "      <td>0.0</td>\n",
       "      <td>0.0</td>\n",
       "      <td>0.0</td>\n",
       "      <td>1.0</td>\n",
       "      <td>0.0</td>\n",
       "      <td>0.0</td>\n",
       "    </tr>\n",
       "    <tr>\n",
       "      <th>34211</th>\n",
       "      <td>Self_Emp</td>\n",
       "      <td>PhD</td>\n",
       "      <td>0.0</td>\n",
       "      <td>0.0</td>\n",
       "      <td>1.0</td>\n",
       "      <td>0.0</td>\n",
       "      <td>0.0</td>\n",
       "      <td>0.0</td>\n",
       "    </tr>\n",
       "    <tr>\n",
       "      <th>36739</th>\n",
       "      <td>Self_Emp</td>\n",
       "      <td>Matric</td>\n",
       "      <td>1.0</td>\n",
       "      <td>0.0</td>\n",
       "      <td>1.0</td>\n",
       "      <td>0.0</td>\n",
       "      <td>0.0</td>\n",
       "      <td>0.0</td>\n",
       "    </tr>\n",
       "  </tbody>\n",
       "</table>\n",
       "</div>"
      ],
      "text/plain": [
       "       Occupation     Education  x0_Male  x1_East  x1_North  x1_South  \\\n",
       "77511    Officer2  Professional      0.0      0.0       0.0       0.0   \n",
       "17422    Self_Emp     Post-Grad      1.0      0.0       1.0       0.0   \n",
       "111815   Self_Emp        Matric      0.0      0.0       0.0       1.0   \n",
       "34211    Self_Emp           PhD      0.0      0.0       1.0       0.0   \n",
       "36739    Self_Emp        Matric      1.0      0.0       1.0       0.0   \n",
       "\n",
       "        x1_West  x2_Rented  \n",
       "77511       0.0        0.0  \n",
       "17422       0.0        0.0  \n",
       "111815      0.0        0.0  \n",
       "34211       0.0        0.0  \n",
       "36739       0.0        0.0  "
      ]
     },
     "execution_count": 145,
     "metadata": {},
     "output_type": "execute_result"
    }
   ],
   "source": [
    "t1 = s.transform(test_data_cat[['Gender','Region','Rented_OwnHouse']])\n",
    "t1 = t1.toarray()\n",
    "t1 = pd.DataFrame(t1 , index=test_data_cat.index)\n",
    "t1.columns = s.get_feature_names()\n",
    "test_data_cat = pd.concat([test_data_cat , t1],axis = 1)\n",
    "test_data_cat = test_data_cat.drop(['Gender','Region','Rented_OwnHouse'],axis = 1)\n",
    "test_data_cat.head()"
   ]
  },
  {
   "cell_type": "code",
   "execution_count": 146,
   "id": "cf7ff04f",
   "metadata": {},
   "outputs": [
    {
     "data": {
      "text/html": [
       "<div>\n",
       "<style scoped>\n",
       "    .dataframe tbody tr th:only-of-type {\n",
       "        vertical-align: middle;\n",
       "    }\n",
       "\n",
       "    .dataframe tbody tr th {\n",
       "        vertical-align: top;\n",
       "    }\n",
       "\n",
       "    .dataframe thead th {\n",
       "        text-align: right;\n",
       "    }\n",
       "</style>\n",
       "<table border=\"1\" class=\"dataframe\">\n",
       "  <thead>\n",
       "    <tr style=\"text-align: right;\">\n",
       "      <th></th>\n",
       "      <th>x0_Male</th>\n",
       "      <th>x1_East</th>\n",
       "      <th>x1_North</th>\n",
       "      <th>x1_South</th>\n",
       "      <th>x1_West</th>\n",
       "      <th>x2_Rented</th>\n",
       "      <th>Occupation_re</th>\n",
       "      <th>Education_re</th>\n",
       "    </tr>\n",
       "  </thead>\n",
       "  <tbody>\n",
       "    <tr>\n",
       "      <th>77511</th>\n",
       "      <td>0.0</td>\n",
       "      <td>0.0</td>\n",
       "      <td>0.0</td>\n",
       "      <td>0.0</td>\n",
       "      <td>0.0</td>\n",
       "      <td>0.0</td>\n",
       "      <td>2.0</td>\n",
       "      <td>4.0</td>\n",
       "    </tr>\n",
       "    <tr>\n",
       "      <th>17422</th>\n",
       "      <td>1.0</td>\n",
       "      <td>0.0</td>\n",
       "      <td>1.0</td>\n",
       "      <td>0.0</td>\n",
       "      <td>0.0</td>\n",
       "      <td>0.0</td>\n",
       "      <td>4.0</td>\n",
       "      <td>3.0</td>\n",
       "    </tr>\n",
       "    <tr>\n",
       "      <th>111815</th>\n",
       "      <td>0.0</td>\n",
       "      <td>0.0</td>\n",
       "      <td>0.0</td>\n",
       "      <td>1.0</td>\n",
       "      <td>0.0</td>\n",
       "      <td>0.0</td>\n",
       "      <td>4.0</td>\n",
       "      <td>1.0</td>\n",
       "    </tr>\n",
       "    <tr>\n",
       "      <th>34211</th>\n",
       "      <td>0.0</td>\n",
       "      <td>0.0</td>\n",
       "      <td>1.0</td>\n",
       "      <td>0.0</td>\n",
       "      <td>0.0</td>\n",
       "      <td>0.0</td>\n",
       "      <td>4.0</td>\n",
       "      <td>2.0</td>\n",
       "    </tr>\n",
       "    <tr>\n",
       "      <th>36739</th>\n",
       "      <td>1.0</td>\n",
       "      <td>0.0</td>\n",
       "      <td>1.0</td>\n",
       "      <td>0.0</td>\n",
       "      <td>0.0</td>\n",
       "      <td>0.0</td>\n",
       "      <td>4.0</td>\n",
       "      <td>1.0</td>\n",
       "    </tr>\n",
       "  </tbody>\n",
       "</table>\n",
       "</div>"
      ],
      "text/plain": [
       "        x0_Male  x1_East  x1_North  x1_South  x1_West  x2_Rented  \\\n",
       "77511       0.0      0.0       0.0       0.0      0.0        0.0   \n",
       "17422       1.0      0.0       1.0       0.0      0.0        0.0   \n",
       "111815      0.0      0.0       0.0       1.0      0.0        0.0   \n",
       "34211       0.0      0.0       1.0       0.0      0.0        0.0   \n",
       "36739       1.0      0.0       1.0       0.0      0.0        0.0   \n",
       "\n",
       "        Occupation_re  Education_re  \n",
       "77511             2.0           4.0  \n",
       "17422             4.0           3.0  \n",
       "111815            4.0           1.0  \n",
       "34211             4.0           2.0  \n",
       "36739             4.0           1.0  "
      ]
     },
     "execution_count": 146,
     "metadata": {},
     "output_type": "execute_result"
    }
   ],
   "source": [
    "t2 = p.transform(test_data_cat[['Occupation','Education']])\n",
    "#t1 = t1.toarray()\n",
    "t2 = pd.DataFrame(t2 , index=test_data_cat.index)\n",
    "t2.columns = ['Occupation_re','Education_re']\n",
    "test_data_cat = pd.concat([test_data_cat , t2],axis = 1)\n",
    "test_data_cat = test_data_cat.drop(['Occupation','Education'],axis = 1)\n",
    "test_data_cat.head()"
   ]
  },
  {
   "cell_type": "code",
   "execution_count": 147,
   "id": "279e0efd",
   "metadata": {},
   "outputs": [
    {
     "data": {
      "text/plain": [
       "15001"
      ]
     },
     "execution_count": 147,
     "metadata": {},
     "output_type": "execute_result"
    }
   ],
   "source": [
    "len(x_test)"
   ]
  },
  {
   "cell_type": "raw",
   "id": "cede45e1",
   "metadata": {},
   "source": [
    "## Corverting y-test and adding them into single data"
   ]
  },
  {
   "cell_type": "code",
   "execution_count": 148,
   "id": "49286e6a",
   "metadata": {},
   "outputs": [],
   "source": [
    "l2 = l.transform(y_test)\n",
    "l2 = pd.DataFrame(l2 , index=test_data_cat.index)\n",
    "l2.columns = ['y_test']\n",
    "test_data_cat = pd.concat([test_data_cat,l2],axis = 1)\n"
   ]
  },
  {
   "cell_type": "code",
   "execution_count": 149,
   "id": "e0e26a8c",
   "metadata": {},
   "outputs": [],
   "source": [
    "## final test data"
   ]
  },
  {
   "cell_type": "code",
   "execution_count": 150,
   "id": "ad23cb82",
   "metadata": {},
   "outputs": [
    {
     "data": {
      "text/html": [
       "<div>\n",
       "<style scoped>\n",
       "    .dataframe tbody tr th:only-of-type {\n",
       "        vertical-align: middle;\n",
       "    }\n",
       "\n",
       "    .dataframe tbody tr th {\n",
       "        vertical-align: top;\n",
       "    }\n",
       "\n",
       "    .dataframe thead th {\n",
       "        text-align: right;\n",
       "    }\n",
       "</style>\n",
       "<table border=\"1\" class=\"dataframe\">\n",
       "  <thead>\n",
       "    <tr style=\"text-align: right;\">\n",
       "      <th></th>\n",
       "      <th>x0_Male</th>\n",
       "      <th>x1_East</th>\n",
       "      <th>x1_North</th>\n",
       "      <th>x1_South</th>\n",
       "      <th>x1_West</th>\n",
       "      <th>x2_Rented</th>\n",
       "      <th>Occupation_re</th>\n",
       "      <th>Education_re</th>\n",
       "      <th>y_test</th>\n",
       "    </tr>\n",
       "  </thead>\n",
       "  <tbody>\n",
       "    <tr>\n",
       "      <th>77511</th>\n",
       "      <td>0.0</td>\n",
       "      <td>0.0</td>\n",
       "      <td>0.0</td>\n",
       "      <td>0.0</td>\n",
       "      <td>0.0</td>\n",
       "      <td>0.0</td>\n",
       "      <td>2.0</td>\n",
       "      <td>4.0</td>\n",
       "      <td>1</td>\n",
       "    </tr>\n",
       "    <tr>\n",
       "      <th>17422</th>\n",
       "      <td>1.0</td>\n",
       "      <td>0.0</td>\n",
       "      <td>1.0</td>\n",
       "      <td>0.0</td>\n",
       "      <td>0.0</td>\n",
       "      <td>0.0</td>\n",
       "      <td>4.0</td>\n",
       "      <td>3.0</td>\n",
       "      <td>1</td>\n",
       "    </tr>\n",
       "    <tr>\n",
       "      <th>111815</th>\n",
       "      <td>0.0</td>\n",
       "      <td>0.0</td>\n",
       "      <td>0.0</td>\n",
       "      <td>1.0</td>\n",
       "      <td>0.0</td>\n",
       "      <td>0.0</td>\n",
       "      <td>4.0</td>\n",
       "      <td>1.0</td>\n",
       "      <td>1</td>\n",
       "    </tr>\n",
       "    <tr>\n",
       "      <th>34211</th>\n",
       "      <td>0.0</td>\n",
       "      <td>0.0</td>\n",
       "      <td>1.0</td>\n",
       "      <td>0.0</td>\n",
       "      <td>0.0</td>\n",
       "      <td>0.0</td>\n",
       "      <td>4.0</td>\n",
       "      <td>2.0</td>\n",
       "      <td>1</td>\n",
       "    </tr>\n",
       "    <tr>\n",
       "      <th>36739</th>\n",
       "      <td>1.0</td>\n",
       "      <td>0.0</td>\n",
       "      <td>1.0</td>\n",
       "      <td>0.0</td>\n",
       "      <td>0.0</td>\n",
       "      <td>0.0</td>\n",
       "      <td>4.0</td>\n",
       "      <td>1.0</td>\n",
       "      <td>1</td>\n",
       "    </tr>\n",
       "  </tbody>\n",
       "</table>\n",
       "</div>"
      ],
      "text/plain": [
       "        x0_Male  x1_East  x1_North  x1_South  x1_West  x2_Rented  \\\n",
       "77511       0.0      0.0       0.0       0.0      0.0        0.0   \n",
       "17422       1.0      0.0       1.0       0.0      0.0        0.0   \n",
       "111815      0.0      0.0       0.0       1.0      0.0        0.0   \n",
       "34211       0.0      0.0       1.0       0.0      0.0        0.0   \n",
       "36739       1.0      0.0       1.0       0.0      0.0        0.0   \n",
       "\n",
       "        Occupation_re  Education_re  y_test  \n",
       "77511             2.0           4.0       1  \n",
       "17422             4.0           3.0       1  \n",
       "111815            4.0           1.0       1  \n",
       "34211             4.0           2.0       1  \n",
       "36739             4.0           1.0       1  "
      ]
     },
     "execution_count": 150,
     "metadata": {},
     "output_type": "execute_result"
    }
   ],
   "source": [
    "test_data_cat.head()"
   ]
  },
  {
   "cell_type": "code",
   "execution_count": 151,
   "id": "1d1e7a13",
   "metadata": {},
   "outputs": [
    {
     "data": {
      "text/html": [
       "<div>\n",
       "<style scoped>\n",
       "    .dataframe tbody tr th:only-of-type {\n",
       "        vertical-align: middle;\n",
       "    }\n",
       "\n",
       "    .dataframe tbody tr th {\n",
       "        vertical-align: top;\n",
       "    }\n",
       "\n",
       "    .dataframe thead th {\n",
       "        text-align: right;\n",
       "    }\n",
       "</style>\n",
       "<table border=\"1\" class=\"dataframe\">\n",
       "  <thead>\n",
       "    <tr style=\"text-align: right;\">\n",
       "      <th></th>\n",
       "      <th>RevolvingUtilizationOfUnsecuredLines</th>\n",
       "      <th>age</th>\n",
       "      <th>NumberOfTime30-59DaysPastDueNotWorse</th>\n",
       "      <th>DebtRatio</th>\n",
       "      <th>NumberOfOpenCreditLinesAndLoans</th>\n",
       "      <th>NumberRealEstateLoansOrLines</th>\n",
       "      <th>NumberOfDependents</th>\n",
       "      <th>MonthlyIncome</th>\n",
       "    </tr>\n",
       "  </thead>\n",
       "  <tbody>\n",
       "    <tr>\n",
       "      <th>77511</th>\n",
       "      <td>0.008321</td>\n",
       "      <td>20.088848</td>\n",
       "      <td>-0.0</td>\n",
       "      <td>1.058523</td>\n",
       "      <td>4.038746</td>\n",
       "      <td>0.955476</td>\n",
       "      <td>-0.000000</td>\n",
       "      <td>48.352314</td>\n",
       "    </tr>\n",
       "    <tr>\n",
       "      <th>17422</th>\n",
       "      <td>-0.000000</td>\n",
       "      <td>17.438987</td>\n",
       "      <td>-0.0</td>\n",
       "      <td>0.136594</td>\n",
       "      <td>2.187603</td>\n",
       "      <td>0.634207</td>\n",
       "      <td>0.562209</td>\n",
       "      <td>63.794432</td>\n",
       "    </tr>\n",
       "    <tr>\n",
       "      <th>111815</th>\n",
       "      <td>0.308935</td>\n",
       "      <td>11.597857</td>\n",
       "      <td>-0.0</td>\n",
       "      <td>0.139137</td>\n",
       "      <td>2.830316</td>\n",
       "      <td>-0.000000</td>\n",
       "      <td>-0.000000</td>\n",
       "      <td>50.409170</td>\n",
       "    </tr>\n",
       "    <tr>\n",
       "      <th>34211</th>\n",
       "      <td>0.360614</td>\n",
       "      <td>20.088848</td>\n",
       "      <td>-0.0</td>\n",
       "      <td>0.174744</td>\n",
       "      <td>3.603207</td>\n",
       "      <td>1.163706</td>\n",
       "      <td>0.444374</td>\n",
       "      <td>72.270095</td>\n",
       "    </tr>\n",
       "    <tr>\n",
       "      <th>36739</th>\n",
       "      <td>0.292773</td>\n",
       "      <td>15.298547</td>\n",
       "      <td>-0.0</td>\n",
       "      <td>0.243735</td>\n",
       "      <td>5.117394</td>\n",
       "      <td>-0.000000</td>\n",
       "      <td>-0.000000</td>\n",
       "      <td>49.028272</td>\n",
       "    </tr>\n",
       "  </tbody>\n",
       "</table>\n",
       "</div>"
      ],
      "text/plain": [
       "        RevolvingUtilizationOfUnsecuredLines        age  \\\n",
       "77511                               0.008321  20.088848   \n",
       "17422                              -0.000000  17.438987   \n",
       "111815                              0.308935  11.597857   \n",
       "34211                               0.360614  20.088848   \n",
       "36739                               0.292773  15.298547   \n",
       "\n",
       "        NumberOfTime30-59DaysPastDueNotWorse  DebtRatio  \\\n",
       "77511                                   -0.0   1.058523   \n",
       "17422                                   -0.0   0.136594   \n",
       "111815                                  -0.0   0.139137   \n",
       "34211                                   -0.0   0.174744   \n",
       "36739                                   -0.0   0.243735   \n",
       "\n",
       "        NumberOfOpenCreditLinesAndLoans  NumberRealEstateLoansOrLines  \\\n",
       "77511                          4.038746                      0.955476   \n",
       "17422                          2.187603                      0.634207   \n",
       "111815                         2.830316                     -0.000000   \n",
       "34211                          3.603207                      1.163706   \n",
       "36739                          5.117394                     -0.000000   \n",
       "\n",
       "        NumberOfDependents  MonthlyIncome  \n",
       "77511            -0.000000      48.352314  \n",
       "17422             0.562209      63.794432  \n",
       "111815           -0.000000      50.409170  \n",
       "34211             0.444374      72.270095  \n",
       "36739            -0.000000      49.028272  "
      ]
     },
     "execution_count": 151,
     "metadata": {},
     "output_type": "execute_result"
    }
   ],
   "source": [
    "test_data.head()"
   ]
  },
  {
   "cell_type": "code",
   "execution_count": 165,
   "id": "487f52ac",
   "metadata": {},
   "outputs": [],
   "source": [
    "##len(x_test.columns)"
   ]
  },
  {
   "cell_type": "code",
   "execution_count": 153,
   "id": "dc1bef75",
   "metadata": {},
   "outputs": [
    {
     "data": {
      "text/html": [
       "<div>\n",
       "<style scoped>\n",
       "    .dataframe tbody tr th:only-of-type {\n",
       "        vertical-align: middle;\n",
       "    }\n",
       "\n",
       "    .dataframe tbody tr th {\n",
       "        vertical-align: top;\n",
       "    }\n",
       "\n",
       "    .dataframe thead th {\n",
       "        text-align: right;\n",
       "    }\n",
       "</style>\n",
       "<table border=\"1\" class=\"dataframe\">\n",
       "  <thead>\n",
       "    <tr style=\"text-align: right;\">\n",
       "      <th></th>\n",
       "      <th>RevolvingUtilizationOfUnsecuredLines</th>\n",
       "      <th>age</th>\n",
       "      <th>NumberOfTime30-59DaysPastDueNotWorse</th>\n",
       "      <th>DebtRatio</th>\n",
       "      <th>NumberOfOpenCreditLinesAndLoans</th>\n",
       "      <th>NumberRealEstateLoansOrLines</th>\n",
       "      <th>NumberOfDependents</th>\n",
       "      <th>MonthlyIncome</th>\n",
       "      <th>x0_Male</th>\n",
       "      <th>x1_East</th>\n",
       "      <th>x1_North</th>\n",
       "      <th>x1_South</th>\n",
       "      <th>x1_West</th>\n",
       "      <th>x2_Rented</th>\n",
       "      <th>Occupation_re</th>\n",
       "      <th>Education_re</th>\n",
       "      <th>y_test</th>\n",
       "    </tr>\n",
       "  </thead>\n",
       "  <tbody>\n",
       "    <tr>\n",
       "      <th>77511</th>\n",
       "      <td>0.008321</td>\n",
       "      <td>20.088848</td>\n",
       "      <td>-0.0</td>\n",
       "      <td>1.058523</td>\n",
       "      <td>4.038746</td>\n",
       "      <td>0.955476</td>\n",
       "      <td>-0.000000</td>\n",
       "      <td>48.352314</td>\n",
       "      <td>0.0</td>\n",
       "      <td>0.0</td>\n",
       "      <td>0.0</td>\n",
       "      <td>0.0</td>\n",
       "      <td>0.0</td>\n",
       "      <td>0.0</td>\n",
       "      <td>2.0</td>\n",
       "      <td>4.0</td>\n",
       "      <td>1</td>\n",
       "    </tr>\n",
       "    <tr>\n",
       "      <th>17422</th>\n",
       "      <td>-0.000000</td>\n",
       "      <td>17.438987</td>\n",
       "      <td>-0.0</td>\n",
       "      <td>0.136594</td>\n",
       "      <td>2.187603</td>\n",
       "      <td>0.634207</td>\n",
       "      <td>0.562209</td>\n",
       "      <td>63.794432</td>\n",
       "      <td>1.0</td>\n",
       "      <td>0.0</td>\n",
       "      <td>1.0</td>\n",
       "      <td>0.0</td>\n",
       "      <td>0.0</td>\n",
       "      <td>0.0</td>\n",
       "      <td>4.0</td>\n",
       "      <td>3.0</td>\n",
       "      <td>1</td>\n",
       "    </tr>\n",
       "    <tr>\n",
       "      <th>111815</th>\n",
       "      <td>0.308935</td>\n",
       "      <td>11.597857</td>\n",
       "      <td>-0.0</td>\n",
       "      <td>0.139137</td>\n",
       "      <td>2.830316</td>\n",
       "      <td>-0.000000</td>\n",
       "      <td>-0.000000</td>\n",
       "      <td>50.409170</td>\n",
       "      <td>0.0</td>\n",
       "      <td>0.0</td>\n",
       "      <td>0.0</td>\n",
       "      <td>1.0</td>\n",
       "      <td>0.0</td>\n",
       "      <td>0.0</td>\n",
       "      <td>4.0</td>\n",
       "      <td>1.0</td>\n",
       "      <td>1</td>\n",
       "    </tr>\n",
       "    <tr>\n",
       "      <th>34211</th>\n",
       "      <td>0.360614</td>\n",
       "      <td>20.088848</td>\n",
       "      <td>-0.0</td>\n",
       "      <td>0.174744</td>\n",
       "      <td>3.603207</td>\n",
       "      <td>1.163706</td>\n",
       "      <td>0.444374</td>\n",
       "      <td>72.270095</td>\n",
       "      <td>0.0</td>\n",
       "      <td>0.0</td>\n",
       "      <td>1.0</td>\n",
       "      <td>0.0</td>\n",
       "      <td>0.0</td>\n",
       "      <td>0.0</td>\n",
       "      <td>4.0</td>\n",
       "      <td>2.0</td>\n",
       "      <td>1</td>\n",
       "    </tr>\n",
       "    <tr>\n",
       "      <th>36739</th>\n",
       "      <td>0.292773</td>\n",
       "      <td>15.298547</td>\n",
       "      <td>-0.0</td>\n",
       "      <td>0.243735</td>\n",
       "      <td>5.117394</td>\n",
       "      <td>-0.000000</td>\n",
       "      <td>-0.000000</td>\n",
       "      <td>49.028272</td>\n",
       "      <td>1.0</td>\n",
       "      <td>0.0</td>\n",
       "      <td>1.0</td>\n",
       "      <td>0.0</td>\n",
       "      <td>0.0</td>\n",
       "      <td>0.0</td>\n",
       "      <td>4.0</td>\n",
       "      <td>1.0</td>\n",
       "      <td>1</td>\n",
       "    </tr>\n",
       "  </tbody>\n",
       "</table>\n",
       "</div>"
      ],
      "text/plain": [
       "        RevolvingUtilizationOfUnsecuredLines        age  \\\n",
       "77511                               0.008321  20.088848   \n",
       "17422                              -0.000000  17.438987   \n",
       "111815                              0.308935  11.597857   \n",
       "34211                               0.360614  20.088848   \n",
       "36739                               0.292773  15.298547   \n",
       "\n",
       "        NumberOfTime30-59DaysPastDueNotWorse  DebtRatio  \\\n",
       "77511                                   -0.0   1.058523   \n",
       "17422                                   -0.0   0.136594   \n",
       "111815                                  -0.0   0.139137   \n",
       "34211                                   -0.0   0.174744   \n",
       "36739                                   -0.0   0.243735   \n",
       "\n",
       "        NumberOfOpenCreditLinesAndLoans  NumberRealEstateLoansOrLines  \\\n",
       "77511                          4.038746                      0.955476   \n",
       "17422                          2.187603                      0.634207   \n",
       "111815                         2.830316                     -0.000000   \n",
       "34211                          3.603207                      1.163706   \n",
       "36739                          5.117394                     -0.000000   \n",
       "\n",
       "        NumberOfDependents  MonthlyIncome  x0_Male  x1_East  x1_North  \\\n",
       "77511            -0.000000      48.352314      0.0      0.0       0.0   \n",
       "17422             0.562209      63.794432      1.0      0.0       1.0   \n",
       "111815           -0.000000      50.409170      0.0      0.0       0.0   \n",
       "34211             0.444374      72.270095      0.0      0.0       1.0   \n",
       "36739            -0.000000      49.028272      1.0      0.0       1.0   \n",
       "\n",
       "        x1_South  x1_West  x2_Rented  Occupation_re  Education_re  y_test  \n",
       "77511        0.0      0.0        0.0            2.0           4.0       1  \n",
       "17422        0.0      0.0        0.0            4.0           3.0       1  \n",
       "111815       1.0      0.0        0.0            4.0           1.0       1  \n",
       "34211        0.0      0.0        0.0            4.0           2.0       1  \n",
       "36739        0.0      0.0        0.0            4.0           1.0       1  "
      ]
     },
     "execution_count": 153,
     "metadata": {},
     "output_type": "execute_result"
    }
   ],
   "source": [
    "final_test_data=pd.concat([test_data,test_data_cat],axis=1)\n",
    "final_test_data.head()"
   ]
  },
  {
   "cell_type": "code",
   "execution_count": 166,
   "id": "9577af20",
   "metadata": {},
   "outputs": [],
   "source": [
    "##len(x.columns)"
   ]
  },
  {
   "cell_type": "code",
   "execution_count": 155,
   "id": "b578e9ce",
   "metadata": {},
   "outputs": [],
   "source": [
    "## making training data into one perfect variable"
   ]
  },
  {
   "cell_type": "code",
   "execution_count": 156,
   "id": "890353af",
   "metadata": {},
   "outputs": [
    {
     "data": {
      "text/html": [
       "<div>\n",
       "<style scoped>\n",
       "    .dataframe tbody tr th:only-of-type {\n",
       "        vertical-align: middle;\n",
       "    }\n",
       "\n",
       "    .dataframe tbody tr th {\n",
       "        vertical-align: top;\n",
       "    }\n",
       "\n",
       "    .dataframe thead th {\n",
       "        text-align: right;\n",
       "    }\n",
       "</style>\n",
       "<table border=\"1\" class=\"dataframe\">\n",
       "  <thead>\n",
       "    <tr style=\"text-align: right;\">\n",
       "      <th></th>\n",
       "      <th>RevolvingUtilizationOfUnsecuredLines_yoe_h</th>\n",
       "      <th>age_yoe_h</th>\n",
       "      <th>NumberOfTime30-59DaysPastDueNotWorse_yoe_h</th>\n",
       "      <th>DebtRatio_yoe_h</th>\n",
       "      <th>NumberOfOpenCreditLinesAndLoans_yoe_h</th>\n",
       "      <th>NumberRealEstateLoansOrLines_yoe_h</th>\n",
       "      <th>NumberOfDependents_mean_replaced_yoe_h</th>\n",
       "      <th>MonthlyIncome_mode_replaced_yoe_h</th>\n",
       "    </tr>\n",
       "  </thead>\n",
       "  <tbody>\n",
       "    <tr>\n",
       "      <th>149883</th>\n",
       "      <td>0.004118</td>\n",
       "      <td>17.102734</td>\n",
       "      <td>-0.0</td>\n",
       "      <td>0.206564</td>\n",
       "      <td>2.529692</td>\n",
       "      <td>0.961001</td>\n",
       "      <td>0.624393</td>\n",
       "      <td>65.830385</td>\n",
       "    </tr>\n",
       "    <tr>\n",
       "      <th>34945</th>\n",
       "      <td>0.364350</td>\n",
       "      <td>12.952401</td>\n",
       "      <td>0.0</td>\n",
       "      <td>0.492462</td>\n",
       "      <td>1.804689</td>\n",
       "      <td>0.636561</td>\n",
       "      <td>0.653705</td>\n",
       "      <td>38.671933</td>\n",
       "    </tr>\n",
       "    <tr>\n",
       "      <th>120143</th>\n",
       "      <td>0.245834</td>\n",
       "      <td>19.443287</td>\n",
       "      <td>-0.0</td>\n",
       "      <td>0.198022</td>\n",
       "      <td>3.609993</td>\n",
       "      <td>0.961001</td>\n",
       "      <td>-0.000000</td>\n",
       "      <td>80.621110</td>\n",
       "    </tr>\n",
       "    <tr>\n",
       "      <th>56652</th>\n",
       "      <td>0.253755</td>\n",
       "      <td>22.906850</td>\n",
       "      <td>-0.0</td>\n",
       "      <td>0.214197</td>\n",
       "      <td>4.248286</td>\n",
       "      <td>-0.000000</td>\n",
       "      <td>0.449138</td>\n",
       "      <td>53.174213</td>\n",
       "    </tr>\n",
       "    <tr>\n",
       "      <th>17440</th>\n",
       "      <td>0.230134</td>\n",
       "      <td>14.048325</td>\n",
       "      <td>-0.0</td>\n",
       "      <td>0.354409</td>\n",
       "      <td>3.370387</td>\n",
       "      <td>0.961001</td>\n",
       "      <td>0.624393</td>\n",
       "      <td>42.620070</td>\n",
       "    </tr>\n",
       "  </tbody>\n",
       "</table>\n",
       "</div>"
      ],
      "text/plain": [
       "        RevolvingUtilizationOfUnsecuredLines_yoe_h  age_yoe_h  \\\n",
       "149883                                    0.004118  17.102734   \n",
       "34945                                     0.364350  12.952401   \n",
       "120143                                    0.245834  19.443287   \n",
       "56652                                     0.253755  22.906850   \n",
       "17440                                     0.230134  14.048325   \n",
       "\n",
       "        NumberOfTime30-59DaysPastDueNotWorse_yoe_h  DebtRatio_yoe_h  \\\n",
       "149883                                        -0.0         0.206564   \n",
       "34945                                          0.0         0.492462   \n",
       "120143                                        -0.0         0.198022   \n",
       "56652                                         -0.0         0.214197   \n",
       "17440                                         -0.0         0.354409   \n",
       "\n",
       "        NumberOfOpenCreditLinesAndLoans_yoe_h  \\\n",
       "149883                               2.529692   \n",
       "34945                                1.804689   \n",
       "120143                               3.609993   \n",
       "56652                                4.248286   \n",
       "17440                                3.370387   \n",
       "\n",
       "        NumberRealEstateLoansOrLines_yoe_h  \\\n",
       "149883                            0.961001   \n",
       "34945                             0.636561   \n",
       "120143                            0.961001   \n",
       "56652                            -0.000000   \n",
       "17440                             0.961001   \n",
       "\n",
       "        NumberOfDependents_mean_replaced_yoe_h  \\\n",
       "149883                                0.624393   \n",
       "34945                                 0.653705   \n",
       "120143                               -0.000000   \n",
       "56652                                 0.449138   \n",
       "17440                                 0.624393   \n",
       "\n",
       "        MonthlyIncome_mode_replaced_yoe_h  \n",
       "149883                          65.830385  \n",
       "34945                           38.671933  \n",
       "120143                          80.621110  \n",
       "56652                           53.174213  \n",
       "17440                           42.620070  "
      ]
     },
     "execution_count": 156,
     "metadata": {},
     "output_type": "execute_result"
    }
   ],
   "source": [
    "final_num_train_data.head()"
   ]
  },
  {
   "cell_type": "code",
   "execution_count": 157,
   "id": "ca29cf07",
   "metadata": {},
   "outputs": [
    {
     "data": {
      "text/html": [
       "<div>\n",
       "<style scoped>\n",
       "    .dataframe tbody tr th:only-of-type {\n",
       "        vertical-align: middle;\n",
       "    }\n",
       "\n",
       "    .dataframe tbody tr th {\n",
       "        vertical-align: top;\n",
       "    }\n",
       "\n",
       "    .dataframe thead th {\n",
       "        text-align: right;\n",
       "    }\n",
       "</style>\n",
       "<table border=\"1\" class=\"dataframe\">\n",
       "  <thead>\n",
       "    <tr style=\"text-align: right;\">\n",
       "      <th></th>\n",
       "      <th>x0_Male</th>\n",
       "      <th>x1_East</th>\n",
       "      <th>x1_North</th>\n",
       "      <th>x1_South</th>\n",
       "      <th>x1_West</th>\n",
       "      <th>x2_Rented</th>\n",
       "      <th>Occupation_re</th>\n",
       "      <th>Education_re</th>\n",
       "      <th>Good_Bad_re</th>\n",
       "    </tr>\n",
       "  </thead>\n",
       "  <tbody>\n",
       "    <tr>\n",
       "      <th>149883</th>\n",
       "      <td>1.0</td>\n",
       "      <td>0.0</td>\n",
       "      <td>1.0</td>\n",
       "      <td>0.0</td>\n",
       "      <td>0.0</td>\n",
       "      <td>1.0</td>\n",
       "      <td>2.0</td>\n",
       "      <td>4.0</td>\n",
       "      <td>1</td>\n",
       "    </tr>\n",
       "    <tr>\n",
       "      <th>34945</th>\n",
       "      <td>1.0</td>\n",
       "      <td>0.0</td>\n",
       "      <td>0.0</td>\n",
       "      <td>0.0</td>\n",
       "      <td>1.0</td>\n",
       "      <td>0.0</td>\n",
       "      <td>4.0</td>\n",
       "      <td>1.0</td>\n",
       "      <td>0</td>\n",
       "    </tr>\n",
       "    <tr>\n",
       "      <th>120143</th>\n",
       "      <td>1.0</td>\n",
       "      <td>0.0</td>\n",
       "      <td>0.0</td>\n",
       "      <td>0.0</td>\n",
       "      <td>1.0</td>\n",
       "      <td>0.0</td>\n",
       "      <td>4.0</td>\n",
       "      <td>0.0</td>\n",
       "      <td>1</td>\n",
       "    </tr>\n",
       "    <tr>\n",
       "      <th>56652</th>\n",
       "      <td>1.0</td>\n",
       "      <td>1.0</td>\n",
       "      <td>0.0</td>\n",
       "      <td>0.0</td>\n",
       "      <td>0.0</td>\n",
       "      <td>1.0</td>\n",
       "      <td>0.0</td>\n",
       "      <td>4.0</td>\n",
       "      <td>1</td>\n",
       "    </tr>\n",
       "    <tr>\n",
       "      <th>17440</th>\n",
       "      <td>1.0</td>\n",
       "      <td>0.0</td>\n",
       "      <td>1.0</td>\n",
       "      <td>0.0</td>\n",
       "      <td>0.0</td>\n",
       "      <td>0.0</td>\n",
       "      <td>4.0</td>\n",
       "      <td>3.0</td>\n",
       "      <td>1</td>\n",
       "    </tr>\n",
       "  </tbody>\n",
       "</table>\n",
       "</div>"
      ],
      "text/plain": [
       "        x0_Male  x1_East  x1_North  x1_South  x1_West  x2_Rented  \\\n",
       "149883      1.0      0.0       1.0       0.0      0.0        1.0   \n",
       "34945       1.0      0.0       0.0       0.0      1.0        0.0   \n",
       "120143      1.0      0.0       0.0       0.0      1.0        0.0   \n",
       "56652       1.0      1.0       0.0       0.0      0.0        1.0   \n",
       "17440       1.0      0.0       1.0       0.0      0.0        0.0   \n",
       "\n",
       "        Occupation_re  Education_re  Good_Bad_re  \n",
       "149883            2.0           4.0            1  \n",
       "34945             4.0           1.0            0  \n",
       "120143            4.0           0.0            1  \n",
       "56652             0.0           4.0            1  \n",
       "17440             4.0           3.0            1  "
      ]
     },
     "execution_count": 157,
     "metadata": {},
     "output_type": "execute_result"
    }
   ],
   "source": [
    "training_data_cat.head()"
   ]
  },
  {
   "cell_type": "code",
   "execution_count": 158,
   "id": "e1a0a197",
   "metadata": {},
   "outputs": [],
   "source": [
    "final_training_data=pd.concat([training_data_num_1,training_data_cat],axis=1)\n"
   ]
  },
  {
   "cell_type": "code",
   "execution_count": 159,
   "id": "92cc891b",
   "metadata": {},
   "outputs": [
    {
     "data": {
      "text/html": [
       "<div>\n",
       "<style scoped>\n",
       "    .dataframe tbody tr th:only-of-type {\n",
       "        vertical-align: middle;\n",
       "    }\n",
       "\n",
       "    .dataframe tbody tr th {\n",
       "        vertical-align: top;\n",
       "    }\n",
       "\n",
       "    .dataframe thead th {\n",
       "        text-align: right;\n",
       "    }\n",
       "</style>\n",
       "<table border=\"1\" class=\"dataframe\">\n",
       "  <thead>\n",
       "    <tr style=\"text-align: right;\">\n",
       "      <th></th>\n",
       "      <th>RevolvingUtilizationOfUnsecuredLines_yoe</th>\n",
       "      <th>age_yoe</th>\n",
       "      <th>NumberOfTime30-59DaysPastDueNotWorse_yoe</th>\n",
       "      <th>DebtRatio_yoe</th>\n",
       "      <th>NumberOfOpenCreditLinesAndLoans_yoe</th>\n",
       "      <th>NumberRealEstateLoansOrLines_yoe</th>\n",
       "      <th>NumberOfDependents_mean_replaced_yoe</th>\n",
       "      <th>MonthlyIncome_mode_replaced_yoe</th>\n",
       "      <th>RevolvingUtilizationOfUnsecuredLines_yoe_h</th>\n",
       "      <th>age_yoe_h</th>\n",
       "      <th>...</th>\n",
       "      <th>MonthlyIncome_mode_replaced_yoe_h</th>\n",
       "      <th>x0_Male</th>\n",
       "      <th>x1_East</th>\n",
       "      <th>x1_North</th>\n",
       "      <th>x1_South</th>\n",
       "      <th>x1_West</th>\n",
       "      <th>x2_Rented</th>\n",
       "      <th>Occupation_re</th>\n",
       "      <th>Education_re</th>\n",
       "      <th>Good_Bad_re</th>\n",
       "    </tr>\n",
       "  </thead>\n",
       "  <tbody>\n",
       "    <tr>\n",
       "      <th>149883</th>\n",
       "      <td>0.004118</td>\n",
       "      <td>17.102734</td>\n",
       "      <td>-0.000000</td>\n",
       "      <td>0.206564</td>\n",
       "      <td>2.529692</td>\n",
       "      <td>0.961001</td>\n",
       "      <td>0.624393</td>\n",
       "      <td>65.830385</td>\n",
       "      <td>0.004118</td>\n",
       "      <td>17.102734</td>\n",
       "      <td>...</td>\n",
       "      <td>65.830385</td>\n",
       "      <td>1.0</td>\n",
       "      <td>0.0</td>\n",
       "      <td>1.0</td>\n",
       "      <td>0.0</td>\n",
       "      <td>0.0</td>\n",
       "      <td>1.0</td>\n",
       "      <td>2.0</td>\n",
       "      <td>4.0</td>\n",
       "      <td>1</td>\n",
       "    </tr>\n",
       "    <tr>\n",
       "      <th>34945</th>\n",
       "      <td>0.364350</td>\n",
       "      <td>12.952401</td>\n",
       "      <td>0.153012</td>\n",
       "      <td>0.492462</td>\n",
       "      <td>1.804689</td>\n",
       "      <td>0.636561</td>\n",
       "      <td>0.653705</td>\n",
       "      <td>38.671933</td>\n",
       "      <td>0.364350</td>\n",
       "      <td>12.952401</td>\n",
       "      <td>...</td>\n",
       "      <td>38.671933</td>\n",
       "      <td>1.0</td>\n",
       "      <td>0.0</td>\n",
       "      <td>0.0</td>\n",
       "      <td>0.0</td>\n",
       "      <td>1.0</td>\n",
       "      <td>0.0</td>\n",
       "      <td>4.0</td>\n",
       "      <td>1.0</td>\n",
       "      <td>0</td>\n",
       "    </tr>\n",
       "    <tr>\n",
       "      <th>120143</th>\n",
       "      <td>0.245834</td>\n",
       "      <td>19.443287</td>\n",
       "      <td>-0.000000</td>\n",
       "      <td>0.198022</td>\n",
       "      <td>3.609993</td>\n",
       "      <td>0.961001</td>\n",
       "      <td>-0.000000</td>\n",
       "      <td>83.915736</td>\n",
       "      <td>0.245834</td>\n",
       "      <td>19.443287</td>\n",
       "      <td>...</td>\n",
       "      <td>80.621110</td>\n",
       "      <td>1.0</td>\n",
       "      <td>0.0</td>\n",
       "      <td>0.0</td>\n",
       "      <td>0.0</td>\n",
       "      <td>1.0</td>\n",
       "      <td>0.0</td>\n",
       "      <td>4.0</td>\n",
       "      <td>0.0</td>\n",
       "      <td>1</td>\n",
       "    </tr>\n",
       "    <tr>\n",
       "      <th>56652</th>\n",
       "      <td>0.253755</td>\n",
       "      <td>22.906850</td>\n",
       "      <td>-0.000000</td>\n",
       "      <td>0.214197</td>\n",
       "      <td>4.248286</td>\n",
       "      <td>-0.000000</td>\n",
       "      <td>0.449138</td>\n",
       "      <td>53.174213</td>\n",
       "      <td>0.253755</td>\n",
       "      <td>22.906850</td>\n",
       "      <td>...</td>\n",
       "      <td>53.174213</td>\n",
       "      <td>1.0</td>\n",
       "      <td>1.0</td>\n",
       "      <td>0.0</td>\n",
       "      <td>0.0</td>\n",
       "      <td>0.0</td>\n",
       "      <td>1.0</td>\n",
       "      <td>0.0</td>\n",
       "      <td>4.0</td>\n",
       "      <td>1</td>\n",
       "    </tr>\n",
       "    <tr>\n",
       "      <th>17440</th>\n",
       "      <td>0.230134</td>\n",
       "      <td>14.048325</td>\n",
       "      <td>-0.000000</td>\n",
       "      <td>0.354409</td>\n",
       "      <td>3.370387</td>\n",
       "      <td>0.961001</td>\n",
       "      <td>0.624393</td>\n",
       "      <td>42.620070</td>\n",
       "      <td>0.230134</td>\n",
       "      <td>14.048325</td>\n",
       "      <td>...</td>\n",
       "      <td>42.620070</td>\n",
       "      <td>1.0</td>\n",
       "      <td>0.0</td>\n",
       "      <td>1.0</td>\n",
       "      <td>0.0</td>\n",
       "      <td>0.0</td>\n",
       "      <td>0.0</td>\n",
       "      <td>4.0</td>\n",
       "      <td>3.0</td>\n",
       "      <td>1</td>\n",
       "    </tr>\n",
       "  </tbody>\n",
       "</table>\n",
       "<p>5 rows × 25 columns</p>\n",
       "</div>"
      ],
      "text/plain": [
       "        RevolvingUtilizationOfUnsecuredLines_yoe    age_yoe  \\\n",
       "149883                                  0.004118  17.102734   \n",
       "34945                                   0.364350  12.952401   \n",
       "120143                                  0.245834  19.443287   \n",
       "56652                                   0.253755  22.906850   \n",
       "17440                                   0.230134  14.048325   \n",
       "\n",
       "        NumberOfTime30-59DaysPastDueNotWorse_yoe  DebtRatio_yoe  \\\n",
       "149883                                 -0.000000       0.206564   \n",
       "34945                                   0.153012       0.492462   \n",
       "120143                                 -0.000000       0.198022   \n",
       "56652                                  -0.000000       0.214197   \n",
       "17440                                  -0.000000       0.354409   \n",
       "\n",
       "        NumberOfOpenCreditLinesAndLoans_yoe  NumberRealEstateLoansOrLines_yoe  \\\n",
       "149883                             2.529692                          0.961001   \n",
       "34945                              1.804689                          0.636561   \n",
       "120143                             3.609993                          0.961001   \n",
       "56652                              4.248286                         -0.000000   \n",
       "17440                              3.370387                          0.961001   \n",
       "\n",
       "        NumberOfDependents_mean_replaced_yoe  MonthlyIncome_mode_replaced_yoe  \\\n",
       "149883                              0.624393                        65.830385   \n",
       "34945                               0.653705                        38.671933   \n",
       "120143                             -0.000000                        83.915736   \n",
       "56652                               0.449138                        53.174213   \n",
       "17440                               0.624393                        42.620070   \n",
       "\n",
       "        RevolvingUtilizationOfUnsecuredLines_yoe_h  age_yoe_h  ...  \\\n",
       "149883                                    0.004118  17.102734  ...   \n",
       "34945                                     0.364350  12.952401  ...   \n",
       "120143                                    0.245834  19.443287  ...   \n",
       "56652                                     0.253755  22.906850  ...   \n",
       "17440                                     0.230134  14.048325  ...   \n",
       "\n",
       "        MonthlyIncome_mode_replaced_yoe_h  x0_Male  x1_East  x1_North  \\\n",
       "149883                          65.830385      1.0      0.0       1.0   \n",
       "34945                           38.671933      1.0      0.0       0.0   \n",
       "120143                          80.621110      1.0      0.0       0.0   \n",
       "56652                           53.174213      1.0      1.0       0.0   \n",
       "17440                           42.620070      1.0      0.0       1.0   \n",
       "\n",
       "        x1_South  x1_West  x2_Rented  Occupation_re  Education_re  Good_Bad_re  \n",
       "149883       0.0      0.0        1.0            2.0           4.0            1  \n",
       "34945        0.0      1.0        0.0            4.0           1.0            0  \n",
       "120143       0.0      1.0        0.0            4.0           0.0            1  \n",
       "56652        0.0      0.0        1.0            0.0           4.0            1  \n",
       "17440        0.0      0.0        0.0            4.0           3.0            1  \n",
       "\n",
       "[5 rows x 25 columns]"
      ]
     },
     "execution_count": 159,
     "metadata": {},
     "output_type": "execute_result"
    }
   ],
   "source": [
    "final_training_data.head()"
   ]
  },
  {
   "cell_type": "code",
   "execution_count": 160,
   "id": "c34b7dfd",
   "metadata": {},
   "outputs": [],
   "source": [
    "final_training_data.rename(columns={'Good_Bad_re':'y_train'},inplace=True)"
   ]
  },
  {
   "cell_type": "code",
   "execution_count": 161,
   "id": "37f91914",
   "metadata": {},
   "outputs": [
    {
     "data": {
      "text/html": [
       "<div>\n",
       "<style scoped>\n",
       "    .dataframe tbody tr th:only-of-type {\n",
       "        vertical-align: middle;\n",
       "    }\n",
       "\n",
       "    .dataframe tbody tr th {\n",
       "        vertical-align: top;\n",
       "    }\n",
       "\n",
       "    .dataframe thead th {\n",
       "        text-align: right;\n",
       "    }\n",
       "</style>\n",
       "<table border=\"1\" class=\"dataframe\">\n",
       "  <thead>\n",
       "    <tr style=\"text-align: right;\">\n",
       "      <th></th>\n",
       "      <th>RevolvingUtilizationOfUnsecuredLines_yoe</th>\n",
       "      <th>age_yoe</th>\n",
       "      <th>NumberOfTime30-59DaysPastDueNotWorse_yoe</th>\n",
       "      <th>DebtRatio_yoe</th>\n",
       "      <th>NumberOfOpenCreditLinesAndLoans_yoe</th>\n",
       "      <th>NumberRealEstateLoansOrLines_yoe</th>\n",
       "      <th>NumberOfDependents_mean_replaced_yoe</th>\n",
       "      <th>MonthlyIncome_mode_replaced_yoe</th>\n",
       "      <th>RevolvingUtilizationOfUnsecuredLines_yoe_h</th>\n",
       "      <th>age_yoe_h</th>\n",
       "      <th>...</th>\n",
       "      <th>MonthlyIncome_mode_replaced_yoe_h</th>\n",
       "      <th>x0_Male</th>\n",
       "      <th>x1_East</th>\n",
       "      <th>x1_North</th>\n",
       "      <th>x1_South</th>\n",
       "      <th>x1_West</th>\n",
       "      <th>x2_Rented</th>\n",
       "      <th>Occupation_re</th>\n",
       "      <th>Education_re</th>\n",
       "      <th>y_train</th>\n",
       "    </tr>\n",
       "  </thead>\n",
       "  <tbody>\n",
       "    <tr>\n",
       "      <th>149883</th>\n",
       "      <td>0.004118</td>\n",
       "      <td>17.102734</td>\n",
       "      <td>-0.000000</td>\n",
       "      <td>0.206564</td>\n",
       "      <td>2.529692</td>\n",
       "      <td>0.961001</td>\n",
       "      <td>0.624393</td>\n",
       "      <td>65.830385</td>\n",
       "      <td>0.004118</td>\n",
       "      <td>17.102734</td>\n",
       "      <td>...</td>\n",
       "      <td>65.830385</td>\n",
       "      <td>1.0</td>\n",
       "      <td>0.0</td>\n",
       "      <td>1.0</td>\n",
       "      <td>0.0</td>\n",
       "      <td>0.0</td>\n",
       "      <td>1.0</td>\n",
       "      <td>2.0</td>\n",
       "      <td>4.0</td>\n",
       "      <td>1</td>\n",
       "    </tr>\n",
       "    <tr>\n",
       "      <th>34945</th>\n",
       "      <td>0.364350</td>\n",
       "      <td>12.952401</td>\n",
       "      <td>0.153012</td>\n",
       "      <td>0.492462</td>\n",
       "      <td>1.804689</td>\n",
       "      <td>0.636561</td>\n",
       "      <td>0.653705</td>\n",
       "      <td>38.671933</td>\n",
       "      <td>0.364350</td>\n",
       "      <td>12.952401</td>\n",
       "      <td>...</td>\n",
       "      <td>38.671933</td>\n",
       "      <td>1.0</td>\n",
       "      <td>0.0</td>\n",
       "      <td>0.0</td>\n",
       "      <td>0.0</td>\n",
       "      <td>1.0</td>\n",
       "      <td>0.0</td>\n",
       "      <td>4.0</td>\n",
       "      <td>1.0</td>\n",
       "      <td>0</td>\n",
       "    </tr>\n",
       "    <tr>\n",
       "      <th>120143</th>\n",
       "      <td>0.245834</td>\n",
       "      <td>19.443287</td>\n",
       "      <td>-0.000000</td>\n",
       "      <td>0.198022</td>\n",
       "      <td>3.609993</td>\n",
       "      <td>0.961001</td>\n",
       "      <td>-0.000000</td>\n",
       "      <td>83.915736</td>\n",
       "      <td>0.245834</td>\n",
       "      <td>19.443287</td>\n",
       "      <td>...</td>\n",
       "      <td>80.621110</td>\n",
       "      <td>1.0</td>\n",
       "      <td>0.0</td>\n",
       "      <td>0.0</td>\n",
       "      <td>0.0</td>\n",
       "      <td>1.0</td>\n",
       "      <td>0.0</td>\n",
       "      <td>4.0</td>\n",
       "      <td>0.0</td>\n",
       "      <td>1</td>\n",
       "    </tr>\n",
       "    <tr>\n",
       "      <th>56652</th>\n",
       "      <td>0.253755</td>\n",
       "      <td>22.906850</td>\n",
       "      <td>-0.000000</td>\n",
       "      <td>0.214197</td>\n",
       "      <td>4.248286</td>\n",
       "      <td>-0.000000</td>\n",
       "      <td>0.449138</td>\n",
       "      <td>53.174213</td>\n",
       "      <td>0.253755</td>\n",
       "      <td>22.906850</td>\n",
       "      <td>...</td>\n",
       "      <td>53.174213</td>\n",
       "      <td>1.0</td>\n",
       "      <td>1.0</td>\n",
       "      <td>0.0</td>\n",
       "      <td>0.0</td>\n",
       "      <td>0.0</td>\n",
       "      <td>1.0</td>\n",
       "      <td>0.0</td>\n",
       "      <td>4.0</td>\n",
       "      <td>1</td>\n",
       "    </tr>\n",
       "    <tr>\n",
       "      <th>17440</th>\n",
       "      <td>0.230134</td>\n",
       "      <td>14.048325</td>\n",
       "      <td>-0.000000</td>\n",
       "      <td>0.354409</td>\n",
       "      <td>3.370387</td>\n",
       "      <td>0.961001</td>\n",
       "      <td>0.624393</td>\n",
       "      <td>42.620070</td>\n",
       "      <td>0.230134</td>\n",
       "      <td>14.048325</td>\n",
       "      <td>...</td>\n",
       "      <td>42.620070</td>\n",
       "      <td>1.0</td>\n",
       "      <td>0.0</td>\n",
       "      <td>1.0</td>\n",
       "      <td>0.0</td>\n",
       "      <td>0.0</td>\n",
       "      <td>0.0</td>\n",
       "      <td>4.0</td>\n",
       "      <td>3.0</td>\n",
       "      <td>1</td>\n",
       "    </tr>\n",
       "  </tbody>\n",
       "</table>\n",
       "<p>5 rows × 25 columns</p>\n",
       "</div>"
      ],
      "text/plain": [
       "        RevolvingUtilizationOfUnsecuredLines_yoe    age_yoe  \\\n",
       "149883                                  0.004118  17.102734   \n",
       "34945                                   0.364350  12.952401   \n",
       "120143                                  0.245834  19.443287   \n",
       "56652                                   0.253755  22.906850   \n",
       "17440                                   0.230134  14.048325   \n",
       "\n",
       "        NumberOfTime30-59DaysPastDueNotWorse_yoe  DebtRatio_yoe  \\\n",
       "149883                                 -0.000000       0.206564   \n",
       "34945                                   0.153012       0.492462   \n",
       "120143                                 -0.000000       0.198022   \n",
       "56652                                  -0.000000       0.214197   \n",
       "17440                                  -0.000000       0.354409   \n",
       "\n",
       "        NumberOfOpenCreditLinesAndLoans_yoe  NumberRealEstateLoansOrLines_yoe  \\\n",
       "149883                             2.529692                          0.961001   \n",
       "34945                              1.804689                          0.636561   \n",
       "120143                             3.609993                          0.961001   \n",
       "56652                              4.248286                         -0.000000   \n",
       "17440                              3.370387                          0.961001   \n",
       "\n",
       "        NumberOfDependents_mean_replaced_yoe  MonthlyIncome_mode_replaced_yoe  \\\n",
       "149883                              0.624393                        65.830385   \n",
       "34945                               0.653705                        38.671933   \n",
       "120143                             -0.000000                        83.915736   \n",
       "56652                               0.449138                        53.174213   \n",
       "17440                               0.624393                        42.620070   \n",
       "\n",
       "        RevolvingUtilizationOfUnsecuredLines_yoe_h  age_yoe_h  ...  \\\n",
       "149883                                    0.004118  17.102734  ...   \n",
       "34945                                     0.364350  12.952401  ...   \n",
       "120143                                    0.245834  19.443287  ...   \n",
       "56652                                     0.253755  22.906850  ...   \n",
       "17440                                     0.230134  14.048325  ...   \n",
       "\n",
       "        MonthlyIncome_mode_replaced_yoe_h  x0_Male  x1_East  x1_North  \\\n",
       "149883                          65.830385      1.0      0.0       1.0   \n",
       "34945                           38.671933      1.0      0.0       0.0   \n",
       "120143                          80.621110      1.0      0.0       0.0   \n",
       "56652                           53.174213      1.0      1.0       0.0   \n",
       "17440                           42.620070      1.0      0.0       1.0   \n",
       "\n",
       "        x1_South  x1_West  x2_Rented  Occupation_re  Education_re  y_train  \n",
       "149883       0.0      0.0        1.0            2.0           4.0        1  \n",
       "34945        0.0      1.0        0.0            4.0           1.0        0  \n",
       "120143       0.0      1.0        0.0            4.0           0.0        1  \n",
       "56652        0.0      0.0        1.0            0.0           4.0        1  \n",
       "17440        0.0      0.0        0.0            4.0           3.0        1  \n",
       "\n",
       "[5 rows x 25 columns]"
      ]
     },
     "execution_count": 161,
     "metadata": {},
     "output_type": "execute_result"
    }
   ],
   "source": [
    "final_training_data.head()"
   ]
  },
  {
   "cell_type": "markdown",
   "id": "e780ddad",
   "metadata": {},
   "source": [
    "## Scaling down the values for getting better model"
   ]
  },
  {
   "cell_type": "code",
   "execution_count": 2,
   "id": "57ff7fc0",
   "metadata": {},
   "outputs": [
    {
     "ename": "NameError",
     "evalue": "name 'final_training_data' is not defined",
     "output_type": "error",
     "traceback": [
      "\u001b[1;31m---------------------------------------------------------------------------\u001b[0m",
      "\u001b[1;31mNameError\u001b[0m                                 Traceback (most recent call last)",
      "Cell \u001b[1;32mIn[2], line 1\u001b[0m\n\u001b[1;32m----> 1\u001b[0m x_train\u001b[38;5;241m=\u001b[39m\u001b[43mfinal_training_data\u001b[49m\u001b[38;5;241m.\u001b[39miloc[: , :\u001b[38;5;241m-\u001b[39m\u001b[38;5;241m1\u001b[39m]\n\u001b[0;32m      2\u001b[0m y_train\u001b[38;5;241m=\u001b[39mfinal_training_data\u001b[38;5;241m.\u001b[39miloc[: , \u001b[38;5;241m-\u001b[39m\u001b[38;5;241m1\u001b[39m]\n",
      "\u001b[1;31mNameError\u001b[0m: name 'final_training_data' is not defined"
     ]
    }
   ],
   "source": [
    "x_train=final_training_data.iloc[: , :-1]\n",
    "y_train=final_training_data.iloc[: , -1]"
   ]
  },
  {
   "cell_type": "code",
   "execution_count": 3,
   "id": "2615d0a3",
   "metadata": {},
   "outputs": [
    {
     "ename": "NameError",
     "evalue": "name 'final_test_data' is not defined",
     "output_type": "error",
     "traceback": [
      "\u001b[1;31m---------------------------------------------------------------------------\u001b[0m",
      "\u001b[1;31mNameError\u001b[0m                                 Traceback (most recent call last)",
      "Cell \u001b[1;32mIn[3], line 1\u001b[0m\n\u001b[1;32m----> 1\u001b[0m x_test\u001b[38;5;241m=\u001b[39m\u001b[43mfinal_test_data\u001b[49m\u001b[38;5;241m.\u001b[39miloc[:, :\u001b[38;5;241m-\u001b[39m\u001b[38;5;241m1\u001b[39m]\n\u001b[0;32m      2\u001b[0m y_test\u001b[38;5;241m=\u001b[39mfinal_test_data\u001b[38;5;241m.\u001b[39miloc[: , \u001b[38;5;241m-\u001b[39m\u001b[38;5;241m1\u001b[39m]\n",
      "\u001b[1;31mNameError\u001b[0m: name 'final_test_data' is not defined"
     ]
    }
   ],
   "source": [
    "x_test=final_test_data.iloc[:, :-1]\n",
    "y_test=final_test_data.iloc[: , -1]"
   ]
  },
  {
   "cell_type": "code",
   "execution_count": 4,
   "id": "0f609753",
   "metadata": {},
   "outputs": [
    {
     "ename": "NameError",
     "evalue": "name 'x_train' is not defined",
     "output_type": "error",
     "traceback": [
      "\u001b[1;31m---------------------------------------------------------------------------\u001b[0m",
      "\u001b[1;31mNameError\u001b[0m                                 Traceback (most recent call last)",
      "Cell \u001b[1;32mIn[4], line 3\u001b[0m\n\u001b[0;32m      1\u001b[0m \u001b[38;5;28;01mfrom\u001b[39;00m \u001b[38;5;21;01msklearn\u001b[39;00m\u001b[38;5;21;01m.\u001b[39;00m\u001b[38;5;21;01mpreprocessing\u001b[39;00m \u001b[38;5;28;01mimport\u001b[39;00m StandardScaler\n\u001b[0;32m      2\u001b[0m sc\u001b[38;5;241m=\u001b[39mStandardScaler()\n\u001b[1;32m----> 3\u001b[0m x_train_1\u001b[38;5;241m=\u001b[39msc\u001b[38;5;241m.\u001b[39mfit_transform(\u001b[43mx_train\u001b[49m)\n\u001b[0;32m      4\u001b[0m x_test_1\u001b[38;5;241m=\u001b[39msc\u001b[38;5;241m.\u001b[39mtransform(x_test)\n",
      "\u001b[1;31mNameError\u001b[0m: name 'x_train' is not defined"
     ]
    }
   ],
   "source": [
    "from sklearn.preprocessing import StandardScaler\n",
    "sc=StandardScaler()\n",
    "x_train_1=sc.fit_transform(x_train)\n",
    "x_test_1=sc.transform(x_test)\n",
    "\n"
   ]
  },
  {
   "cell_type": "code",
   "execution_count": 5,
   "id": "bda532b5",
   "metadata": {},
   "outputs": [
    {
     "ename": "NameError",
     "evalue": "name 'final_test_data' is not defined",
     "output_type": "error",
     "traceback": [
      "\u001b[1;31m---------------------------------------------------------------------------\u001b[0m",
      "\u001b[1;31mNameError\u001b[0m                                 Traceback (most recent call last)",
      "Cell \u001b[1;32mIn[5], line 1\u001b[0m\n\u001b[1;32m----> 1\u001b[0m \u001b[38;5;28mlen\u001b[39m(\u001b[43mfinal_test_data\u001b[49m\u001b[38;5;241m.\u001b[39mcolumns)\n",
      "\u001b[1;31mNameError\u001b[0m: name 'final_test_data' is not defined"
     ]
    }
   ],
   "source": [
    "len(final_test_data.columns)"
   ]
  },
  {
   "cell_type": "code",
   "execution_count": 173,
   "id": "2a729756",
   "metadata": {},
   "outputs": [
    {
     "data": {
      "text/plain": [
       "16"
      ]
     },
     "execution_count": 173,
     "metadata": {},
     "output_type": "execute_result"
    }
   ],
   "source": [
    "len(x_test.columns)"
   ]
  },
  {
   "cell_type": "code",
   "execution_count": null,
   "id": "e05a4941",
   "metadata": {},
   "outputs": [],
   "source": []
  }
 ],
 "metadata": {
  "kernelspec": {
   "display_name": "Python 3 (ipykernel)",
   "language": "python",
   "name": "python3"
  },
  "language_info": {
   "codemirror_mode": {
    "name": "ipython",
    "version": 3
   },
   "file_extension": ".py",
   "mimetype": "text/x-python",
   "name": "python",
   "nbconvert_exporter": "python",
   "pygments_lexer": "ipython3",
   "version": "3.9.15"
  }
 },
 "nbformat": 4,
 "nbformat_minor": 5
}
