{
 "cells": [
  {
   "cell_type": "markdown",
   "id": "b1f0ef1c",
   "metadata": {},
   "source": [
    "### Import Packages "
   ]
  },
  {
   "cell_type": "code",
   "execution_count": 1,
   "id": "acc36cb6",
   "metadata": {},
   "outputs": [],
   "source": [
    "import numpy as np \n",
    "import pandas as pd \n",
    "import matplotlib.pyplot as plt \n",
    "import seaborn as sns \n",
    "import sklearn "
   ]
  },
  {
   "cell_type": "code",
   "execution_count": 2,
   "id": "d7498965",
   "metadata": {},
   "outputs": [],
   "source": [
    "import warnings\n",
    "warnings.filterwarnings('ignore')"
   ]
  },
  {
   "cell_type": "code",
   "execution_count": 3,
   "id": "5546c624",
   "metadata": {},
   "outputs": [],
   "source": [
    "df = pd.read_csv('./creditcard.csv')"
   ]
  },
  {
   "cell_type": "code",
   "execution_count": 4,
   "id": "afb9a5f8",
   "metadata": {},
   "outputs": [
    {
     "data": {
      "text/html": [
       "<div>\n",
       "<style scoped>\n",
       "    .dataframe tbody tr th:only-of-type {\n",
       "        vertical-align: middle;\n",
       "    }\n",
       "\n",
       "    .dataframe tbody tr th {\n",
       "        vertical-align: top;\n",
       "    }\n",
       "\n",
       "    .dataframe thead th {\n",
       "        text-align: right;\n",
       "    }\n",
       "</style>\n",
       "<table border=\"1\" class=\"dataframe\">\n",
       "  <thead>\n",
       "    <tr style=\"text-align: right;\">\n",
       "      <th></th>\n",
       "      <th>NPA Status</th>\n",
       "      <th>RevolvingUtilizationOfUnsecuredLines</th>\n",
       "      <th>age</th>\n",
       "      <th>Gender</th>\n",
       "      <th>Region</th>\n",
       "      <th>MonthlyIncome</th>\n",
       "      <th>Rented_OwnHouse</th>\n",
       "      <th>Occupation</th>\n",
       "      <th>Education</th>\n",
       "      <th>NumberOfTime30-59DaysPastDueNotWorse</th>\n",
       "      <th>DebtRatio</th>\n",
       "      <th>MonthlyIncome.1</th>\n",
       "      <th>NumberOfOpenCreditLinesAndLoans</th>\n",
       "      <th>NumberOfTimes90DaysLate</th>\n",
       "      <th>NumberRealEstateLoansOrLines</th>\n",
       "      <th>NumberOfTime60-89DaysPastDueNotWorse</th>\n",
       "      <th>NumberOfDependents</th>\n",
       "      <th>Good_Bad</th>\n",
       "    </tr>\n",
       "  </thead>\n",
       "  <tbody>\n",
       "    <tr>\n",
       "      <th>0</th>\n",
       "      <td>1.0</td>\n",
       "      <td>0.766127</td>\n",
       "      <td>45.0</td>\n",
       "      <td>Male</td>\n",
       "      <td>South</td>\n",
       "      <td>9120.0</td>\n",
       "      <td>Ownhouse</td>\n",
       "      <td>Self_Emp</td>\n",
       "      <td>Matric</td>\n",
       "      <td>2.0</td>\n",
       "      <td>0.802982</td>\n",
       "      <td>9120.0</td>\n",
       "      <td>13.0</td>\n",
       "      <td>0.0</td>\n",
       "      <td>6.0</td>\n",
       "      <td>0.0</td>\n",
       "      <td>2.0</td>\n",
       "      <td>Bad</td>\n",
       "    </tr>\n",
       "    <tr>\n",
       "      <th>1</th>\n",
       "      <td>0.0</td>\n",
       "      <td>0.957151</td>\n",
       "      <td>40.0</td>\n",
       "      <td>Female</td>\n",
       "      <td>South</td>\n",
       "      <td>2600.0</td>\n",
       "      <td>Ownhouse</td>\n",
       "      <td>Self_Emp</td>\n",
       "      <td>Graduate</td>\n",
       "      <td>0.0</td>\n",
       "      <td>0.121876</td>\n",
       "      <td>2600.0</td>\n",
       "      <td>4.0</td>\n",
       "      <td>0.0</td>\n",
       "      <td>0.0</td>\n",
       "      <td>0.0</td>\n",
       "      <td>1.0</td>\n",
       "      <td>Good</td>\n",
       "    </tr>\n",
       "    <tr>\n",
       "      <th>2</th>\n",
       "      <td>0.0</td>\n",
       "      <td>0.658180</td>\n",
       "      <td>38.0</td>\n",
       "      <td>Female</td>\n",
       "      <td>South</td>\n",
       "      <td>3042.0</td>\n",
       "      <td>Ownhouse</td>\n",
       "      <td>Self_Emp</td>\n",
       "      <td>PhD</td>\n",
       "      <td>1.0</td>\n",
       "      <td>0.085113</td>\n",
       "      <td>3042.0</td>\n",
       "      <td>2.0</td>\n",
       "      <td>1.0</td>\n",
       "      <td>0.0</td>\n",
       "      <td>0.0</td>\n",
       "      <td>0.0</td>\n",
       "      <td>Good</td>\n",
       "    </tr>\n",
       "    <tr>\n",
       "      <th>3</th>\n",
       "      <td>0.0</td>\n",
       "      <td>0.233810</td>\n",
       "      <td>30.0</td>\n",
       "      <td>Female</td>\n",
       "      <td>South</td>\n",
       "      <td>3300.0</td>\n",
       "      <td>Ownhouse</td>\n",
       "      <td>Self_Emp</td>\n",
       "      <td>Professional</td>\n",
       "      <td>0.0</td>\n",
       "      <td>0.036050</td>\n",
       "      <td>3300.0</td>\n",
       "      <td>5.0</td>\n",
       "      <td>0.0</td>\n",
       "      <td>0.0</td>\n",
       "      <td>0.0</td>\n",
       "      <td>0.0</td>\n",
       "      <td>Good</td>\n",
       "    </tr>\n",
       "    <tr>\n",
       "      <th>4</th>\n",
       "      <td>0.0</td>\n",
       "      <td>0.907239</td>\n",
       "      <td>49.0</td>\n",
       "      <td>Male</td>\n",
       "      <td>South</td>\n",
       "      <td>63588.0</td>\n",
       "      <td>Ownhouse</td>\n",
       "      <td>Self_Emp</td>\n",
       "      <td>Post-Grad</td>\n",
       "      <td>1.0</td>\n",
       "      <td>0.024926</td>\n",
       "      <td>63588.0</td>\n",
       "      <td>7.0</td>\n",
       "      <td>0.0</td>\n",
       "      <td>1.0</td>\n",
       "      <td>0.0</td>\n",
       "      <td>0.0</td>\n",
       "      <td>Good</td>\n",
       "    </tr>\n",
       "    <tr>\n",
       "      <th>5</th>\n",
       "      <td>0.0</td>\n",
       "      <td>0.213179</td>\n",
       "      <td>74.0</td>\n",
       "      <td>Female</td>\n",
       "      <td>South</td>\n",
       "      <td>3500.0</td>\n",
       "      <td>Ownhouse</td>\n",
       "      <td>Self_Emp</td>\n",
       "      <td>Graduate</td>\n",
       "      <td>0.0</td>\n",
       "      <td>0.375607</td>\n",
       "      <td>3500.0</td>\n",
       "      <td>3.0</td>\n",
       "      <td>0.0</td>\n",
       "      <td>1.0</td>\n",
       "      <td>0.0</td>\n",
       "      <td>1.0</td>\n",
       "      <td>Good</td>\n",
       "    </tr>\n",
       "    <tr>\n",
       "      <th>6</th>\n",
       "      <td>0.0</td>\n",
       "      <td>0.305682</td>\n",
       "      <td>57.0</td>\n",
       "      <td>Female</td>\n",
       "      <td>South</td>\n",
       "      <td>NaN</td>\n",
       "      <td>Ownhouse</td>\n",
       "      <td>Self_Emp</td>\n",
       "      <td>PhD</td>\n",
       "      <td>0.0</td>\n",
       "      <td>5710.000000</td>\n",
       "      <td>NaN</td>\n",
       "      <td>8.0</td>\n",
       "      <td>0.0</td>\n",
       "      <td>3.0</td>\n",
       "      <td>0.0</td>\n",
       "      <td>0.0</td>\n",
       "      <td>Good</td>\n",
       "    </tr>\n",
       "    <tr>\n",
       "      <th>7</th>\n",
       "      <td>0.0</td>\n",
       "      <td>0.754464</td>\n",
       "      <td>39.0</td>\n",
       "      <td>Female</td>\n",
       "      <td>South</td>\n",
       "      <td>3500.0</td>\n",
       "      <td>Ownhouse</td>\n",
       "      <td>Self_Emp</td>\n",
       "      <td>Post-Grad</td>\n",
       "      <td>0.0</td>\n",
       "      <td>0.209940</td>\n",
       "      <td>3500.0</td>\n",
       "      <td>8.0</td>\n",
       "      <td>0.0</td>\n",
       "      <td>0.0</td>\n",
       "      <td>0.0</td>\n",
       "      <td>0.0</td>\n",
       "      <td>Good</td>\n",
       "    </tr>\n",
       "    <tr>\n",
       "      <th>8</th>\n",
       "      <td>0.0</td>\n",
       "      <td>0.116951</td>\n",
       "      <td>27.0</td>\n",
       "      <td>Female</td>\n",
       "      <td>South</td>\n",
       "      <td>NaN</td>\n",
       "      <td>Ownhouse</td>\n",
       "      <td>Self_Emp</td>\n",
       "      <td>Post-Grad</td>\n",
       "      <td>0.0</td>\n",
       "      <td>46.000000</td>\n",
       "      <td>NaN</td>\n",
       "      <td>2.0</td>\n",
       "      <td>0.0</td>\n",
       "      <td>0.0</td>\n",
       "      <td>0.0</td>\n",
       "      <td>NaN</td>\n",
       "      <td>Good</td>\n",
       "    </tr>\n",
       "    <tr>\n",
       "      <th>9</th>\n",
       "      <td>0.0</td>\n",
       "      <td>0.189169</td>\n",
       "      <td>57.0</td>\n",
       "      <td>Female</td>\n",
       "      <td>South</td>\n",
       "      <td>23684.0</td>\n",
       "      <td>Ownhouse</td>\n",
       "      <td>Self_Emp</td>\n",
       "      <td>Graduate</td>\n",
       "      <td>0.0</td>\n",
       "      <td>0.606291</td>\n",
       "      <td>23684.0</td>\n",
       "      <td>9.0</td>\n",
       "      <td>0.0</td>\n",
       "      <td>4.0</td>\n",
       "      <td>0.0</td>\n",
       "      <td>2.0</td>\n",
       "      <td>Good</td>\n",
       "    </tr>\n",
       "  </tbody>\n",
       "</table>\n",
       "</div>"
      ],
      "text/plain": [
       "   NPA Status  RevolvingUtilizationOfUnsecuredLines   age  Gender Region  \\\n",
       "0         1.0                              0.766127  45.0    Male  South   \n",
       "1         0.0                              0.957151  40.0  Female  South   \n",
       "2         0.0                              0.658180  38.0  Female  South   \n",
       "3         0.0                              0.233810  30.0  Female  South   \n",
       "4         0.0                              0.907239  49.0    Male  South   \n",
       "5         0.0                              0.213179  74.0  Female  South   \n",
       "6         0.0                              0.305682  57.0  Female  South   \n",
       "7         0.0                              0.754464  39.0  Female  South   \n",
       "8         0.0                              0.116951  27.0  Female  South   \n",
       "9         0.0                              0.189169  57.0  Female  South   \n",
       "\n",
       "   MonthlyIncome Rented_OwnHouse Occupation     Education  \\\n",
       "0         9120.0        Ownhouse   Self_Emp        Matric   \n",
       "1         2600.0        Ownhouse   Self_Emp      Graduate   \n",
       "2         3042.0        Ownhouse   Self_Emp           PhD   \n",
       "3         3300.0        Ownhouse   Self_Emp  Professional   \n",
       "4        63588.0        Ownhouse   Self_Emp     Post-Grad   \n",
       "5         3500.0        Ownhouse   Self_Emp      Graduate   \n",
       "6            NaN        Ownhouse   Self_Emp           PhD   \n",
       "7         3500.0        Ownhouse   Self_Emp     Post-Grad   \n",
       "8            NaN        Ownhouse   Self_Emp     Post-Grad   \n",
       "9        23684.0        Ownhouse   Self_Emp      Graduate   \n",
       "\n",
       "   NumberOfTime30-59DaysPastDueNotWorse    DebtRatio  MonthlyIncome.1  \\\n",
       "0                                   2.0     0.802982           9120.0   \n",
       "1                                   0.0     0.121876           2600.0   \n",
       "2                                   1.0     0.085113           3042.0   \n",
       "3                                   0.0     0.036050           3300.0   \n",
       "4                                   1.0     0.024926          63588.0   \n",
       "5                                   0.0     0.375607           3500.0   \n",
       "6                                   0.0  5710.000000              NaN   \n",
       "7                                   0.0     0.209940           3500.0   \n",
       "8                                   0.0    46.000000              NaN   \n",
       "9                                   0.0     0.606291          23684.0   \n",
       "\n",
       "   NumberOfOpenCreditLinesAndLoans  NumberOfTimes90DaysLate  \\\n",
       "0                             13.0                      0.0   \n",
       "1                              4.0                      0.0   \n",
       "2                              2.0                      1.0   \n",
       "3                              5.0                      0.0   \n",
       "4                              7.0                      0.0   \n",
       "5                              3.0                      0.0   \n",
       "6                              8.0                      0.0   \n",
       "7                              8.0                      0.0   \n",
       "8                              2.0                      0.0   \n",
       "9                              9.0                      0.0   \n",
       "\n",
       "   NumberRealEstateLoansOrLines  NumberOfTime60-89DaysPastDueNotWorse  \\\n",
       "0                           6.0                                   0.0   \n",
       "1                           0.0                                   0.0   \n",
       "2                           0.0                                   0.0   \n",
       "3                           0.0                                   0.0   \n",
       "4                           1.0                                   0.0   \n",
       "5                           1.0                                   0.0   \n",
       "6                           3.0                                   0.0   \n",
       "7                           0.0                                   0.0   \n",
       "8                           0.0                                   0.0   \n",
       "9                           4.0                                   0.0   \n",
       "\n",
       "  NumberOfDependents Good_Bad  \n",
       "0                2.0      Bad  \n",
       "1                1.0     Good  \n",
       "2                0.0     Good  \n",
       "3                0.0     Good  \n",
       "4                0.0     Good  \n",
       "5                1.0     Good  \n",
       "6                0.0     Good  \n",
       "7                0.0     Good  \n",
       "8                NaN     Good  \n",
       "9                2.0     Good  "
      ]
     },
     "execution_count": 4,
     "metadata": {},
     "output_type": "execute_result"
    }
   ],
   "source": [
    "df.head(10)"
   ]
  },
  {
   "cell_type": "code",
   "execution_count": 5,
   "id": "1788fa08",
   "metadata": {},
   "outputs": [
    {
     "data": {
      "text/plain": [
       "(150002, 18)"
      ]
     },
     "execution_count": 5,
     "metadata": {},
     "output_type": "execute_result"
    }
   ],
   "source": [
    "df.shape "
   ]
  },
  {
   "cell_type": "markdown",
   "id": "603cba2e",
   "metadata": {},
   "source": [
    "## Data preprocesssing "
   ]
  },
  {
   "cell_type": "code",
   "execution_count": 6,
   "id": "a202725d",
   "metadata": {},
   "outputs": [],
   "source": [
    "# spliting the data into training and test data "
   ]
  },
  {
   "cell_type": "code",
   "execution_count": 7,
   "id": "6e78ab5e",
   "metadata": {},
   "outputs": [],
   "source": [
    "from sklearn.model_selection import train_test_split"
   ]
  },
  {
   "cell_type": "code",
   "execution_count": 8,
   "id": "817436e4",
   "metadata": {},
   "outputs": [],
   "source": [
    "X = df.iloc[: , :-1] # independent variables \n",
    "y = df.iloc[: , -1]"
   ]
  },
  {
   "cell_type": "code",
   "execution_count": 9,
   "id": "3e0ab67d",
   "metadata": {},
   "outputs": [],
   "source": [
    "X_train , X_test , y_train , y_test = train_test_split(X , y , test_size=0.1 , random_state=11)\n",
    "\n"
   ]
  },
  {
   "cell_type": "code",
   "execution_count": 10,
   "id": "9c4a72ac",
   "metadata": {},
   "outputs": [
    {
     "data": {
      "text/plain": [
       "(150002, 18)"
      ]
     },
     "execution_count": 10,
     "metadata": {},
     "output_type": "execute_result"
    }
   ],
   "source": [
    "df.shape"
   ]
  },
  {
   "cell_type": "code",
   "execution_count": 11,
   "id": "6c3fb3c1",
   "metadata": {},
   "outputs": [
    {
     "data": {
      "text/html": [
       "<div>\n",
       "<style scoped>\n",
       "    .dataframe tbody tr th:only-of-type {\n",
       "        vertical-align: middle;\n",
       "    }\n",
       "\n",
       "    .dataframe tbody tr th {\n",
       "        vertical-align: top;\n",
       "    }\n",
       "\n",
       "    .dataframe thead th {\n",
       "        text-align: right;\n",
       "    }\n",
       "</style>\n",
       "<table border=\"1\" class=\"dataframe\">\n",
       "  <thead>\n",
       "    <tr style=\"text-align: right;\">\n",
       "      <th></th>\n",
       "      <th>NPA Status</th>\n",
       "      <th>RevolvingUtilizationOfUnsecuredLines</th>\n",
       "      <th>age</th>\n",
       "      <th>Gender</th>\n",
       "      <th>Region</th>\n",
       "      <th>MonthlyIncome</th>\n",
       "      <th>Rented_OwnHouse</th>\n",
       "      <th>Occupation</th>\n",
       "      <th>Education</th>\n",
       "      <th>NumberOfTime30-59DaysPastDueNotWorse</th>\n",
       "      <th>DebtRatio</th>\n",
       "      <th>MonthlyIncome.1</th>\n",
       "      <th>NumberOfOpenCreditLinesAndLoans</th>\n",
       "      <th>NumberOfTimes90DaysLate</th>\n",
       "      <th>NumberRealEstateLoansOrLines</th>\n",
       "      <th>NumberOfTime60-89DaysPastDueNotWorse</th>\n",
       "      <th>NumberOfDependents</th>\n",
       "    </tr>\n",
       "  </thead>\n",
       "  <tbody>\n",
       "    <tr>\n",
       "      <th>149883</th>\n",
       "      <td>0.0</td>\n",
       "      <td>0.004145</td>\n",
       "      <td>48.0</td>\n",
       "      <td>Male</td>\n",
       "      <td>North</td>\n",
       "      <td>8960.0</td>\n",
       "      <td>Rented</td>\n",
       "      <td>Officer2</td>\n",
       "      <td>Professional</td>\n",
       "      <td>0.0</td>\n",
       "      <td>0.248633</td>\n",
       "      <td>8960.0</td>\n",
       "      <td>5.0</td>\n",
       "      <td>0.0</td>\n",
       "      <td>2.0</td>\n",
       "      <td>0.0</td>\n",
       "      <td>3</td>\n",
       "    </tr>\n",
       "    <tr>\n",
       "      <th>34945</th>\n",
       "      <td>1.0</td>\n",
       "      <td>1.000000</td>\n",
       "      <td>32.0</td>\n",
       "      <td>Male</td>\n",
       "      <td>West</td>\n",
       "      <td>2120.0</td>\n",
       "      <td>Ownhouse</td>\n",
       "      <td>Self_Emp</td>\n",
       "      <td>Matric</td>\n",
       "      <td>3.0</td>\n",
       "      <td>0.813767</td>\n",
       "      <td>2120.0</td>\n",
       "      <td>3.0</td>\n",
       "      <td>0.0</td>\n",
       "      <td>1.0</td>\n",
       "      <td>0.0</td>\n",
       "      <td>4.0</td>\n",
       "    </tr>\n",
       "    <tr>\n",
       "      <th>120143</th>\n",
       "      <td>0.0</td>\n",
       "      <td>0.413995</td>\n",
       "      <td>58.0</td>\n",
       "      <td>Male</td>\n",
       "      <td>West</td>\n",
       "      <td>17500.0</td>\n",
       "      <td>Ownhouse</td>\n",
       "      <td>Self_Emp</td>\n",
       "      <td>Graduate</td>\n",
       "      <td>0.0</td>\n",
       "      <td>0.236386</td>\n",
       "      <td>17500.0</td>\n",
       "      <td>9.0</td>\n",
       "      <td>0.0</td>\n",
       "      <td>2.0</td>\n",
       "      <td>0.0</td>\n",
       "      <td>0.0</td>\n",
       "    </tr>\n",
       "    <tr>\n",
       "      <th>56652</th>\n",
       "      <td>0.0</td>\n",
       "      <td>0.437853</td>\n",
       "      <td>74.0</td>\n",
       "      <td>Male</td>\n",
       "      <td>East</td>\n",
       "      <td>5000.0</td>\n",
       "      <td>Rented</td>\n",
       "      <td>Non-officer</td>\n",
       "      <td>Professional</td>\n",
       "      <td>0.0</td>\n",
       "      <td>0.259748</td>\n",
       "      <td>5000.0</td>\n",
       "      <td>12.0</td>\n",
       "      <td>0.0</td>\n",
       "      <td>0.0</td>\n",
       "      <td>0.0</td>\n",
       "      <td>1.0</td>\n",
       "    </tr>\n",
       "    <tr>\n",
       "      <th>17440</th>\n",
       "      <td>0.0</td>\n",
       "      <td>0.370125</td>\n",
       "      <td>36.0</td>\n",
       "      <td>Male</td>\n",
       "      <td>North</td>\n",
       "      <td>2750.0</td>\n",
       "      <td>Ownhouse</td>\n",
       "      <td>Self_Emp</td>\n",
       "      <td>Post-Grad</td>\n",
       "      <td>0.0</td>\n",
       "      <td>0.497274</td>\n",
       "      <td>2750.0</td>\n",
       "      <td>8.0</td>\n",
       "      <td>0.0</td>\n",
       "      <td>2.0</td>\n",
       "      <td>1.0</td>\n",
       "      <td>3.0</td>\n",
       "    </tr>\n",
       "  </tbody>\n",
       "</table>\n",
       "</div>"
      ],
      "text/plain": [
       "        NPA Status  RevolvingUtilizationOfUnsecuredLines   age Gender Region  \\\n",
       "149883         0.0                              0.004145  48.0   Male  North   \n",
       "34945          1.0                              1.000000  32.0   Male   West   \n",
       "120143         0.0                              0.413995  58.0   Male   West   \n",
       "56652          0.0                              0.437853  74.0   Male   East   \n",
       "17440          0.0                              0.370125  36.0   Male  North   \n",
       "\n",
       "        MonthlyIncome Rented_OwnHouse   Occupation     Education  \\\n",
       "149883         8960.0          Rented     Officer2  Professional   \n",
       "34945          2120.0        Ownhouse     Self_Emp        Matric   \n",
       "120143        17500.0        Ownhouse     Self_Emp      Graduate   \n",
       "56652          5000.0          Rented  Non-officer  Professional   \n",
       "17440          2750.0        Ownhouse     Self_Emp     Post-Grad   \n",
       "\n",
       "        NumberOfTime30-59DaysPastDueNotWorse  DebtRatio  MonthlyIncome.1  \\\n",
       "149883                                   0.0   0.248633           8960.0   \n",
       "34945                                    3.0   0.813767           2120.0   \n",
       "120143                                   0.0   0.236386          17500.0   \n",
       "56652                                    0.0   0.259748           5000.0   \n",
       "17440                                    0.0   0.497274           2750.0   \n",
       "\n",
       "        NumberOfOpenCreditLinesAndLoans  NumberOfTimes90DaysLate  \\\n",
       "149883                              5.0                      0.0   \n",
       "34945                               3.0                      0.0   \n",
       "120143                              9.0                      0.0   \n",
       "56652                              12.0                      0.0   \n",
       "17440                               8.0                      0.0   \n",
       "\n",
       "        NumberRealEstateLoansOrLines  NumberOfTime60-89DaysPastDueNotWorse  \\\n",
       "149883                           2.0                                   0.0   \n",
       "34945                            1.0                                   0.0   \n",
       "120143                           2.0                                   0.0   \n",
       "56652                            0.0                                   0.0   \n",
       "17440                            2.0                                   1.0   \n",
       "\n",
       "       NumberOfDependents  \n",
       "149883                  3  \n",
       "34945                 4.0  \n",
       "120143                0.0  \n",
       "56652                 1.0  \n",
       "17440                 3.0  "
      ]
     },
     "execution_count": 11,
     "metadata": {},
     "output_type": "execute_result"
    }
   ],
   "source": [
    "X_train.head()"
   ]
  },
  {
   "cell_type": "code",
   "execution_count": 12,
   "id": "4522d3fb",
   "metadata": {},
   "outputs": [
    {
     "data": {
      "text/plain": [
       "149883    Good\n",
       "34945      Bad\n",
       "120143    Good\n",
       "56652     Good\n",
       "17440     Good\n",
       "          ... \n",
       "102327    Good\n",
       "97617     Good\n",
       "21584     Good\n",
       "36543     Good\n",
       "141209    Good\n",
       "Name: Good_Bad, Length: 135001, dtype: object"
      ]
     },
     "execution_count": 12,
     "metadata": {},
     "output_type": "execute_result"
    }
   ],
   "source": [
    "y_train"
   ]
  },
  {
   "cell_type": "markdown",
   "id": "647486ea",
   "metadata": {},
   "source": [
    "#### checking the shape of training part for the data "
   ]
  },
  {
   "cell_type": "code",
   "execution_count": 13,
   "id": "21c4ca71",
   "metadata": {},
   "outputs": [
    {
     "data": {
      "text/plain": [
       "(135001, 135001)"
      ]
     },
     "execution_count": 13,
     "metadata": {},
     "output_type": "execute_result"
    }
   ],
   "source": [
    "len(X_train) , len(y_train)"
   ]
  },
  {
   "cell_type": "code",
   "execution_count": 14,
   "id": "63bc2971",
   "metadata": {},
   "outputs": [],
   "source": [
    "# combining the data independet and dependent \n",
    "\n",
    "training_data = pd.concat([X_train , y_train] , axis = 1)\n"
   ]
  },
  {
   "cell_type": "code",
   "execution_count": 15,
   "id": "a7ccfc71",
   "metadata": {},
   "outputs": [
    {
     "data": {
      "text/html": [
       "<div>\n",
       "<style scoped>\n",
       "    .dataframe tbody tr th:only-of-type {\n",
       "        vertical-align: middle;\n",
       "    }\n",
       "\n",
       "    .dataframe tbody tr th {\n",
       "        vertical-align: top;\n",
       "    }\n",
       "\n",
       "    .dataframe thead th {\n",
       "        text-align: right;\n",
       "    }\n",
       "</style>\n",
       "<table border=\"1\" class=\"dataframe\">\n",
       "  <thead>\n",
       "    <tr style=\"text-align: right;\">\n",
       "      <th></th>\n",
       "      <th>NPA Status</th>\n",
       "      <th>RevolvingUtilizationOfUnsecuredLines</th>\n",
       "      <th>age</th>\n",
       "      <th>Gender</th>\n",
       "      <th>Region</th>\n",
       "      <th>MonthlyIncome</th>\n",
       "      <th>Rented_OwnHouse</th>\n",
       "      <th>Occupation</th>\n",
       "      <th>Education</th>\n",
       "      <th>NumberOfTime30-59DaysPastDueNotWorse</th>\n",
       "      <th>DebtRatio</th>\n",
       "      <th>MonthlyIncome.1</th>\n",
       "      <th>NumberOfOpenCreditLinesAndLoans</th>\n",
       "      <th>NumberOfTimes90DaysLate</th>\n",
       "      <th>NumberRealEstateLoansOrLines</th>\n",
       "      <th>NumberOfTime60-89DaysPastDueNotWorse</th>\n",
       "      <th>NumberOfDependents</th>\n",
       "      <th>Good_Bad</th>\n",
       "    </tr>\n",
       "  </thead>\n",
       "  <tbody>\n",
       "    <tr>\n",
       "      <th>149883</th>\n",
       "      <td>0.0</td>\n",
       "      <td>0.004145</td>\n",
       "      <td>48.0</td>\n",
       "      <td>Male</td>\n",
       "      <td>North</td>\n",
       "      <td>8960.0</td>\n",
       "      <td>Rented</td>\n",
       "      <td>Officer2</td>\n",
       "      <td>Professional</td>\n",
       "      <td>0.0</td>\n",
       "      <td>0.248633</td>\n",
       "      <td>8960.0</td>\n",
       "      <td>5.0</td>\n",
       "      <td>0.0</td>\n",
       "      <td>2.0</td>\n",
       "      <td>0.0</td>\n",
       "      <td>3</td>\n",
       "      <td>Good</td>\n",
       "    </tr>\n",
       "    <tr>\n",
       "      <th>34945</th>\n",
       "      <td>1.0</td>\n",
       "      <td>1.000000</td>\n",
       "      <td>32.0</td>\n",
       "      <td>Male</td>\n",
       "      <td>West</td>\n",
       "      <td>2120.0</td>\n",
       "      <td>Ownhouse</td>\n",
       "      <td>Self_Emp</td>\n",
       "      <td>Matric</td>\n",
       "      <td>3.0</td>\n",
       "      <td>0.813767</td>\n",
       "      <td>2120.0</td>\n",
       "      <td>3.0</td>\n",
       "      <td>0.0</td>\n",
       "      <td>1.0</td>\n",
       "      <td>0.0</td>\n",
       "      <td>4.0</td>\n",
       "      <td>Bad</td>\n",
       "    </tr>\n",
       "    <tr>\n",
       "      <th>120143</th>\n",
       "      <td>0.0</td>\n",
       "      <td>0.413995</td>\n",
       "      <td>58.0</td>\n",
       "      <td>Male</td>\n",
       "      <td>West</td>\n",
       "      <td>17500.0</td>\n",
       "      <td>Ownhouse</td>\n",
       "      <td>Self_Emp</td>\n",
       "      <td>Graduate</td>\n",
       "      <td>0.0</td>\n",
       "      <td>0.236386</td>\n",
       "      <td>17500.0</td>\n",
       "      <td>9.0</td>\n",
       "      <td>0.0</td>\n",
       "      <td>2.0</td>\n",
       "      <td>0.0</td>\n",
       "      <td>0.0</td>\n",
       "      <td>Good</td>\n",
       "    </tr>\n",
       "    <tr>\n",
       "      <th>56652</th>\n",
       "      <td>0.0</td>\n",
       "      <td>0.437853</td>\n",
       "      <td>74.0</td>\n",
       "      <td>Male</td>\n",
       "      <td>East</td>\n",
       "      <td>5000.0</td>\n",
       "      <td>Rented</td>\n",
       "      <td>Non-officer</td>\n",
       "      <td>Professional</td>\n",
       "      <td>0.0</td>\n",
       "      <td>0.259748</td>\n",
       "      <td>5000.0</td>\n",
       "      <td>12.0</td>\n",
       "      <td>0.0</td>\n",
       "      <td>0.0</td>\n",
       "      <td>0.0</td>\n",
       "      <td>1.0</td>\n",
       "      <td>Good</td>\n",
       "    </tr>\n",
       "    <tr>\n",
       "      <th>17440</th>\n",
       "      <td>0.0</td>\n",
       "      <td>0.370125</td>\n",
       "      <td>36.0</td>\n",
       "      <td>Male</td>\n",
       "      <td>North</td>\n",
       "      <td>2750.0</td>\n",
       "      <td>Ownhouse</td>\n",
       "      <td>Self_Emp</td>\n",
       "      <td>Post-Grad</td>\n",
       "      <td>0.0</td>\n",
       "      <td>0.497274</td>\n",
       "      <td>2750.0</td>\n",
       "      <td>8.0</td>\n",
       "      <td>0.0</td>\n",
       "      <td>2.0</td>\n",
       "      <td>1.0</td>\n",
       "      <td>3.0</td>\n",
       "      <td>Good</td>\n",
       "    </tr>\n",
       "  </tbody>\n",
       "</table>\n",
       "</div>"
      ],
      "text/plain": [
       "        NPA Status  RevolvingUtilizationOfUnsecuredLines   age Gender Region  \\\n",
       "149883         0.0                              0.004145  48.0   Male  North   \n",
       "34945          1.0                              1.000000  32.0   Male   West   \n",
       "120143         0.0                              0.413995  58.0   Male   West   \n",
       "56652          0.0                              0.437853  74.0   Male   East   \n",
       "17440          0.0                              0.370125  36.0   Male  North   \n",
       "\n",
       "        MonthlyIncome Rented_OwnHouse   Occupation     Education  \\\n",
       "149883         8960.0          Rented     Officer2  Professional   \n",
       "34945          2120.0        Ownhouse     Self_Emp        Matric   \n",
       "120143        17500.0        Ownhouse     Self_Emp      Graduate   \n",
       "56652          5000.0          Rented  Non-officer  Professional   \n",
       "17440          2750.0        Ownhouse     Self_Emp     Post-Grad   \n",
       "\n",
       "        NumberOfTime30-59DaysPastDueNotWorse  DebtRatio  MonthlyIncome.1  \\\n",
       "149883                                   0.0   0.248633           8960.0   \n",
       "34945                                    3.0   0.813767           2120.0   \n",
       "120143                                   0.0   0.236386          17500.0   \n",
       "56652                                    0.0   0.259748           5000.0   \n",
       "17440                                    0.0   0.497274           2750.0   \n",
       "\n",
       "        NumberOfOpenCreditLinesAndLoans  NumberOfTimes90DaysLate  \\\n",
       "149883                              5.0                      0.0   \n",
       "34945                               3.0                      0.0   \n",
       "120143                              9.0                      0.0   \n",
       "56652                              12.0                      0.0   \n",
       "17440                               8.0                      0.0   \n",
       "\n",
       "        NumberRealEstateLoansOrLines  NumberOfTime60-89DaysPastDueNotWorse  \\\n",
       "149883                           2.0                                   0.0   \n",
       "34945                            1.0                                   0.0   \n",
       "120143                           2.0                                   0.0   \n",
       "56652                            0.0                                   0.0   \n",
       "17440                            2.0                                   1.0   \n",
       "\n",
       "       NumberOfDependents Good_Bad  \n",
       "149883                  3     Good  \n",
       "34945                 4.0      Bad  \n",
       "120143                0.0     Good  \n",
       "56652                 1.0     Good  \n",
       "17440                 3.0     Good  "
      ]
     },
     "execution_count": 15,
     "metadata": {},
     "output_type": "execute_result"
    }
   ],
   "source": [
    "training_data.head()"
   ]
  },
  {
   "cell_type": "code",
   "execution_count": 16,
   "id": "06818e38",
   "metadata": {},
   "outputs": [
    {
     "name": "stdout",
     "output_type": "stream",
     "text": [
      "<class 'pandas.core.frame.DataFrame'>\n",
      "Int64Index: 135001 entries, 149883 to 141209\n",
      "Data columns (total 18 columns):\n",
      " #   Column                                Non-Null Count   Dtype  \n",
      "---  ------                                --------------   -----  \n",
      " 0   NPA Status                            134999 non-null  float64\n",
      " 1   RevolvingUtilizationOfUnsecuredLines  134999 non-null  float64\n",
      " 2   age                                   134999 non-null  float64\n",
      " 3   Gender                                134999 non-null  object \n",
      " 4   Region                                134999 non-null  object \n",
      " 5   MonthlyIncome                         108210 non-null  float64\n",
      " 6   Rented_OwnHouse                       134999 non-null  object \n",
      " 7   Occupation                            134999 non-null  object \n",
      " 8   Education                             134999 non-null  object \n",
      " 9   NumberOfTime30-59DaysPastDueNotWorse  134999 non-null  float64\n",
      " 10  DebtRatio                             134999 non-null  float64\n",
      " 11  MonthlyIncome.1                       108210 non-null  float64\n",
      " 12  NumberOfOpenCreditLinesAndLoans       134999 non-null  float64\n",
      " 13  NumberOfTimes90DaysLate               134999 non-null  float64\n",
      " 14  NumberRealEstateLoansOrLines          134999 non-null  float64\n",
      " 15  NumberOfTime60-89DaysPastDueNotWorse  134999 non-null  float64\n",
      " 16  NumberOfDependents                    131428 non-null  object \n",
      " 17  Good_Bad                              134999 non-null  object \n",
      "dtypes: float64(11), object(7)\n",
      "memory usage: 19.6+ MB\n"
     ]
    }
   ],
   "source": [
    "## Finding the information about the data using info in pandas \n",
    "\n",
    "training_data.info()"
   ]
  },
  {
   "cell_type": "markdown",
   "id": "6b3fdb91",
   "metadata": {},
   "source": [
    "### Lets find whether data is having complete information or not "
   ]
  },
  {
   "cell_type": "code",
   "execution_count": 17,
   "id": "642cea2d",
   "metadata": {},
   "outputs": [
    {
     "data": {
      "text/plain": [
       "NPA Status                                  2\n",
       "RevolvingUtilizationOfUnsecuredLines        2\n",
       "age                                         2\n",
       "Gender                                      2\n",
       "Region                                      2\n",
       "MonthlyIncome                           26791\n",
       "Rented_OwnHouse                             2\n",
       "Occupation                                  2\n",
       "Education                                   2\n",
       "NumberOfTime30-59DaysPastDueNotWorse        2\n",
       "DebtRatio                                   2\n",
       "MonthlyIncome.1                         26791\n",
       "NumberOfOpenCreditLinesAndLoans             2\n",
       "NumberOfTimes90DaysLate                     2\n",
       "NumberRealEstateLoansOrLines                2\n",
       "NumberOfTime60-89DaysPastDueNotWorse        2\n",
       "NumberOfDependents                       3573\n",
       "Good_Bad                                    2\n",
       "dtype: int64"
      ]
     },
     "execution_count": 17,
     "metadata": {},
     "output_type": "execute_result"
    }
   ],
   "source": [
    "# checking with null values \n",
    "\n",
    "training_data.isnull().sum()"
   ]
  },
  {
   "cell_type": "code",
   "execution_count": 18,
   "id": "8a7b3b27",
   "metadata": {
    "scrolled": true
   },
   "outputs": [
    {
     "data": {
      "text/html": [
       "<div>\n",
       "<style scoped>\n",
       "    .dataframe tbody tr th:only-of-type {\n",
       "        vertical-align: middle;\n",
       "    }\n",
       "\n",
       "    .dataframe tbody tr th {\n",
       "        vertical-align: top;\n",
       "    }\n",
       "\n",
       "    .dataframe thead th {\n",
       "        text-align: right;\n",
       "    }\n",
       "</style>\n",
       "<table border=\"1\" class=\"dataframe\">\n",
       "  <thead>\n",
       "    <tr style=\"text-align: right;\">\n",
       "      <th></th>\n",
       "      <th>NPA Status</th>\n",
       "      <th>RevolvingUtilizationOfUnsecuredLines</th>\n",
       "      <th>age</th>\n",
       "      <th>Gender</th>\n",
       "      <th>Region</th>\n",
       "      <th>MonthlyIncome</th>\n",
       "      <th>Rented_OwnHouse</th>\n",
       "      <th>Occupation</th>\n",
       "      <th>Education</th>\n",
       "      <th>NumberOfTime30-59DaysPastDueNotWorse</th>\n",
       "      <th>DebtRatio</th>\n",
       "      <th>MonthlyIncome.1</th>\n",
       "      <th>NumberOfOpenCreditLinesAndLoans</th>\n",
       "      <th>NumberOfTimes90DaysLate</th>\n",
       "      <th>NumberRealEstateLoansOrLines</th>\n",
       "      <th>NumberOfTime60-89DaysPastDueNotWorse</th>\n",
       "      <th>NumberOfDependents</th>\n",
       "      <th>Good_Bad</th>\n",
       "    </tr>\n",
       "  </thead>\n",
       "  <tbody>\n",
       "    <tr>\n",
       "      <th>36543</th>\n",
       "      <td>0.0</td>\n",
       "      <td>0.045524</td>\n",
       "      <td>64.0</td>\n",
       "      <td>Male</td>\n",
       "      <td>North</td>\n",
       "      <td>7053.0</td>\n",
       "      <td>Ownhouse</td>\n",
       "      <td>Self_Emp</td>\n",
       "      <td>Matric</td>\n",
       "      <td>0.0</td>\n",
       "      <td>0.227389</td>\n",
       "      <td>7053.0</td>\n",
       "      <td>5.0</td>\n",
       "      <td>0.0</td>\n",
       "      <td>2.0</td>\n",
       "      <td>0.0</td>\n",
       "      <td>0.0</td>\n",
       "      <td>Good</td>\n",
       "    </tr>\n",
       "    <tr>\n",
       "      <th>141209</th>\n",
       "      <td>0.0</td>\n",
       "      <td>0.000000</td>\n",
       "      <td>42.0</td>\n",
       "      <td>Male</td>\n",
       "      <td>West</td>\n",
       "      <td>6200.0</td>\n",
       "      <td>Rented</td>\n",
       "      <td>Self_Emp</td>\n",
       "      <td>Professional</td>\n",
       "      <td>0.0</td>\n",
       "      <td>0.259313</td>\n",
       "      <td>6200.0</td>\n",
       "      <td>4.0</td>\n",
       "      <td>0.0</td>\n",
       "      <td>1.0</td>\n",
       "      <td>0.0</td>\n",
       "      <td>3</td>\n",
       "      <td>Good</td>\n",
       "    </tr>\n",
       "  </tbody>\n",
       "</table>\n",
       "</div>"
      ],
      "text/plain": [
       "        NPA Status  RevolvingUtilizationOfUnsecuredLines   age Gender Region  \\\n",
       "36543          0.0                              0.045524  64.0   Male  North   \n",
       "141209         0.0                              0.000000  42.0   Male   West   \n",
       "\n",
       "        MonthlyIncome Rented_OwnHouse Occupation     Education  \\\n",
       "36543          7053.0        Ownhouse   Self_Emp        Matric   \n",
       "141209         6200.0          Rented   Self_Emp  Professional   \n",
       "\n",
       "        NumberOfTime30-59DaysPastDueNotWorse  DebtRatio  MonthlyIncome.1  \\\n",
       "36543                                    0.0   0.227389           7053.0   \n",
       "141209                                   0.0   0.259313           6200.0   \n",
       "\n",
       "        NumberOfOpenCreditLinesAndLoans  NumberOfTimes90DaysLate  \\\n",
       "36543                               5.0                      0.0   \n",
       "141209                              4.0                      0.0   \n",
       "\n",
       "        NumberRealEstateLoansOrLines  NumberOfTime60-89DaysPastDueNotWorse  \\\n",
       "36543                            2.0                                   0.0   \n",
       "141209                           1.0                                   0.0   \n",
       "\n",
       "       NumberOfDependents Good_Bad  \n",
       "36543                 0.0     Good  \n",
       "141209                  3     Good  "
      ]
     },
     "execution_count": 18,
     "metadata": {},
     "output_type": "execute_result"
    }
   ],
   "source": [
    "training_data.tail(2)"
   ]
  },
  {
   "cell_type": "code",
   "execution_count": 19,
   "id": "72e33782",
   "metadata": {},
   "outputs": [
    {
     "data": {
      "text/html": [
       "<div>\n",
       "<style scoped>\n",
       "    .dataframe tbody tr th:only-of-type {\n",
       "        vertical-align: middle;\n",
       "    }\n",
       "\n",
       "    .dataframe tbody tr th {\n",
       "        vertical-align: top;\n",
       "    }\n",
       "\n",
       "    .dataframe thead th {\n",
       "        text-align: right;\n",
       "    }\n",
       "</style>\n",
       "<table border=\"1\" class=\"dataframe\">\n",
       "  <thead>\n",
       "    <tr style=\"text-align: right;\">\n",
       "      <th></th>\n",
       "      <th>NPA Status</th>\n",
       "      <th>RevolvingUtilizationOfUnsecuredLines</th>\n",
       "      <th>age</th>\n",
       "      <th>Gender</th>\n",
       "      <th>Region</th>\n",
       "      <th>MonthlyIncome</th>\n",
       "      <th>Rented_OwnHouse</th>\n",
       "      <th>Occupation</th>\n",
       "      <th>Education</th>\n",
       "      <th>NumberOfTime30-59DaysPastDueNotWorse</th>\n",
       "      <th>DebtRatio</th>\n",
       "      <th>MonthlyIncome.1</th>\n",
       "      <th>NumberOfOpenCreditLinesAndLoans</th>\n",
       "      <th>NumberOfTimes90DaysLate</th>\n",
       "      <th>NumberRealEstateLoansOrLines</th>\n",
       "      <th>NumberOfTime60-89DaysPastDueNotWorse</th>\n",
       "      <th>NumberOfDependents</th>\n",
       "      <th>Good_Bad</th>\n",
       "    </tr>\n",
       "  </thead>\n",
       "  <tbody>\n",
       "  </tbody>\n",
       "</table>\n",
       "</div>"
      ],
      "text/plain": [
       "Empty DataFrame\n",
       "Columns: [NPA Status, RevolvingUtilizationOfUnsecuredLines, age, Gender, Region, MonthlyIncome, Rented_OwnHouse, Occupation, Education, NumberOfTime30-59DaysPastDueNotWorse, DebtRatio, MonthlyIncome.1, NumberOfOpenCreditLinesAndLoans, NumberOfTimes90DaysLate, NumberRealEstateLoansOrLines, NumberOfTime60-89DaysPastDueNotWorse, NumberOfDependents, Good_Bad]\n",
       "Index: []"
      ]
     },
     "execution_count": 19,
     "metadata": {},
     "output_type": "execute_result"
    }
   ],
   "source": [
    "training_data[training_data['NPA Status'] == 'NaN']"
   ]
  },
  {
   "cell_type": "code",
   "execution_count": 20,
   "id": "bec77b23",
   "metadata": {},
   "outputs": [
    {
     "data": {
      "text/plain": [
       "Int64Index([150000, 150001], dtype='int64')"
      ]
     },
     "execution_count": 20,
     "metadata": {},
     "output_type": "execute_result"
    }
   ],
   "source": [
    "# deleting 2 rows having null values\n",
    "\n",
    "training_data[training_data['NPA Status'].isnull()].index"
   ]
  },
  {
   "cell_type": "code",
   "execution_count": 21,
   "id": "9cb2731b",
   "metadata": {},
   "outputs": [
    {
     "data": {
      "text/plain": [
       "Int64Index([150000, 150001], dtype='int64')"
      ]
     },
     "execution_count": 21,
     "metadata": {},
     "output_type": "execute_result"
    }
   ],
   "source": [
    "training_data[training_data['RevolvingUtilizationOfUnsecuredLines'].isnull()].index"
   ]
  },
  {
   "cell_type": "code",
   "execution_count": 22,
   "id": "3420b74d",
   "metadata": {},
   "outputs": [
    {
     "data": {
      "text/plain": [
       "Int64Index([150000, 150001], dtype='int64')"
      ]
     },
     "execution_count": 22,
     "metadata": {},
     "output_type": "execute_result"
    }
   ],
   "source": [
    "training_data[training_data['Education'].isnull()].index"
   ]
  },
  {
   "cell_type": "code",
   "execution_count": 23,
   "id": "ce3bce5d",
   "metadata": {},
   "outputs": [],
   "source": [
    "training_data = training_data.drop([150000, 150001],axis = 0)"
   ]
  },
  {
   "cell_type": "code",
   "execution_count": 24,
   "id": "f5901d46",
   "metadata": {},
   "outputs": [
    {
     "data": {
      "text/plain": [
       "NPA Status                                  0\n",
       "RevolvingUtilizationOfUnsecuredLines        0\n",
       "age                                         0\n",
       "Gender                                      0\n",
       "Region                                      0\n",
       "MonthlyIncome                           26789\n",
       "Rented_OwnHouse                             0\n",
       "Occupation                                  0\n",
       "Education                                   0\n",
       "NumberOfTime30-59DaysPastDueNotWorse        0\n",
       "DebtRatio                                   0\n",
       "MonthlyIncome.1                         26789\n",
       "NumberOfOpenCreditLinesAndLoans             0\n",
       "NumberOfTimes90DaysLate                     0\n",
       "NumberRealEstateLoansOrLines                0\n",
       "NumberOfTime60-89DaysPastDueNotWorse        0\n",
       "NumberOfDependents                       3573\n",
       "Good_Bad                                    0\n",
       "dtype: int64"
      ]
     },
     "execution_count": 24,
     "metadata": {},
     "output_type": "execute_result"
    }
   ],
   "source": [
    "training_data.isnull().sum()"
   ]
  },
  {
   "cell_type": "code",
   "execution_count": 25,
   "id": "9724e9af",
   "metadata": {},
   "outputs": [
    {
     "data": {
      "text/plain": [
       "149883     8960.0\n",
       "34945      2120.0\n",
       "120143    17500.0\n",
       "56652      5000.0\n",
       "17440      2750.0\n",
       "22953         NaN\n",
       "2157       9000.0\n",
       "22783     10000.0\n",
       "112543        NaN\n",
       "29731      4300.0\n",
       "Name: MonthlyIncome, dtype: float64"
      ]
     },
     "execution_count": 25,
     "metadata": {},
     "output_type": "execute_result"
    }
   ],
   "source": [
    "training_data['MonthlyIncome'].head(10)"
   ]
  },
  {
   "cell_type": "code",
   "execution_count": 26,
   "id": "fd47391f",
   "metadata": {},
   "outputs": [
    {
     "data": {
      "text/plain": [
       "149883     8960.0\n",
       "34945      2120.0\n",
       "120143    17500.0\n",
       "56652      5000.0\n",
       "17440      2750.0\n",
       "22953         NaN\n",
       "2157       9000.0\n",
       "22783     10000.0\n",
       "112543        NaN\n",
       "29731      4300.0\n",
       "Name: MonthlyIncome.1, dtype: float64"
      ]
     },
     "execution_count": 26,
     "metadata": {},
     "output_type": "execute_result"
    }
   ],
   "source": [
    "training_data['MonthlyIncome.1'].head(10)"
   ]
  },
  {
   "cell_type": "code",
   "execution_count": 27,
   "id": "3f7e2cf7",
   "metadata": {},
   "outputs": [
    {
     "data": {
      "text/plain": [
       "13870.003606951876"
      ]
     },
     "execution_count": 27,
     "metadata": {},
     "output_type": "execute_result"
    }
   ],
   "source": [
    "training_data['MonthlyIncome.1'].std()"
   ]
  },
  {
   "cell_type": "code",
   "execution_count": 28,
   "id": "e870cd0a",
   "metadata": {},
   "outputs": [
    {
     "data": {
      "text/plain": [
       "13870.003606951876"
      ]
     },
     "execution_count": 28,
     "metadata": {},
     "output_type": "execute_result"
    }
   ],
   "source": [
    "training_data['MonthlyIncome'].std()"
   ]
  },
  {
   "cell_type": "code",
   "execution_count": 29,
   "id": "544974b3",
   "metadata": {},
   "outputs": [],
   "source": [
    "# Mothly income and Monthly income1 is having same data so we are going to remove a column out of that \n"
   ]
  },
  {
   "cell_type": "code",
   "execution_count": 30,
   "id": "3381cd0f",
   "metadata": {},
   "outputs": [],
   "source": [
    "training_data = training_data.drop(['MonthlyIncome.1'],axis = 1)"
   ]
  },
  {
   "cell_type": "code",
   "execution_count": 31,
   "id": "f31cd3ae",
   "metadata": {},
   "outputs": [
    {
     "data": {
      "text/plain": [
       "NPA Status                                  0\n",
       "RevolvingUtilizationOfUnsecuredLines        0\n",
       "age                                         0\n",
       "Gender                                      0\n",
       "Region                                      0\n",
       "MonthlyIncome                           26789\n",
       "Rented_OwnHouse                             0\n",
       "Occupation                                  0\n",
       "Education                                   0\n",
       "NumberOfTime30-59DaysPastDueNotWorse        0\n",
       "DebtRatio                                   0\n",
       "NumberOfOpenCreditLinesAndLoans             0\n",
       "NumberOfTimes90DaysLate                     0\n",
       "NumberRealEstateLoansOrLines                0\n",
       "NumberOfTime60-89DaysPastDueNotWorse        0\n",
       "NumberOfDependents                       3573\n",
       "Good_Bad                                    0\n",
       "dtype: int64"
      ]
     },
     "execution_count": 31,
     "metadata": {},
     "output_type": "execute_result"
    }
   ],
   "source": [
    "training_data.isnull().sum()"
   ]
  },
  {
   "cell_type": "code",
   "execution_count": 32,
   "id": "89d191e4",
   "metadata": {},
   "outputs": [
    {
     "data": {
      "text/plain": [
       "149883      3\n",
       "34945     4.0\n",
       "Name: NumberOfDependents, dtype: object"
      ]
     },
     "execution_count": 32,
     "metadata": {},
     "output_type": "execute_result"
    }
   ],
   "source": [
    "training_data['NumberOfDependents'].head(2)"
   ]
  },
  {
   "cell_type": "markdown",
   "id": "3cfc8ac5",
   "metadata": {},
   "source": [
    "## Handling the null values "
   ]
  },
  {
   "cell_type": "code",
   "execution_count": 33,
   "id": "a812a9cd",
   "metadata": {},
   "outputs": [],
   "source": [
    "import re "
   ]
  },
  {
   "cell_type": "code",
   "execution_count": 34,
   "id": "1439bc67",
   "metadata": {},
   "outputs": [
    {
     "data": {
      "text/plain": [
       "3573"
      ]
     },
     "execution_count": 34,
     "metadata": {},
     "output_type": "execute_result"
    }
   ],
   "source": [
    "training_data['NumberOfDependents'].isnull().sum()"
   ]
  },
  {
   "cell_type": "code",
   "execution_count": 35,
   "id": "7063cbbf",
   "metadata": {},
   "outputs": [
    {
     "data": {
      "text/html": [
       "<div>\n",
       "<style scoped>\n",
       "    .dataframe tbody tr th:only-of-type {\n",
       "        vertical-align: middle;\n",
       "    }\n",
       "\n",
       "    .dataframe tbody tr th {\n",
       "        vertical-align: top;\n",
       "    }\n",
       "\n",
       "    .dataframe thead th {\n",
       "        text-align: right;\n",
       "    }\n",
       "</style>\n",
       "<table border=\"1\" class=\"dataframe\">\n",
       "  <thead>\n",
       "    <tr style=\"text-align: right;\">\n",
       "      <th></th>\n",
       "      <th>NPA Status</th>\n",
       "      <th>RevolvingUtilizationOfUnsecuredLines</th>\n",
       "      <th>age</th>\n",
       "      <th>Gender</th>\n",
       "      <th>Region</th>\n",
       "      <th>MonthlyIncome</th>\n",
       "      <th>Rented_OwnHouse</th>\n",
       "      <th>Occupation</th>\n",
       "      <th>Education</th>\n",
       "      <th>NumberOfTime30-59DaysPastDueNotWorse</th>\n",
       "      <th>DebtRatio</th>\n",
       "      <th>NumberOfOpenCreditLinesAndLoans</th>\n",
       "      <th>NumberOfTimes90DaysLate</th>\n",
       "      <th>NumberRealEstateLoansOrLines</th>\n",
       "      <th>NumberOfTime60-89DaysPastDueNotWorse</th>\n",
       "      <th>NumberOfDependents</th>\n",
       "      <th>Good_Bad</th>\n",
       "    </tr>\n",
       "  </thead>\n",
       "  <tbody>\n",
       "    <tr>\n",
       "      <th>59646</th>\n",
       "      <td>0.0</td>\n",
       "      <td>0.02171</td>\n",
       "      <td>72.0</td>\n",
       "      <td>Male</td>\n",
       "      <td>Central</td>\n",
       "      <td>NaN</td>\n",
       "      <td>Ownhouse</td>\n",
       "      <td>Officer2</td>\n",
       "      <td>Professional</td>\n",
       "      <td>0.0</td>\n",
       "      <td>139.0</td>\n",
       "      <td>10.0</td>\n",
       "      <td>0.0</td>\n",
       "      <td>1.0</td>\n",
       "      <td>0.0</td>\n",
       "      <td>NaN</td>\n",
       "      <td>Good</td>\n",
       "    </tr>\n",
       "  </tbody>\n",
       "</table>\n",
       "</div>"
      ],
      "text/plain": [
       "       NPA Status  RevolvingUtilizationOfUnsecuredLines   age Gender   Region  \\\n",
       "59646         0.0                               0.02171  72.0   Male  Central   \n",
       "\n",
       "       MonthlyIncome Rented_OwnHouse Occupation     Education  \\\n",
       "59646            NaN        Ownhouse   Officer2  Professional   \n",
       "\n",
       "       NumberOfTime30-59DaysPastDueNotWorse  DebtRatio  \\\n",
       "59646                                   0.0      139.0   \n",
       "\n",
       "       NumberOfOpenCreditLinesAndLoans  NumberOfTimes90DaysLate  \\\n",
       "59646                             10.0                      0.0   \n",
       "\n",
       "       NumberRealEstateLoansOrLines  NumberOfTime60-89DaysPastDueNotWorse  \\\n",
       "59646                           1.0                                   0.0   \n",
       "\n",
       "      NumberOfDependents Good_Bad  \n",
       "59646                NaN     Good  "
      ]
     },
     "execution_count": 35,
     "metadata": {},
     "output_type": "execute_result"
    }
   ],
   "source": [
    "training_data[training_data['NumberOfDependents'].isnull()].head(1)"
   ]
  },
  {
   "cell_type": "code",
   "execution_count": 36,
   "id": "ad6a9958",
   "metadata": {},
   "outputs": [
    {
     "data": {
      "text/plain": [
       "dtype('O')"
      ]
     },
     "execution_count": 36,
     "metadata": {},
     "output_type": "execute_result"
    }
   ],
   "source": [
    "training_data['NumberOfDependents'].dtype"
   ]
  },
  {
   "cell_type": "code",
   "execution_count": 37,
   "id": "5ba7395d",
   "metadata": {},
   "outputs": [],
   "source": [
    "training_data['NumberOfDependents'] = pd.to_numeric(training_data['NumberOfDependents'])"
   ]
  },
  {
   "cell_type": "code",
   "execution_count": 38,
   "id": "63c0b477",
   "metadata": {},
   "outputs": [],
   "source": [
    "mean = training_data['NumberOfDependents'].mean()\n",
    "median = training_data['NumberOfDependents'].median()\n",
    "mode = training_data['NumberOfDependents'].mode()[0]\n"
   ]
  },
  {
   "cell_type": "code",
   "execution_count": 39,
   "id": "1c1bc7bc",
   "metadata": {},
   "outputs": [
    {
     "name": "stdout",
     "output_type": "stream",
     "text": [
      "mean of Number of Dependents = 0.7576354754766941\n",
      "median of Number of Dependents = 0.0\n",
      "mode of Number of Dependents = 0.0\n"
     ]
    }
   ],
   "source": [
    "print(f'mean of Number of Dependents = {mean}')\n",
    "print(f'median of Number of Dependents = {median}')\n",
    "print(f'mode of Number of Dependents = {mode}')"
   ]
  },
  {
   "cell_type": "code",
   "execution_count": 40,
   "id": "55ccc392",
   "metadata": {},
   "outputs": [],
   "source": [
    "def null_logic(data , var , value):\n",
    "    data[var+'_mean_replaced'] = data[var].fillna(value)\n",
    "    data[var+'_median_replaced'] = data[var].fillna(value)\n",
    "    data[var+'_mode_replaced'] = data[var].fillna(value)"
   ]
  },
  {
   "cell_type": "code",
   "execution_count": 41,
   "id": "b1f21196",
   "metadata": {},
   "outputs": [],
   "source": [
    "for i in range(3):\n",
    "    null_logic(training_data ,'NumberOfDependents',mean)\n",
    "    null_logic(training_data ,'NumberOfDependents',median)\n",
    "    null_logic(training_data , 'NumberOfDependents',mode)"
   ]
  },
  {
   "cell_type": "code",
   "execution_count": 42,
   "id": "c82ba51f",
   "metadata": {},
   "outputs": [
    {
     "data": {
      "text/plain": [
       "Index(['NPA Status', 'RevolvingUtilizationOfUnsecuredLines', 'age', 'Gender',\n",
       "       'Region', 'MonthlyIncome', 'Rented_OwnHouse', 'Occupation', 'Education',\n",
       "       'NumberOfTime30-59DaysPastDueNotWorse', 'DebtRatio',\n",
       "       'NumberOfOpenCreditLinesAndLoans', 'NumberOfTimes90DaysLate',\n",
       "       'NumberRealEstateLoansOrLines', 'NumberOfTime60-89DaysPastDueNotWorse',\n",
       "       'NumberOfDependents', 'Good_Bad', 'NumberOfDependents_mean_replaced',\n",
       "       'NumberOfDependents_median_replaced',\n",
       "       'NumberOfDependents_mode_replaced'],\n",
       "      dtype='object')"
      ]
     },
     "execution_count": 42,
     "metadata": {},
     "output_type": "execute_result"
    }
   ],
   "source": [
    "training_data.columns"
   ]
  },
  {
   "cell_type": "code",
   "execution_count": 43,
   "id": "98c8aa62",
   "metadata": {},
   "outputs": [
    {
     "data": {
      "image/png": "[encoded data removed]",
      "text/plain": [
       "<Figure size 432x288 with 1 Axes>"
      ]
     },
     "metadata": {
      "needs_background": "light"
     },
     "output_type": "display_data"
    }
   ],
   "source": [
    "fig = plt.figure()\n",
    "ax = fig.add_subplot(1,1,1)\n",
    "training_data['NumberOfDependents'].plot(kind = 'kde' , ax = ax,color = 'r',label = 'NumberOfDependents')\n",
    "training_data['NumberOfDependents_mean_replaced'].plot(kind = 'kde' , ax = ax,color = 'g',label = 'NumberOfDependents_mean')\n",
    "training_data['NumberOfDependents_median_replaced'].plot(kind = 'kde' , ax = ax,color = 'b',label = 'NumberOfDependents_median')\n",
    "training_data['NumberOfDependents_mode_replaced'].plot(kind = 'kde' , ax = ax,color = 'y',label = 'NumberOfDependents_mode')\n",
    "plt.legend(loc = 0)\n",
    "plt.show()"
   ]
  },
  {
   "cell_type": "markdown",
   "id": "549d3882",
   "metadata": {},
   "source": [
    "- Finding the std for replaced values with comparing original values \n"
   ]
  },
  {
   "cell_type": "code",
   "execution_count": 44,
   "id": "a8273ecf",
   "metadata": {},
   "outputs": [
    {
     "name": "stdout",
     "output_type": "stream",
     "text": [
      "std with original variable :  1.1153006209039351\n",
      "std with Mean_replaced variable :  1.1071420512947108\n",
      "std with Median_replaced variable :  1.1071420512947108\n",
      "std with Mode_replaced variable :  1.1071420512947108\n"
     ]
    }
   ],
   "source": [
    "print('std with original variable : ',training_data['NumberOfDependents'].std())\n",
    "print('std with Mean_replaced variable : ',training_data['NumberOfDependents_mean_replaced'].std())\n",
    "print('std with Median_replaced variable : ',training_data['NumberOfDependents_median_replaced'].std())\n",
    "print('std with Mode_replaced variable : ',training_data['NumberOfDependents_mode_replaced'].std())"
   ]
  },
  {
   "cell_type": "code",
   "execution_count": 47,
   "id": "25df960e",
   "metadata": {},
   "outputs": [
    {
     "data": {
      "text/plain": [
       "0.008158569609224342"
      ]
     },
     "execution_count": 47,
     "metadata": {},
     "output_type": "execute_result"
    }
   ],
   "source": [
    "1.1153006209039351 - 1.1071420512947108 # difference "
   ]
  },
  {
   "cell_type": "code",
   "execution_count": 48,
   "id": "11fd72e9",
   "metadata": {},
   "outputs": [],
   "source": [
    "# for the NumberOfDependents col we can go with mean since std are close to each other"
   ]
  },
  {
   "cell_type": "code",
   "execution_count": 49,
   "id": "3250e64a",
   "metadata": {},
   "outputs": [],
   "source": [
    "# Now another feature has null values will do that :)"
   ]
  },
  {
   "cell_type": "code",
   "execution_count": 57,
   "id": "ad80ced5",
   "metadata": {},
   "outputs": [
    {
     "data": {
      "text/plain": [
       "dtype('float64')"
      ]
     },
     "execution_count": 57,
     "metadata": {},
     "output_type": "execute_result"
    }
   ],
   "source": [
    "training_data['MonthlyIncome'].dtype                           "
   ]
  },
  {
   "cell_type": "code",
   "execution_count": 58,
   "id": "9543b0b4",
   "metadata": {},
   "outputs": [],
   "source": [
    "\n",
    "mean_me = training_data['MonthlyIncome'].mean()\n",
    "median_m = training_data['MonthlyIncome'].median()\n",
    "mode_m = training_data['MonthlyIncome'].mode()\n"
   ]
  },
  {
   "cell_type": "code",
   "execution_count": 59,
   "id": "5db6f6ed",
   "metadata": {},
   "outputs": [],
   "source": [
    "for i in range(3):\n",
    "    null_logic(training_data ,'MonthlyIncome',mean_me)\n",
    "    null_logic(training_data ,'MonthlyIncome',median_m)\n",
    "    null_logic(training_data , 'MonthlyIncome',mode_m)"
   ]
  },
  {
   "cell_type": "code",
   "execution_count": 60,
   "id": "f58715ed",
   "metadata": {},
   "outputs": [],
   "source": [
    "# checking the plot for stats verification "
   ]
  },
  {
   "cell_type": "code",
   "execution_count": 61,
   "id": "9dc205a9",
   "metadata": {},
   "outputs": [
    {
     "data": {
      "text/plain": [
       "Index(['NPA Status', 'RevolvingUtilizationOfUnsecuredLines', 'age', 'Gender',\n",
       "       'Region', 'MonthlyIncome', 'Rented_OwnHouse', 'Occupation', 'Education',\n",
       "       'NumberOfTime30-59DaysPastDueNotWorse', 'DebtRatio',\n",
       "       'NumberOfOpenCreditLinesAndLoans', 'NumberOfTimes90DaysLate',\n",
       "       'NumberRealEstateLoansOrLines', 'NumberOfTime60-89DaysPastDueNotWorse',\n",
       "       'NumberOfDependents', 'Good_Bad', 'NumberOfDependents_mean_replaced',\n",
       "       'NumberOfDependents_median_replaced',\n",
       "       'NumberOfDependents_mode_replaced', 'MonthlyIncome_mean_replaced',\n",
       "       'MonthlyIncome_median_replaced', 'MonthlyIncome_mode_replaced'],\n",
       "      dtype='object')"
      ]
     },
     "execution_count": 61,
     "metadata": {},
     "output_type": "execute_result"
    }
   ],
   "source": [
    "training_data.columns"
   ]
  },
  {
   "cell_type": "code",
   "execution_count": 62,
   "id": "2e4feac8",
   "metadata": {},
   "outputs": [
    {
     "data": {
      "image/png": "[encoded data removed]",
      "text/plain": [
       "<Figure size 432x288 with 1 Axes>"
      ]
     },
     "metadata": {
      "needs_background": "light"
     },
     "output_type": "display_data"
    }
   ],
   "source": [
    "\n",
    "fig = plt.figure()\n",
    "ax = fig.add_subplot(1,1,1)\n",
    "training_data['MonthlyIncome'].plot(kind = 'kde' , ax = ax,color = 'r',label = 'MothlyIncome')\n",
    "training_data['MonthlyIncome_mean_replaced'].plot(kind = 'kde' , ax = ax,color = 'g',label = 'MothlyIncome_mean')\n",
    "training_data['MonthlyIncome_median_replaced'].plot(kind = 'kde' , ax = ax,color = 'b',label = 'MothlyIncome_median')\n",
    "training_data['MonthlyIncome_mode_replaced'].plot(kind = 'kde' , ax = ax,color = 'y',label = 'MothlyIncome_mode')\n",
    "plt.legend(loc = 0)\n",
    "plt.show()\n"
   ]
  },
  {
   "cell_type": "code",
   "execution_count": 63,
   "id": "562fbd75",
   "metadata": {},
   "outputs": [
    {
     "name": "stdout",
     "output_type": "stream",
     "text": [
      "std with Monthly original variable :  13870.003606951876\n",
      "std with Mean_replaced variable :  13870.003606951876\n",
      "std with Median_replaced variable :  13870.003606951876\n",
      "std with Mode_replaced variable :  13870.003606951876\n"
     ]
    }
   ],
   "source": [
    "print('std with Monthly original variable : ',training_data['MonthlyIncome'].std())\n",
    "print('std with Mean_replaced variable : ',training_data['MonthlyIncome_mean_replaced'].std())\n",
    "print('std with Median_replaced variable : ',training_data['MonthlyIncome_median_replaced'].std())\n",
    "print('std with Mode_replaced variable : ',training_data['MonthlyIncome_mode_replaced'].std())"
   ]
  },
  {
   "cell_type": "code",
   "execution_count": 64,
   "id": "7f49463b",
   "metadata": {},
   "outputs": [],
   "source": [
    "#  since std is close with means lets fix with mean for this feature "
   ]
  },
  {
   "cell_type": "code",
   "execution_count": 65,
   "id": "ec3ecf46",
   "metadata": {},
   "outputs": [
    {
     "data": {
      "text/plain": [
       "<AxesSubplot:ylabel='Density'>"
      ]
     },
     "execution_count": 65,
     "metadata": {},
     "output_type": "execute_result"
    },
    {
     "data": {
      "image/png": "[encoded data removed]",
      "text/plain": [
       "<Figure size 432x288 with 1 Axes>"
      ]
     },
     "metadata": {
      "needs_background": "light"
     },
     "output_type": "display_data"
    }
   ],
   "source": [
    "training_data['MonthlyIncome'].plot.density()"
   ]
  },
  {
   "cell_type": "code",
   "execution_count": null,
   "id": "b1be1a56",
   "metadata": {},
   "outputs": [],
   "source": []
  }
 ],
 "metadata": {
  "kernelspec": {
   "display_name": "Python 3 (ipykernel)",
   "language": "python",
   "name": "python3"
  },
  "language_info": {
   "codemirror_mode": {
    "name": "ipython",
    "version": 3
   },
   "file_extension": ".py",
   "mimetype": "text/x-python",
   "name": "python",
   "nbconvert_exporter": "python",
   "pygments_lexer": "ipython3",
   "version": "3.9.12"
  }
 },
 "nbformat": 4,
 "nbformat_minor": 5
}
